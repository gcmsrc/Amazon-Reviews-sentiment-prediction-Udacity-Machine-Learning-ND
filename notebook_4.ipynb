{
 "cells": [
  {
   "cell_type": "markdown",
   "metadata": {},
   "source": [
    "# Machine Learning Engineer Nanodegree - Capstone Project\n",
    "## PART 4: Averages of Word2vec's vectors"
   ]
  },
  {
   "cell_type": "markdown",
   "metadata": {},
   "source": [
    "**Author:** Giacomo Sarchioni"
   ]
  },
  {
   "cell_type": "markdown",
   "metadata": {},
   "source": [
    "## Introduction\n",
    "Before diving into complex architectures, one strategy - as explained in the *Bag of Words Meets Bags of Popcorn* tutorial - would be to:\n",
    "\n",
    "* initialise a zero vector with the same dimension of our word vectors (e.g. 300). Let's call this vector `v`;\n",
    "* loop throuhg every word in a review. If the word has been vectorised in our word2vec model, then we add each dimension of the word vector representation to the `v` (otherwise we move to the next word in the review;\n",
    "* we divide `v` by the number of vector words we added (we kind of do an average).\n",
    "  \n",
    "In the end, we are taking the average of our word vectors within a given review. In other words, given a vector representation of words, if we had to represent a sentence (a document, a review) as a vector with the same number of dimensions, what would be the most immediate thing to do? Well, take the average of all its word vector components.  \n",
    "At the end of this process, we would get a single 300-D (if word2vec size is 300) vector which represents a single review.  \n",
    "We can then feed such input data to the same Logistic Regression classifier defined before.  "
   ]
  },
  {
   "cell_type": "code",
   "execution_count": 2,
   "metadata": {},
   "outputs": [],
   "source": [
    "# Module imports\n",
    "import pickle as pkl\n",
    "import pandas as pd\n",
    "%matplotlib inline\n",
    "import matplotlib.pyplot as plt\n",
    "import numpy as np\n",
    "from gensim.models import Word2Vec\n",
    "from average_word2vec import *\n",
    "from sklearn.linear_model import LogisticRegression\n",
    "from roc_chart import ROCChart\n",
    "from naive_classifier import NaiveModel\n",
    "from sklearn.externals import joblib\n",
    "\n",
    "random_seed = 42"
   ]
  },
  {
   "cell_type": "markdown",
   "metadata": {},
   "source": [
    "## Import data"
   ]
  },
  {
   "cell_type": "code",
   "execution_count": 3,
   "metadata": {},
   "outputs": [],
   "source": [
    "# Load reviews\n",
    "with open('reviews/sentiment_reviews/sentiment.pkl', 'rb') as f:\n",
    "    sentiment_reviews = pkl.load(f)\n",
    "    \n",
    "# Load indexes\n",
    "with open('split_indexes/indexes.pkl', 'rb') as f:\n",
    "    indexes = pkl.load(f)"
   ]
  },
  {
   "cell_type": "code",
   "execution_count": 5,
   "metadata": {},
   "outputs": [],
   "source": [
    "# Extract scores\n",
    "scores = sentiment_reviews.adj_score.values\n",
    "\n",
    "# Extract non-test and test scores\n",
    "non_test_scores = scores[indexes['non_test']]\n",
    "test_scores = scores[indexes['test']]\n",
    "\n",
    "# Extract train and validation scores\n",
    "train_scores = non_test_scores[indexes['train']]\n",
    "val_scores = non_test_scores[indexes['val']]\n",
    "\n",
    "# Extract parser_two_reviews \n",
    "parser_two_reviews = sentiment_reviews.loc[:,'parser_two'].values\n",
    "\n",
    "# Extract parser_one_reviews \n",
    "parser_one_reviews = sentiment_reviews.loc[:,'parser_one'].values"
   ]
  },
  {
   "cell_type": "code",
   "execution_count": 9,
   "metadata": {},
   "outputs": [],
   "source": [
    "# Load word2vec skip-gram model\n",
    "w2v_skipgra_model = Word2Vec.load('word2vec_models/default_sgram_word2vec.hdf5')"
   ]
  },
  {
   "cell_type": "markdown",
   "metadata": {},
   "source": [
    "## Transform reviews into averages of Word2vec's vectors"
   ]
  },
  {
   "cell_type": "code",
   "execution_count": 10,
   "metadata": {},
   "outputs": [],
   "source": [
    "# Transform all reviews\n",
    "parser_two_reviews_w2v_avg = vectorise_review_set(parser_two_reviews,\n",
    "                                                  w2v_skipgra_model,\n",
    "                                                  vectors_vocab = set(w2v_skipgra_model.wv.index2word), \n",
    "                                                  wv_dimension=300)"
   ]
  },
  {
   "cell_type": "markdown",
   "metadata": {},
   "source": [
    "Let's have a look at one transformed review as an example."
   ]
  },
  {
   "cell_type": "code",
   "execution_count": 12,
   "metadata": {},
   "outputs": [
    {
     "data": {
      "text/plain": [
       "(300,)"
      ]
     },
     "execution_count": 12,
     "metadata": {},
     "output_type": "execute_result"
    }
   ],
   "source": [
    "parser_two_reviews_w2v_avg[0].shape"
   ]
  },
  {
   "cell_type": "code",
   "execution_count": 13,
   "metadata": {},
   "outputs": [],
   "source": [
    "# Extract non test parser two reviews and scores\n",
    "non_test_parser_two_reviews_w2v_avg = parser_two_reviews_w2v_avg[indexes['non_test']]\n",
    "test_parser_two_reviews_w2v_avg = parser_two_reviews_w2v_avg[indexes['test']]\n",
    "\n",
    "# Extract train and validation parser-two reviews\n",
    "train_parser_two_reviews_w2v_avg = non_test_parser_two_reviews_w2v_avg[indexes['train']]\n",
    "val_parser_two_reviews_w2v_avg = non_test_parser_two_reviews_w2v_avg[indexes['val']]"
   ]
  },
  {
   "cell_type": "markdown",
   "metadata": {},
   "source": [
    "### Performance on validation data"
   ]
  },
  {
   "cell_type": "code",
   "execution_count": 22,
   "metadata": {},
   "outputs": [
    {
     "data": {
      "text/plain": [
       "LogisticRegression(C=1.0, class_weight=None, dual=False, fit_intercept=True,\n",
       "          intercept_scaling=1, max_iter=100, multi_class='ovr', n_jobs=-1,\n",
       "          penalty='l2', random_state=42, solver='sag', tol=0.0001,\n",
       "          verbose=0, warm_start=False)"
      ]
     },
     "execution_count": 22,
     "metadata": {},
     "output_type": "execute_result"
    }
   ],
   "source": [
    "w2v_avg_log_reg = LogisticRegression(random_state=random_seed, solver='sag', n_jobs=-1)\n",
    "w2v_avg_log_reg.fit(train_parser_two_reviews_w2v_avg, train_scores)"
   ]
  },
  {
   "cell_type": "code",
   "execution_count": 23,
   "metadata": {},
   "outputs": [],
   "source": [
    "# Predict sentiment on validation data\n",
    "w2v_avg_val_pred = w2v_avg_log_reg.predict(val_parser_two_reviews_w2v_avg)"
   ]
  },
  {
   "cell_type": "code",
   "execution_count": 24,
   "metadata": {},
   "outputs": [
    {
     "name": "stdout",
     "output_type": "stream",
     "text": [
      "AUC score for Avg of Word2vec is 0.7746\n"
     ]
    },
    {
     "data": {
      "image/png": "[encoded data removed]",
      "text/plain": [
       "<matplotlib.figure.Figure at 0x7ff452cda400>"
      ]
     },
     "metadata": {},
     "output_type": "display_data"
    }
   ],
   "source": [
    "# Plot chart\n",
    "w2v_avg_val_chart = ROCChart(val_scores,\n",
    "                             [w2v_avg_val_pred],\n",
    "                             ['Avg of Word2vec'], 'Logistic Reg on Validation Set')\n",
    "w2v_avg_val_chart.plot()"
   ]
  },
  {
   "cell_type": "code",
   "execution_count": 55,
   "metadata": {},
   "outputs": [
    {
     "data": {
      "text/plain": [
       "['avg_w2v_model/avg_w2v_lr_model.pkl']"
      ]
     },
     "execution_count": 55,
     "metadata": {},
     "output_type": "execute_result"
    }
   ],
   "source": [
    "# Save average of Word2vec's vectors model\n",
    "joblib.dump(w2v_avg_log_reg, 'avg_w2v_model/avg_w2v_lr_model.pkl')"
   ]
  }
 ],
 "metadata": {
  "kernelspec": {
   "display_name": "Python [conda env:python3]",
   "language": "python",
   "name": "conda-env-python3-py"
  },
  "language_info": {
   "codemirror_mode": {
    "name": "ipython",
    "version": 3
   },
   "file_extension": ".py",
   "mimetype": "text/x-python",
   "name": "python",
   "nbconvert_exporter": "python",
   "pygments_lexer": "ipython3",
   "version": "3.6.4"
  }
 },
 "nbformat": 4,
 "nbformat_minor": 2
}
