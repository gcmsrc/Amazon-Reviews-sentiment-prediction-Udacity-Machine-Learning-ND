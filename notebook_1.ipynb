{
 "cells": [
  {
   "cell_type": "markdown",
   "metadata": {},
   "source": [
    "# Machine Learning Engineer Nanodegree - Capstone Project\n",
    "## PART 1: EDA and Data preprocessing"
   ]
  },
  {
   "cell_type": "markdown",
   "metadata": {},
   "source": [
    "**Author:** Giacomo Sarchioni"
   ]
  },
  {
   "cell_type": "markdown",
   "metadata": {},
   "source": [
    "## Module imports"
   ]
  },
  {
   "cell_type": "code",
   "execution_count": 3,
   "metadata": {},
   "outputs": [],
   "source": [
    "# Import modules for this notebook\n",
    "%matplotlib inline\n",
    "import matplotlib.pyplot as plt\n",
    "import pandas as pd\n",
    "import numpy as np\n",
    "from pprint import pprint\n",
    "from matplotlib import cm\n",
    "import pickle as pkl\n",
    "from bs4 import BeautifulSoup\n",
    "from nltk.corpus import stopwords\n",
    "from nltk.stem.porter import PorterStemmer\n",
    "from scipy.stats import describe\n",
    "import re\n",
    "from sklearn.model_selection import StratifiedShuffleSplit\n",
    "\n",
    "# Define random seed (if any)\n",
    "random_seed = 42"
   ]
  },
  {
   "cell_type": "markdown",
   "metadata": {},
   "source": [
    "## Load original data"
   ]
  },
  {
   "cell_type": "markdown",
   "metadata": {},
   "source": [
    "Since the file containing the original data is very large, I was not able to upload it to GitHub (given the 100.0 MB size limit). The file I have used can be downloaded here: https://www.kaggle.com/snap/amazon-fine-food-reviews/downloads/amazon-fine-food-reviews.zip/2.\n",
    "\n",
    "Please unzip the folder and use the `Reviews.c"
   ]
  },
  {
   "cell_type": "code",
   "execution_count": 4,
   "metadata": {},
   "outputs": [],
   "source": [
    "# Load original reviews data\n",
    "reviews = pd.read_csv('reviews/original_data/amazon_fine_food_reviews.csv')"
   ]
  },
  {
   "cell_type": "code",
   "execution_count": 5,
   "metadata": {},
   "outputs": [
    {
     "name": "stdout",
     "output_type": "stream",
     "text": [
      "(568454, 10)\n"
     ]
    }
   ],
   "source": [
    "# Print reviews' shape\n",
    "print(reviews.shape)"
   ]
  },
  {
   "cell_type": "code",
   "execution_count": 6,
   "metadata": {},
   "outputs": [
    {
     "name": "stdout",
     "output_type": "stream",
     "text": [
      "['Id',\n",
      " 'ProductId',\n",
      " 'UserId',\n",
      " 'ProfileName',\n",
      " 'HelpfulnessNumerator',\n",
      " 'HelpfulnessDenominator',\n",
      " 'Score',\n",
      " 'Time',\n",
      " 'Summary',\n",
      " 'Text']\n"
     ]
    }
   ],
   "source": [
    "# Pretty-print columns\n",
    "pprint(list(reviews.columns))"
   ]
  },
  {
   "cell_type": "code",
   "execution_count": 7,
   "metadata": {},
   "outputs": [
    {
     "data": {
      "text/html": [
       "<div>\n",
       "<style scoped>\n",
       "    .dataframe tbody tr th:only-of-type {\n",
       "        vertical-align: middle;\n",
       "    }\n",
       "\n",
       "    .dataframe tbody tr th {\n",
       "        vertical-align: top;\n",
       "    }\n",
       "\n",
       "    .dataframe thead th {\n",
       "        text-align: right;\n",
       "    }\n",
       "</style>\n",
       "<table border=\"1\" class=\"dataframe\">\n",
       "  <thead>\n",
       "    <tr style=\"text-align: right;\">\n",
       "      <th></th>\n",
       "      <th>Id</th>\n",
       "      <th>ProductId</th>\n",
       "      <th>UserId</th>\n",
       "      <th>ProfileName</th>\n",
       "      <th>HelpfulnessNumerator</th>\n",
       "      <th>HelpfulnessDenominator</th>\n",
       "      <th>Score</th>\n",
       "      <th>Time</th>\n",
       "      <th>Summary</th>\n",
       "      <th>Text</th>\n",
       "    </tr>\n",
       "  </thead>\n",
       "  <tbody>\n",
       "    <tr>\n",
       "      <th>0</th>\n",
       "      <td>1</td>\n",
       "      <td>B001E4KFG0</td>\n",
       "      <td>A3SGXH7AUHU8GW</td>\n",
       "      <td>delmartian</td>\n",
       "      <td>1</td>\n",
       "      <td>1</td>\n",
       "      <td>5</td>\n",
       "      <td>1303862400</td>\n",
       "      <td>Good Quality Dog Food</td>\n",
       "      <td>I have bought several of the Vitality canned d...</td>\n",
       "    </tr>\n",
       "  </tbody>\n",
       "</table>\n",
       "</div>"
      ],
      "text/plain": [
       "   Id   ProductId          UserId ProfileName  HelpfulnessNumerator  \\\n",
       "0   1  B001E4KFG0  A3SGXH7AUHU8GW  delmartian                     1   \n",
       "\n",
       "   HelpfulnessDenominator  Score        Time                Summary  \\\n",
       "0                       1      5  1303862400  Good Quality Dog Food   \n",
       "\n",
       "                                                Text  \n",
       "0  I have bought several of the Vitality canned d...  "
      ]
     },
     "execution_count": 7,
     "metadata": {},
     "output_type": "execute_result"
    }
   ],
   "source": [
    "# Sample data\n",
    "reviews.head(1)"
   ]
  },
  {
   "cell_type": "markdown",
   "metadata": {},
   "source": [
    "## Duplicates"
   ]
  },
  {
   "cell_type": "code",
   "execution_count": 8,
   "metadata": {},
   "outputs": [
    {
     "data": {
      "text/plain": [
       "(174875, 10)"
      ]
     },
     "execution_count": 8,
     "metadata": {},
     "output_type": "execute_result"
    }
   ],
   "source": [
    "# Extract text duplicates\n",
    "duplicates = reviews[reviews.duplicated('Text')].copy()\n",
    "duplicates.sort_values(by='Text', inplace=True)\n",
    "duplicates.shape"
   ]
  },
  {
   "cell_type": "code",
   "execution_count": 9,
   "metadata": {},
   "outputs": [
    {
     "data": {
      "text/html": [
       "<div>\n",
       "<style scoped>\n",
       "    .dataframe tbody tr th:only-of-type {\n",
       "        vertical-align: middle;\n",
       "    }\n",
       "\n",
       "    .dataframe tbody tr th {\n",
       "        vertical-align: top;\n",
       "    }\n",
       "\n",
       "    .dataframe thead th {\n",
       "        text-align: right;\n",
       "    }\n",
       "</style>\n",
       "<table border=\"1\" class=\"dataframe\">\n",
       "  <thead>\n",
       "    <tr style=\"text-align: right;\">\n",
       "      <th></th>\n",
       "      <th>Id</th>\n",
       "      <th>ProductId</th>\n",
       "      <th>UserId</th>\n",
       "      <th>ProfileName</th>\n",
       "      <th>HelpfulnessNumerator</th>\n",
       "      <th>HelpfulnessDenominator</th>\n",
       "      <th>Score</th>\n",
       "      <th>Time</th>\n",
       "      <th>Summary</th>\n",
       "      <th>Text</th>\n",
       "    </tr>\n",
       "  </thead>\n",
       "  <tbody>\n",
       "    <tr>\n",
       "      <th>184223</th>\n",
       "      <td>184224</td>\n",
       "      <td>B006ZC3IHY</td>\n",
       "      <td>A17950SQVNAVOD</td>\n",
       "      <td>Scott</td>\n",
       "      <td>0</td>\n",
       "      <td>0</td>\n",
       "      <td>1</td>\n",
       "      <td>1313625600</td>\n",
       "      <td>Packaging quality problem</td>\n",
       "      <td>\"Both\" of Gloria Jean's \"Hazelnut\" and \"Vanill...</td>\n",
       "    </tr>\n",
       "    <tr>\n",
       "      <th>225579</th>\n",
       "      <td>225580</td>\n",
       "      <td>B002ZX1U9A</td>\n",
       "      <td>A17950SQVNAVOD</td>\n",
       "      <td>Scott</td>\n",
       "      <td>2</td>\n",
       "      <td>2</td>\n",
       "      <td>1</td>\n",
       "      <td>1313625600</td>\n",
       "      <td>Packaging quality problem</td>\n",
       "      <td>\"Both\" of Gloria Jean's \"Hazelnut\" and \"Vanill...</td>\n",
       "    </tr>\n",
       "    <tr>\n",
       "      <th>233264</th>\n",
       "      <td>233265</td>\n",
       "      <td>B007TJGZ4A</td>\n",
       "      <td>A17950SQVNAVOD</td>\n",
       "      <td>Scott</td>\n",
       "      <td>2</td>\n",
       "      <td>2</td>\n",
       "      <td>1</td>\n",
       "      <td>1313625600</td>\n",
       "      <td>Packaging quality problem</td>\n",
       "      <td>\"Both\" of Gloria Jean's \"Hazelnut\" and \"Vanill...</td>\n",
       "    </tr>\n",
       "    <tr>\n",
       "      <th>245224</th>\n",
       "      <td>245225</td>\n",
       "      <td>B0029XDZKI</td>\n",
       "      <td>A17950SQVNAVOD</td>\n",
       "      <td>Scott</td>\n",
       "      <td>2</td>\n",
       "      <td>2</td>\n",
       "      <td>1</td>\n",
       "      <td>1313625600</td>\n",
       "      <td>Packaging quality problem</td>\n",
       "      <td>\"Both\" of Gloria Jean's \"Hazelnut\" and \"Vanill...</td>\n",
       "    </tr>\n",
       "    <tr>\n",
       "      <th>425981</th>\n",
       "      <td>425982</td>\n",
       "      <td>B000TQEWM2</td>\n",
       "      <td>A17950SQVNAVOD</td>\n",
       "      <td>Scott</td>\n",
       "      <td>2</td>\n",
       "      <td>2</td>\n",
       "      <td>1</td>\n",
       "      <td>1313625600</td>\n",
       "      <td>Packaging quality problem</td>\n",
       "      <td>\"Both\" of Gloria Jean's \"Hazelnut\" and \"Vanill...</td>\n",
       "    </tr>\n",
       "    <tr>\n",
       "      <th>473106</th>\n",
       "      <td>473107</td>\n",
       "      <td>B008FHUKE6</td>\n",
       "      <td>A17950SQVNAVOD</td>\n",
       "      <td>Scott</td>\n",
       "      <td>2</td>\n",
       "      <td>2</td>\n",
       "      <td>1</td>\n",
       "      <td>1313625600</td>\n",
       "      <td>Packaging quality problem</td>\n",
       "      <td>\"Both\" of Gloria Jean's \"Hazelnut\" and \"Vanill...</td>\n",
       "    </tr>\n",
       "    <tr>\n",
       "      <th>519542</th>\n",
       "      <td>519543</td>\n",
       "      <td>B006N3I1HM</td>\n",
       "      <td>A17950SQVNAVOD</td>\n",
       "      <td>Scott</td>\n",
       "      <td>2</td>\n",
       "      <td>2</td>\n",
       "      <td>1</td>\n",
       "      <td>1313625600</td>\n",
       "      <td>Packaging quality problem</td>\n",
       "      <td>\"Both\" of Gloria Jean's \"Hazelnut\" and \"Vanill...</td>\n",
       "    </tr>\n",
       "  </tbody>\n",
       "</table>\n",
       "</div>"
      ],
      "text/plain": [
       "            Id   ProductId          UserId ProfileName  HelpfulnessNumerator  \\\n",
       "184223  184224  B006ZC3IHY  A17950SQVNAVOD       Scott                     0   \n",
       "225579  225580  B002ZX1U9A  A17950SQVNAVOD       Scott                     2   \n",
       "233264  233265  B007TJGZ4A  A17950SQVNAVOD       Scott                     2   \n",
       "245224  245225  B0029XDZKI  A17950SQVNAVOD       Scott                     2   \n",
       "425981  425982  B000TQEWM2  A17950SQVNAVOD       Scott                     2   \n",
       "473106  473107  B008FHUKE6  A17950SQVNAVOD       Scott                     2   \n",
       "519542  519543  B006N3I1HM  A17950SQVNAVOD       Scott                     2   \n",
       "\n",
       "        HelpfulnessDenominator  Score        Time                    Summary  \\\n",
       "184223                       0      1  1313625600  Packaging quality problem   \n",
       "225579                       2      1  1313625600  Packaging quality problem   \n",
       "233264                       2      1  1313625600  Packaging quality problem   \n",
       "245224                       2      1  1313625600  Packaging quality problem   \n",
       "425981                       2      1  1313625600  Packaging quality problem   \n",
       "473106                       2      1  1313625600  Packaging quality problem   \n",
       "519542                       2      1  1313625600  Packaging quality problem   \n",
       "\n",
       "                                                     Text  \n",
       "184223  \"Both\" of Gloria Jean's \"Hazelnut\" and \"Vanill...  \n",
       "225579  \"Both\" of Gloria Jean's \"Hazelnut\" and \"Vanill...  \n",
       "233264  \"Both\" of Gloria Jean's \"Hazelnut\" and \"Vanill...  \n",
       "245224  \"Both\" of Gloria Jean's \"Hazelnut\" and \"Vanill...  \n",
       "425981  \"Both\" of Gloria Jean's \"Hazelnut\" and \"Vanill...  \n",
       "473106  \"Both\" of Gloria Jean's \"Hazelnut\" and \"Vanill...  \n",
       "519542  \"Both\" of Gloria Jean's \"Hazelnut\" and \"Vanill...  "
      ]
     },
     "execution_count": 9,
     "metadata": {},
     "output_type": "execute_result"
    }
   ],
   "source": [
    "# Print sample of duplicated reviews\n",
    "reviews[reviews.Text==duplicates.iloc[3,:].Text]"
   ]
  },
  {
   "cell_type": "code",
   "execution_count": 10,
   "metadata": {},
   "outputs": [],
   "source": [
    "# Remove duplicates by Text only\n",
    "reviews_no_dupl = reviews.drop_duplicates(subset='Text')\n",
    "reviews_no_dupl.reset_index(inplace=True, drop=True)"
   ]
  },
  {
   "cell_type": "code",
   "execution_count": 11,
   "metadata": {},
   "outputs": [
    {
     "data": {
      "image/png": "[encoded data removed]",
      "text/plain": [
       "<matplotlib.figure.Figure at 0x11970f1d0>"
      ]
     },
     "metadata": {},
     "output_type": "display_data"
    }
   ],
   "source": [
    "fig = plt.figure(figsize=(6,4))\n",
    "\n",
    "ax = fig.add_subplot(111)\n",
    "bars = ax.bar(range(2), [reviews.shape[0], reviews_no_dupl.shape[0]])\n",
    "ax.set_ylabel('Number of samples')\n",
    "ax.set_title('Number of samples before and after removing duplicates\\n')\n",
    "ax.set_xticks([0,1])\n",
    "ax.set_xticklabels(['With duplicates', 'Without duplicates'])\n",
    "\n",
    "height = bars[0].get_height()\n",
    "\n",
    "for i in bars:\n",
    "    ax.text(i.get_x() + i.get_width()/2., 0.1*height,\n",
    "            '%d' % int(i.get_height()),\n",
    "            ha='center', va='center',\n",
    "            fontsize=18,\n",
    "            fontweight='bold',\n",
    "            color='white')\n",
    "\n",
    "plt.show();"
   ]
  },
  {
   "cell_type": "markdown",
   "metadata": {},
   "source": [
    "### EDA - `Text`"
   ]
  },
  {
   "cell_type": "code",
   "execution_count": 12,
   "metadata": {},
   "outputs": [
    {
     "name": "stdout",
     "output_type": "stream",
     "text": [
      "Average length of reviews is 434 characters\n",
      "The shortest review has 12 characters\n",
      "The longerst review has 21409 characters\n"
     ]
    }
   ],
   "source": [
    "# Calculate reviews' length stats\n",
    "reviews_length = np.array([len(x) for x in reviews_no_dupl.loc[:,'Text'].values])\n",
    "reviews_stats = describe(reviews_length)\n",
    "\n",
    "print('Average length of reviews is {:.0f} characters'.format(reviews_stats.mean))\n",
    "print('The shortest review has {:.0f} characters'.format(reviews_stats.minmax[0]))\n",
    "print('The longerst review has {:.0f} characters'.format(reviews_stats.minmax[1]))"
   ]
  },
  {
   "cell_type": "markdown",
   "metadata": {},
   "source": [
    "The boxplot of reviews' lenght distributions shows a pretty high number of outliers."
   ]
  },
  {
   "cell_type": "code",
   "execution_count": 13,
   "metadata": {},
   "outputs": [
    {
     "data": {
      "image/png": "[encoded data removed]",
      "text/plain": [
       "<matplotlib.figure.Figure at 0x10e532c50>"
      ]
     },
     "metadata": {},
     "output_type": "display_data"
    }
   ],
   "source": [
    "# Plotting\n",
    "fig = plt.figure(figsize=(10,5))\n",
    "\n",
    "ax1 = fig.add_subplot(121)\n",
    "ax1.boxplot(reviews_length)\n",
    "ax1.set_ylabel(\"Number of characters\", fontsize=11)\n",
    "ax1.set_title(\"Boxplot - Reviews' lengths\\n\", fontsize=14)\n",
    "\n",
    "\n",
    "ax2 = fig.add_subplot(122)\n",
    "ax2.hist(reviews_length, bins=200)\n",
    "ax2.set_title(\"Histogram = Reviews' lenghts\\n\", fontsize=14)\n",
    "ax2.set_xlabel('Number of characters', fontsize=11)\n",
    "ax2.set_ylabel('Number of reviews', fontsize=11)\n",
    "\n",
    "plt.tight_layout();"
   ]
  },
  {
   "cell_type": "markdown",
   "metadata": {},
   "source": [
    "### EDA - `Score`"
   ]
  },
  {
   "cell_type": "code",
   "execution_count": 14,
   "metadata": {},
   "outputs": [],
   "source": [
    "# Calculate the percentage of reviews by score with and without duplicated reviews\n",
    "perc_by_score_with_dupl = reviews.groupby('Score').count() / reviews.shape[0]\n",
    "perc_by_score_wout_dupl = reviews_no_dupl.groupby('Score').count() / reviews_no_dupl.shape[0]"
   ]
  },
  {
   "cell_type": "code",
   "execution_count": 15,
   "metadata": {},
   "outputs": [
    {
     "data": {
      "text/plain": [
       "Score\n",
       "1     9.216701\n",
       "2     5.282802\n",
       "3     7.559855\n",
       "4    14.239073\n",
       "5    63.701569\n",
       "Name: Id, dtype: float64"
      ]
     },
     "execution_count": 15,
     "metadata": {},
     "output_type": "execute_result"
    }
   ],
   "source": [
    "perc_by_score_wout_dupl.Id*100"
   ]
  },
  {
   "cell_type": "code",
   "execution_count": 16,
   "metadata": {},
   "outputs": [],
   "source": [
    "# Get data for plots\n",
    "composition_data = []\n",
    "for data in [perc_by_score_with_dupl, perc_by_score_wout_dupl]:\n",
    "    idx = data.index.get_values()\n",
    "    values = data.Text.values\n",
    "    composition_data.append([idx,values])"
   ]
  },
  {
   "cell_type": "code",
   "execution_count": 17,
   "metadata": {},
   "outputs": [],
   "source": [
    "# Define color map\n",
    "color_map = cm.RdBu(np.array(composition_data[0][0])/np.array(composition_data[0][0]).max())"
   ]
  },
  {
   "cell_type": "code",
   "execution_count": 18,
   "metadata": {},
   "outputs": [
    {
     "data": {
      "image/png": "[encoded data removed]",
      "text/plain": [
       "<matplotlib.figure.Figure at 0x1a1af0bdd8>"
      ]
     },
     "metadata": {},
     "output_type": "display_data"
    }
   ],
   "source": [
    "# Plotting\n",
    "fig = plt.figure(figsize=(10,5))\n",
    "\n",
    "ax1 = fig.add_subplot(121)\n",
    "ax1.bar(composition_data[0][0], composition_data[0][1], color=color_map)\n",
    "ax1.set_xlabel('Score', fontsize=14)\n",
    "ax1.set_ylabel('% of total', fontsize=20)\n",
    "ax1.set_title('Reviews by Score (with duplicated values)\\n', fontsize=14)\n",
    "\n",
    "\n",
    "ax2 = fig.add_subplot(122)\n",
    "ax2.bar(composition_data[1][0], composition_data[1][1], color=color_map)\n",
    "ax2.set_title('Reviews by score (without duplicated values)\\n', fontsize=14)\n",
    "ax2.set_xlabel('Score', fontsize=14)\n",
    "\n",
    "plt.tight_layout();"
   ]
  },
  {
   "cell_type": "markdown",
   "metadata": {},
   "source": [
    "##### Relation between lenght of a review and sentiments (unprocessed data)"
   ]
  },
  {
   "cell_type": "code",
   "execution_count": 19,
   "metadata": {},
   "outputs": [],
   "source": [
    "def extract_data_for_review_length_boxplot(dataframe, group_key, value_key):\n",
    "    \n",
    "    \"\"\"\n",
    "    \n",
    "        This function is used to extract data for plotting a series of boxplot\n",
    "        for different values of a categorical variable.\n",
    "        \n",
    "        Args:\n",
    "            - dataframe: a pandas dataframe\n",
    "            - group_key: a string, specifying the key used to group the dataframe\n",
    "            - value_key: a string, specifying the column on which to calculate a string's length\n",
    "            \n",
    "        Returns:\n",
    "            - (key_values, data_values): a tuple, including the unique values for the\n",
    "                                         group key (key_values) and the associated values\n",
    "                                         per key (data_values)\n",
    "    \n",
    "    \"\"\"\n",
    "    \n",
    "    # Initialise the two list\n",
    "    key_values = []\n",
    "    data_values = []\n",
    "    \n",
    "    # Loop through the grouped dataframe and append keys and values\n",
    "    for key, key_df in dataframe.groupby(group_key):\n",
    "        key_values.append(key)\n",
    "        data_values.append(key_df.loc[:,value_key].apply(lambda x: len(x)))\n",
    "        \n",
    "    # Return tuple\n",
    "    return (key_values, data_values)"
   ]
  },
  {
   "cell_type": "code",
   "execution_count": 20,
   "metadata": {},
   "outputs": [],
   "source": [
    "# Extract score and score_values\n",
    "scores, score_values = extract_data_for_review_length_boxplot(reviews_no_dupl, 'Score', 'Text')"
   ]
  },
  {
   "cell_type": "code",
   "execution_count": 21,
   "metadata": {},
   "outputs": [
    {
     "name": "stderr",
     "output_type": "stream",
     "text": [
      "/Users/gsarchioni/anaconda/lib/python3.6/site-packages/numpy/core/fromnumeric.py:57: FutureWarning: reshape is deprecated and will raise in a subsequent release. Please use .values.reshape(...) instead\n",
      "  return getattr(obj, method)(*args, **kwds)\n"
     ]
    },
    {
     "data": {
      "image/png": "[encoded data removed]",
      "text/plain": [
       "<matplotlib.figure.Figure at 0x1a1afc0128>"
      ]
     },
     "metadata": {},
     "output_type": "display_data"
    }
   ],
   "source": [
    "fig = plt.figure()\n",
    "\n",
    "ax = fig.add_subplot(111)\n",
    "ax.boxplot(score_values)\n",
    "ax.set_xticks(scores)\n",
    "ax.set_ylabel(\"Reviews's lenght (number of characters)\")\n",
    "ax.set_title(\"Boxplots - Reviews' length by score\\n\", fontsize=14, fontweight='bold')\n",
    "ax.set_xlabel('Score');"
   ]
  },
  {
   "cell_type": "code",
   "execution_count": 22,
   "metadata": {},
   "outputs": [],
   "source": [
    "# Extract 75th percentile of all reviews' lenghts\n",
    "reviews_length_all = reviews_no_dupl.Text.apply(lambda x: len(x))\n",
    "percentile = np.percentile(reviews_length_all.values, 75)"
   ]
  },
  {
   "cell_type": "code",
   "execution_count": 23,
   "metadata": {},
   "outputs": [],
   "source": [
    "# Extract data for boxplots\n",
    "reviews_no_dupl_perc = reviews_no_dupl[reviews_length_all<=percentile]\n",
    "scores_perc, score_values_perc = extract_data_for_review_length_boxplot(reviews_no_dupl_perc, 'Score', 'Text')"
   ]
  },
  {
   "cell_type": "code",
   "execution_count": 24,
   "metadata": {},
   "outputs": [
    {
     "name": "stderr",
     "output_type": "stream",
     "text": [
      "/Users/gsarchioni/anaconda/lib/python3.6/site-packages/numpy/core/fromnumeric.py:57: FutureWarning: reshape is deprecated and will raise in a subsequent release. Please use .values.reshape(...) instead\n",
      "  return getattr(obj, method)(*args, **kwds)\n"
     ]
    },
    {
     "data": {
      "image/png": "[encoded data removed]",
      "text/plain": [
       "<matplotlib.figure.Figure at 0x1a1afc0160>"
      ]
     },
     "metadata": {},
     "output_type": "display_data"
    }
   ],
   "source": [
    "fig = plt.figure()\n",
    "\n",
    "ax = fig.add_subplot(111)\n",
    "ax.boxplot(score_values_perc)\n",
    "ax.set_xticks(scores_perc)\n",
    "ax.set_ylabel(\"Reviews's lenght (number of characters)\")\n",
    "ax.set_title(\"Boxplots - Reviews' length by score\\nlength <= 75th percentile\\n\", fontsize=14, fontweight='bold')\n",
    "ax.set_xlabel('Score');"
   ]
  },
  {
   "cell_type": "markdown",
   "metadata": {},
   "source": [
    "## Text Pre-processing"
   ]
  },
  {
   "cell_type": "markdown",
   "metadata": {},
   "source": [
    "Raw text data is pretty noisy. There could be HTML tags, capital letters, punctuations, etc. If we define text by words, in fact, `\"good\"` and `\"Good\"` would actually be perceived as **two different words** while we know they are not.  \n",
    "As described in the Capstone Proposal document, I will apply a series of data processing techniques to all the reviews. Such processing include the following:\n",
    "\n",
    "* Remove HTML tags and other HTML text (if any)\n",
    "* Transform all text in lower case\n",
    "* Keep letter characters only (remove numbers, special characters and punctuation)\n",
    "* Remove English stopwords (e.g. \"the\", \"of\", \"and\", etc.)\n",
    "* Remove leading and trailing whitespaces.\n",
    "\n",
    "I will also add an optional pre-processing procedude called *stemming*.  \n",
    "  \n",
    "For such text processing activities, in addition to common modules available in the Anaconda install, I will also use the *natural language toolkit* module (`nltk`) and *BeautifulSoup*.  \n",
    "Let me go through a **detailed example** for a single review. I will then create a generic function that performs parsing."
   ]
  },
  {
   "cell_type": "code",
   "execution_count": 25,
   "metadata": {},
   "outputs": [
    {
     "name": "stdout",
     "output_type": "stream",
     "text": [
      "I have bought several of the Vitality canned dog food products and have found them all to be of good quality. The product looks more like a stew than a processed meat and it smells better. My Labrador is finicky and she appreciates this product better than  most.\n"
     ]
    }
   ],
   "source": [
    "# Choose a test review\n",
    "test_review = reviews_no_dupl.iloc[0,-1]\n",
    "print(test_review)"
   ]
  },
  {
   "cell_type": "markdown",
   "metadata": {},
   "source": [
    "##### Remove HTML Tags \n",
    "Removing HTML text can simply be achieved by using a famous Python library called `BeautifulSoup`. Such library has been designed to work with HTML text. By using the `get_text()` function on a string parsed with BeautifulSoup we are able to remove any HTML-specific combination of character (e.g. &lt;a&gt;, &lt;div&gt;, etc.)."
   ]
  },
  {
   "cell_type": "code",
   "execution_count": 26,
   "metadata": {},
   "outputs": [
    {
     "name": "stdout",
     "output_type": "stream",
     "text": [
      "I have bought several of the Vitality canned dog food products and have found them all to be of good quality. The product looks more like a stew than a processed meat and it smells better. My Labrador is finicky and she appreciates this product better than  most.\n"
     ]
    }
   ],
   "source": [
    "test_review = BeautifulSoup(test_review, 'lxml').get_text()\n",
    "print(test_review)"
   ]
  },
  {
   "cell_type": "markdown",
   "metadata": {},
   "source": [
    "At first sight, the parsed review looks exactly like before. This is because the origianl review did not have HTML tags. Let's do a quick example.§"
   ]
  },
  {
   "cell_type": "code",
   "execution_count": 27,
   "metadata": {},
   "outputs": [
    {
     "name": "stdout",
     "output_type": "stream",
     "text": [
      "<a>Fantastic food</a>\n"
     ]
    }
   ],
   "source": [
    "html_review = '<a>Fantastic food</a>'\n",
    "print(html_review)"
   ]
  },
  {
   "cell_type": "code",
   "execution_count": 28,
   "metadata": {},
   "outputs": [
    {
     "name": "stdout",
     "output_type": "stream",
     "text": [
      "Fantastic food\n"
     ]
    }
   ],
   "source": [
    "# Parsing with BeautifulSoup\n",
    "print(BeautifulSoup(html_review,'lxml').get_text())"
   ]
  },
  {
   "cell_type": "markdown",
   "metadata": {},
   "source": [
    "`BeautifulSoup` has removed all HTML-specific text."
   ]
  },
  {
   "cell_type": "markdown",
   "metadata": {},
   "source": [
    "##### Transform all text in lower case"
   ]
  },
  {
   "cell_type": "code",
   "execution_count": 29,
   "metadata": {},
   "outputs": [
    {
     "name": "stdout",
     "output_type": "stream",
     "text": [
      "i have bought several of the vitality canned dog food products and have found them all to be of good quality. the product looks more like a stew than a processed meat and it smells better. my labrador is finicky and she appreciates this product better than  most.\n"
     ]
    }
   ],
   "source": [
    "test_review = test_review.lower()\n",
    "print(test_review)"
   ]
  },
  {
   "cell_type": "markdown",
   "metadata": {},
   "source": [
    "##### Keep letter characters only\n",
    "Keeping letter characters only is very easy using **regular expression**. Such processing will remove numbers, special characters (e.g. `$`) and punctuation."
   ]
  },
  {
   "cell_type": "code",
   "execution_count": 30,
   "metadata": {},
   "outputs": [
    {
     "name": "stdout",
     "output_type": "stream",
     "text": [
      "i have bought several of the vitality canned dog food products and have found them all to be of good quality  the product looks more like a stew than a processed meat and it smells better  my labrador is finicky and she appreciates this product better than  most \n"
     ]
    }
   ],
   "source": [
    "test_review = re.sub('[^a-zA-Z]',\" \", test_review)\n",
    "print(test_review)"
   ]
  },
  {
   "cell_type": "markdown",
   "metadata": {},
   "source": [
    "##### Remove English stopwords\n",
    "*In computing, stop words are words which are filtered out before or after processing of natural language data (text). Though \"stop words\" usually refers to the most common words in a language, there is no single universal list of stop words used by all natural language processing tools, and indeed not all tools even use such a list* ([Wikipedia](https://en.wikipedia.org/wiki/Stop_words)).  \n",
    "  \n",
    "The package I use here is called `nltk` and it is a pretty standard package used for natural language processing in Python. `nltk` contains a corpus of stopwords. I will extract those for the English language."
   ]
  },
  {
   "cell_type": "code",
   "execution_count": 31,
   "metadata": {},
   "outputs": [
    {
     "name": "stdout",
     "output_type": "stream",
     "text": [
      "{'was', 'don', 'its', 'them', 'they', 'further', 'nor', 'doesn', \"mustn't\", 'yours', 'and', 'all', \"wasn't\", 'because', 'weren', 'just', \"haven't\", \"didn't\", 'here', 'him', 'her', 'be', 're', 'am', 'while', 'any', 'most', 'before', 'o', 'isn', 'it', 'as', 'you', 'an', 'over', 'your', 'the', 'themselves', 'but', \"it's\", 'shouldn', 'now', 'a', 'haven', 'through', \"shan't\", 'has', 'in', 'same', 'couldn', 'my', 'those', \"mightn't\", 'we', 'his', \"that'll\", 'should', 'these', 'of', \"shouldn't\", 'which', 'into', 'who', 'ourselves', \"aren't\", 'how', 'itself', 'ain', 'for', 'where', \"doesn't\", 'from', \"should've\", 'aren', 'under', 'll', \"won't\", 'theirs', 'once', 'can', 'hers', 'at', 'are', 'himself', 'when', 'won', 'other', 'below', \"don't\", 'out', 'had', 'mightn', 'by', \"wouldn't\", 'above', 'no', 'until', 'then', 'about', 'wouldn', 'whom', 'why', \"you'll\", 'very', 'he', 's', 'off', 'this', \"weren't\", 'yourselves', 'if', 'against', 'ma', 'do', \"you'd\", 'to', 'didn', 'have', 'were', 'herself', 'with', 'such', \"you've\", \"couldn't\", 'i', 'that', 'not', 'down', 'only', 'our', 'few', 'each', 'hadn', 'on', 'needn', 'is', 'y', 'she', 'or', 'too', 't', 'between', 'd', \"she's\", 'up', 'there', 'than', 'did', 'm', \"hadn't\", 'mustn', \"you're\", 'me', 'what', 'will', 'own', 've', \"hasn't\", 'hasn', 'ours', 'doing', 'wasn', 'after', 'again', 'does', 'during', 'some', 'yourself', 'been', 'shan', \"isn't\", 'so', 'being', 'having', 'more', 'their', \"needn't\", 'myself', 'both'}\n"
     ]
    }
   ],
   "source": [
    "eng_stopwords = set(stopwords.words('English'))\n",
    "print(eng_stopwords)"
   ]
  },
  {
   "cell_type": "markdown",
   "metadata": {},
   "source": [
    "To remove such stopwords I need to:\n",
    "\n",
    "* split my review into words;\n",
    "* loop through the list of words in the review and keep only those that are not in the stopwords set. I will also make sure to remove any empty space (i.e. the character \"\").  \n",
    "  \n",
    "For comparison purposes, I am going to keep an old version of the test review called `old_test_review'."
   ]
  },
  {
   "cell_type": "code",
   "execution_count": 78,
   "metadata": {},
   "outputs": [],
   "source": [
    "old_test_review = test_review\n",
    "\n",
    "# Split test_reviews\n",
    "new_test_review = test_review.split(\" \")\n",
    "\n",
    "# Remove empty spaces\n",
    "new_test_review = [w for w in new_test_review if w != \"\"]\n",
    "\n",
    "# Remove stopwords\n",
    "new_test_review = [w for w in new_test_review if w not in eng_stopwords]\n",
    "\n",
    "# Rejoin words\n",
    "new_test_review = \" \".join(new_test_review)"
   ]
  },
  {
   "cell_type": "code",
   "execution_count": 79,
   "metadata": {},
   "outputs": [
    {
     "name": "stdout",
     "output_type": "stream",
     "text": [
      "The review before removing stopwords was:\n",
      "i have bought several of the vitality canned dog food products and have found them all to be of good quality  the product looks more like a stew than a processed meat and it smells better  my labrador is finicky and she appreciates this product better than  most \n",
      "\n",
      "The review after removing stopwords was:\n",
      "bought several vitality canned dog food products found good quality product looks like stew processed meat smells better labrador finicky appreciates product better\n"
     ]
    }
   ],
   "source": [
    "print(\"The review before removing stopwords was:\\n{}\".format(old_test_review))\n",
    "print(\"\\nThe review after removing stopwords was:\\n{}\".format(new_test_review))"
   ]
  },
  {
   "cell_type": "code",
   "execution_count": 80,
   "metadata": {},
   "outputs": [
    {
     "data": {
      "text/plain": [
       "'i have bought several of the vitality canned dog food products and have found them all to be of good quality the product looks more like a stew than a processed meat and it smells better my labrador is finicky and she appreciates this product better than most'"
      ]
     },
     "execution_count": 80,
     "metadata": {},
     "output_type": "execute_result"
    }
   ],
   "source": [
    "\" \".join(old_test_review.split())"
   ]
  },
  {
   "cell_type": "markdown",
   "metadata": {},
   "source": [
    "As you can see, the `new_test_review`, i.e. the review after having removed the stopwords, is a much shorter sentence, where stopwords have been removed.  \n",
    "In `new_test_review`, the origianl text *\"have found them all to be of good quality\"* has now been replaced with *\"found good quality\"*. From a sentiment analysis perspective, this is actually pretty good, since we have removed words which, in terms of sentiment, were not adding any value and could have biased our model. "
   ]
  },
  {
   "cell_type": "markdown",
   "metadata": {},
   "source": [
    "##### Remove leading and trailing whitespaces\n",
    "Remove leading and trailing whitespaces is performed easily by using the `strip()` built-in Python method."
   ]
  },
  {
   "cell_type": "code",
   "execution_count": 81,
   "metadata": {},
   "outputs": [],
   "source": [
    "new_test_review = new_test_review.strip()"
   ]
  },
  {
   "cell_type": "markdown",
   "metadata": {},
   "source": [
    "##### Stemming (optional)\n",
    "Stemming is another text preprocessing technique. It, as the name suggests, stems words so that two words with the same root are actually represented in the same way. For example, a stemmer would make the words *\"beautiful\"* and *\"beauty\"* look the same (more info [here](https://en.wikipedia.org/wiki/Stemming)).  \n",
    "In `nltk` there are multiple stemmers available. I will use the Porter's stemmer, a widely used stemmer in natural language processing. "
   ]
  },
  {
   "cell_type": "code",
   "execution_count": 82,
   "metadata": {},
   "outputs": [
    {
     "data": {
      "text/plain": [
       "'bought sever vital can dog food product found good qualiti product look like stew process meat smell better labrador finicki appreci product better'"
      ]
     },
     "execution_count": 82,
     "metadata": {},
     "output_type": "execute_result"
    }
   ],
   "source": [
    "st = PorterStemmer()\n",
    "stem_test_review = \" \".join([st.stem(w) for w in new_test_review.split(\" \")])\n",
    "stem_test_review"
   ]
  },
  {
   "cell_type": "markdown",
   "metadata": {},
   "source": [
    "As you can see, some of the final letters in some words have been removed (e.g. *several* becomes *sever*, *appreciates* become *appreci*. This technnique may furthere reduce noise in our text data. I will test it later on and check if adding stemming does contribute to some improvement in performance. "
   ]
  },
  {
   "cell_type": "markdown",
   "metadata": {},
   "source": [
    "Let me now create a function that performs all of the parsing options. Using a almost functional-programming syntax, I will create the single parsing functions and I will pass them as a list of instructions to an overall `parse_review` function"
   ]
  },
  {
   "cell_type": "code",
   "execution_count": 87,
   "metadata": {},
   "outputs": [],
   "source": [
    "# Define global parameters\n",
    "stopwords_set = stopwords.words('english')\n",
    "stemmer = PorterStemmer()\n",
    "\n",
    "# Remove HTML tags\n",
    "def remove_html_tags(review):\n",
    "    \n",
    "    \"\"\"\n",
    "    \n",
    "        This function takes a string as an input and return it\n",
    "        after having remove all HTML tags, using BeautifulSoup\n",
    "        \n",
    "        Args:\n",
    "            - review: a string\n",
    "            \n",
    "        Return:\n",
    "            - a string after having remove HTML tags\n",
    "    \n",
    "    \"\"\"\n",
    "    \n",
    "    return BeautifulSoup(review, 'lxml').get_text()\n",
    "\n",
    "\n",
    "# Make lower case\n",
    "def make_lower_case(review):\n",
    "    \n",
    "    \"\"\"\n",
    "    \n",
    "        This function takes a string as an input and return it\n",
    "        after having made all text lower case.\n",
    "        \n",
    "        Args:\n",
    "            - review: a string\n",
    "            \n",
    "        Return:\n",
    "            - a string after having made all lower case\n",
    "    \n",
    "    \"\"\"\n",
    "    \n",
    "    return review.lower()\n",
    "\n",
    "\n",
    "# Keep letter characters only\n",
    "def keep_letters_only(review):\n",
    "    \n",
    "    \"\"\"\n",
    "    \n",
    "        This function takes as a string as an input and replace\n",
    "        all non-letter characters with a blank space.\n",
    "        \n",
    "        Args:\n",
    "            - review: a string\n",
    "            \n",
    "        Return:\n",
    "            - a string containing only letter characters\n",
    "    \n",
    "    \"\"\"\n",
    "\n",
    "    return re.sub('[^a-zA-Z]',\" \", review)\n",
    "    \n",
    "\n",
    "# Remove stopwords\n",
    "def remove_stopwords(review):\n",
    "    \n",
    "    \"\"\"\n",
    "    \n",
    "        This function takes as string as an input and remove\n",
    "        all words which are beloging to the stopword set.\n",
    "        \n",
    "        Args:\n",
    "            - review: a string\n",
    "            \n",
    "        Returns:\n",
    "            - a string after having removed all stopwords\n",
    "    \n",
    "    \"\"\"\n",
    "    \n",
    "    # Split review\n",
    "    review = review.split(\" \")\n",
    "    \n",
    "    # Remove empty spaces\n",
    "    review = [w for w in review if w != \"\"]\n",
    "    \n",
    "    # Remove stopword\n",
    "    review = [w for w in review if w not in stopwords_set]\n",
    "    \n",
    "    return \" \".join(review)\n",
    "\n",
    "\n",
    "# Stem review\n",
    "def stem_review(review):\n",
    "    \n",
    "    \"\"\"\n",
    "    \n",
    "        This function takes as string as an input and\n",
    "        stem all its words.\n",
    "        \n",
    "        Args:\n",
    "            - review: a string\n",
    "            \n",
    "        Returns:\n",
    "            - a string after having stemmed all the words\n",
    "    \n",
    "    \"\"\"\n",
    "    \n",
    "    # Split review\n",
    "    review = review.split(\" \")\n",
    "    \n",
    "    # Remove empty spaces\n",
    "    review = [w for w in review if w != \" \"]\n",
    "    \n",
    "    # Stem\n",
    "    review = [stemmer.stem(w) for w in review]\n",
    "    \n",
    "    return \" \".join(review)\n",
    "\n",
    "\n",
    "# Remove leading and trailing whitespaces\n",
    "def remove_white_spaces(review):\n",
    "    \n",
    "    \"\"\"\n",
    "    \n",
    "        This function takes as a string as an input and remove\n",
    "        leading and trailing whitespaces.\n",
    "        \n",
    "        Args:\n",
    "            - review: a string\n",
    "            \n",
    "        Returns:\n",
    "            - a string after having removed leading and trailing whitespaces\n",
    "    \n",
    "    \"\"\"\n",
    "    \n",
    "    # Removin leading and trailing white spaces\n",
    "    review = review.strip()\n",
    "    \n",
    "    # Split review\n",
    "    review = review.split(\" \")\n",
    "    \n",
    "    # Remove empty spaces\n",
    "    review = [w for w in review if w != \" \"]\n",
    "    \n",
    "    return \" \".join(review)"
   ]
  },
  {
   "cell_type": "markdown",
   "metadata": {},
   "source": [
    "I will now define a `parse_review` function that takes a review and list of parsing functions (from the one defined above) as input in order to transform the review itself."
   ]
  },
  {
   "cell_type": "code",
   "execution_count": 88,
   "metadata": {},
   "outputs": [],
   "source": [
    "def parse_review(review, parsing_functions):\n",
    "    \n",
    "    \"\"\"\n",
    "    \n",
    "        This function takes a string as an input and returns\n",
    "        the string after having applied a list of parsing functions.\n",
    "        \n",
    "        Args:\n",
    "            - review: a string\n",
    "            - parsing_functions: a list\n",
    "            \n",
    "        Returns:\n",
    "            - a string after having applied the parsing functions\n",
    "    \n",
    "    \"\"\"\n",
    "    \n",
    "    for f in parsing_functions:\n",
    "        review = f(review)\n",
    "        \n",
    "    return review"
   ]
  },
  {
   "cell_type": "code",
   "execution_count": 89,
   "metadata": {},
   "outputs": [
    {
     "name": "stdout",
     "output_type": "stream",
     "text": [
      "These little guys are tasty and refreshing.<br /><br />I usually eat salads for lunch which can do terrible things to breath.  I eat 2 of these after lunch (because they are so small) and I find this sufficiently resolves the problem.<br /><br />They're sugar free (sugar can actually help the smelly bacteria grow) which is great and they're tasty enough that I almost think of them as part of my lunch.<br /><br />This is a good bulk value buy and I'd highly recommend the mints themselves.  Cheers!\n"
     ]
    }
   ],
   "source": [
    "# Get an example\n",
    "example = reviews_no_dupl.iloc[192,-1]\n",
    "print(example)"
   ]
  },
  {
   "cell_type": "code",
   "execution_count": 90,
   "metadata": {},
   "outputs": [
    {
     "data": {
      "text/plain": [
       "'little guys tasty refreshing usually eat salads lunch terrible things breath eat lunch small find sufficiently resolves problem sugar free sugar actually help smelly bacteria grow great tasty enough almost think part lunch good bulk value buy highly recommend mints cheers'"
      ]
     },
     "execution_count": 90,
     "metadata": {},
     "output_type": "execute_result"
    }
   ],
   "source": [
    "parse_review(example, [remove_html_tags, make_lower_case, keep_letters_only, remove_stopwords, remove_white_spaces])"
   ]
  },
  {
   "cell_type": "markdown",
   "metadata": {},
   "source": [
    "##### Parse reviews"
   ]
  },
  {
   "cell_type": "markdown",
   "metadata": {},
   "source": [
    "Let me now add parsed reviews to my dataframe"
   ]
  },
  {
   "cell_type": "code",
   "execution_count": 91,
   "metadata": {},
   "outputs": [],
   "source": [
    "from tools.review_parser import *"
   ]
  },
  {
   "cell_type": "code",
   "execution_count": 92,
   "metadata": {},
   "outputs": [],
   "source": [
    "# NO HTML, LOWER, NO LEADING AND TRAILING WHITESPACES\n",
    "parser_zero = [remove_html_tags, make_lower_case, remove_white_spaces]\n",
    "\n",
    "# NO HTML, LOWER, LETTERS-ONLY, NO LEADING AND TRAILING WHITESPACES\n",
    "parser_one = [remove_html_tags, make_lower_case, keep_letters_only, remove_white_spaces]\n",
    "\n",
    "# NO HTML, LOWER, LETTERS-ONLY, NO STOPWORDS, NO LEADING AND TRAILING WHITESPACES\n",
    "parser_two = [remove_html_tags, make_lower_case, keep_letters_only, remove_stopwords, remove_white_spaces]\n",
    "\n",
    "# NO HTML, LOWER, LETTERS-ONLY, NO STOPWORDS, STEMMED, NO LEADING AND TRAILING WHITESPACES\n",
    "parser_three = [remove_html_tags, make_lower_case, keep_letters_only, remove_stopwords, stem_review, remove_white_spaces]"
   ]
  },
  {
   "cell_type": "code",
   "execution_count": 93,
   "metadata": {},
   "outputs": [],
   "source": [
    "# Create a new dataframe\n",
    "parsed_reviews = reviews_no_dupl.copy()"
   ]
  },
  {
   "cell_type": "code",
   "execution_count": 94,
   "metadata": {},
   "outputs": [],
   "source": [
    "# Apply parser_zero\n",
    "parsed_reviews.loc[:,'parser_zero'] = parsed_reviews.loc[:,'Text'].apply(parse_review, args=(parser_zero,)) "
   ]
  },
  {
   "cell_type": "code",
   "execution_count": 95,
   "metadata": {},
   "outputs": [],
   "source": [
    "# Apply parser_one\n",
    "parsed_reviews.loc[:,'parser_one'] = parsed_reviews.loc[:,'Text'].apply(parse_review, args=(parser_one,)) "
   ]
  },
  {
   "cell_type": "code",
   "execution_count": 96,
   "metadata": {},
   "outputs": [],
   "source": [
    "# Apply parser_two\n",
    "parsed_reviews.loc[:,'parser_two'] = parsed_reviews.loc[:,'Text'].apply(parse_review, args=(parser_two,)) "
   ]
  },
  {
   "cell_type": "code",
   "execution_count": 97,
   "metadata": {},
   "outputs": [],
   "source": [
    "# Apply parser_three\n",
    "parsed_reviews.loc[:,'parser_three'] = parsed_reviews.loc[:,'Text'].apply(parse_review, args=(parser_three,)) "
   ]
  },
  {
   "cell_type": "markdown",
   "metadata": {},
   "source": [
    "Perfect. Let me now check an example."
   ]
  },
  {
   "cell_type": "code",
   "execution_count": 98,
   "metadata": {},
   "outputs": [
    {
     "name": "stdout",
     "output_type": "stream",
     "text": [
      "Original text\n",
      "I have bought several of the Vitality canned dog food products and have found them all to be of good quality. The product looks more like a stew than a processed meat and it smells better. My Labrador is finicky and she appreciates this product better than  most.\n",
      "\n",
      "Parser zero text\n",
      "i have bought several of the vitality canned dog food products and have found them all to be of good quality. the product looks more like a stew than a processed meat and it smells better. my labrador is finicky and she appreciates this product better than  most.\n",
      "\n",
      "Parser one text\n",
      "i have bought several of the vitality canned dog food products and have found them all to be of good quality  the product looks more like a stew than a processed meat and it smells better  my labrador is finicky and she appreciates this product better than  most\n",
      "\n",
      "Parser two text\n",
      "bought several vitality canned dog food products found good quality product looks like stew processed meat smells better labrador finicky appreciates product better\n",
      "\n",
      "Parser three text\n",
      "bought sever vital can dog food product found good qualiti product look like stew process meat smell better labrador finicki appreci product better\n"
     ]
    }
   ],
   "source": [
    "example = parsed_reviews.iloc[0,:]\n",
    "print(\"Original text\")\n",
    "print(example.Text)\n",
    "print(\"\\nParser zero text\")\n",
    "print(example.parser_zero)\n",
    "print(\"\\nParser one text\")\n",
    "print(example.parser_one)\n",
    "print(\"\\nParser two text\")\n",
    "print(example.parser_two)\n",
    "print(\"\\nParser three text\")\n",
    "print(example.parser_three)"
   ]
  },
  {
   "cell_type": "markdown",
   "metadata": {},
   "source": [
    "##### Remove empty reviews\n",
    "Because of applyting the above parsing function, some of the reviews may now contain no text at all. For example, if review had been made of numbers and/or special characters only, *parser_two* and *parser_three* would have returned an empty string. Such text data would not really help me to predict any sentiment, so it is better to remove it.  \n",
    "  \n",
    "Let me check how many reviews have now a *parser_two* text equal to `\"\"`."
   ]
  },
  {
   "cell_type": "code",
   "execution_count": 99,
   "metadata": {},
   "outputs": [
    {
     "data": {
      "text/html": [
       "<div>\n",
       "<style scoped>\n",
       "    .dataframe tbody tr th:only-of-type {\n",
       "        vertical-align: middle;\n",
       "    }\n",
       "\n",
       "    .dataframe tbody tr th {\n",
       "        vertical-align: top;\n",
       "    }\n",
       "\n",
       "    .dataframe thead th {\n",
       "        text-align: right;\n",
       "    }\n",
       "</style>\n",
       "<table border=\"1\" class=\"dataframe\">\n",
       "  <thead>\n",
       "    <tr style=\"text-align: right;\">\n",
       "      <th></th>\n",
       "      <th>Id</th>\n",
       "      <th>ProductId</th>\n",
       "      <th>UserId</th>\n",
       "      <th>ProfileName</th>\n",
       "      <th>HelpfulnessNumerator</th>\n",
       "      <th>HelpfulnessDenominator</th>\n",
       "      <th>Score</th>\n",
       "      <th>Time</th>\n",
       "      <th>Summary</th>\n",
       "      <th>Text</th>\n",
       "      <th>parser_zero</th>\n",
       "      <th>parser_one</th>\n",
       "      <th>parser_two</th>\n",
       "      <th>parser_three</th>\n",
       "    </tr>\n",
       "  </thead>\n",
       "  <tbody>\n",
       "    <tr>\n",
       "      <th>186041</th>\n",
       "      <td>233939</td>\n",
       "      <td>B003E6COMO</td>\n",
       "      <td>A2ZE58VIDDCMR7</td>\n",
       "      <td>inna</td>\n",
       "      <td>1</td>\n",
       "      <td>2</td>\n",
       "      <td>5</td>\n",
       "      <td>1350000000</td>\n",
       "      <td>&amp;#1091;&amp;#1076;&amp;#1086;&amp;#1073;&amp;#1085;&amp;#1072;&amp;#11...</td>\n",
       "      <td>&amp;#1056;&amp;#1077;&amp;#1096;&amp;#1080;&amp;#1083;&amp;#1072; &amp;#1...</td>\n",
       "      <td>решила заказать эти желатинки, т.к. дочка пошл...</td>\n",
       "      <td></td>\n",
       "      <td></td>\n",
       "      <td></td>\n",
       "    </tr>\n",
       "  </tbody>\n",
       "</table>\n",
       "</div>"
      ],
      "text/plain": [
       "            Id   ProductId          UserId ProfileName  HelpfulnessNumerator  \\\n",
       "186041  233939  B003E6COMO  A2ZE58VIDDCMR7        inna                     1   \n",
       "\n",
       "        HelpfulnessDenominator  Score        Time  \\\n",
       "186041                       2      5  1350000000   \n",
       "\n",
       "                                                  Summary  \\\n",
       "186041  &#1091;&#1076;&#1086;&#1073;&#1085;&#1072;&#11...   \n",
       "\n",
       "                                                     Text  \\\n",
       "186041  &#1056;&#1077;&#1096;&#1080;&#1083;&#1072; &#1...   \n",
       "\n",
       "                                              parser_zero parser_one  \\\n",
       "186041  решила заказать эти желатинки, т.к. дочка пошл...              \n",
       "\n",
       "       parser_two parser_three  \n",
       "186041                          "
      ]
     },
     "execution_count": 99,
     "metadata": {},
     "output_type": "execute_result"
    }
   ],
   "source": [
    "parsed_reviews[parsed_reviews.parser_two==\"\"]"
   ]
  },
  {
   "cell_type": "markdown",
   "metadata": {},
   "source": [
    "**Luckily**, there is only one of such reviews. Let me remove it."
   ]
  },
  {
   "cell_type": "code",
   "execution_count": 100,
   "metadata": {},
   "outputs": [
    {
     "data": {
      "text/html": [
       "<div>\n",
       "<style scoped>\n",
       "    .dataframe tbody tr th:only-of-type {\n",
       "        vertical-align: middle;\n",
       "    }\n",
       "\n",
       "    .dataframe tbody tr th {\n",
       "        vertical-align: top;\n",
       "    }\n",
       "\n",
       "    .dataframe thead th {\n",
       "        text-align: right;\n",
       "    }\n",
       "</style>\n",
       "<table border=\"1\" class=\"dataframe\">\n",
       "  <thead>\n",
       "    <tr style=\"text-align: right;\">\n",
       "      <th></th>\n",
       "      <th>Id</th>\n",
       "      <th>ProductId</th>\n",
       "      <th>UserId</th>\n",
       "      <th>ProfileName</th>\n",
       "      <th>HelpfulnessNumerator</th>\n",
       "      <th>HelpfulnessDenominator</th>\n",
       "      <th>Score</th>\n",
       "      <th>Time</th>\n",
       "      <th>Summary</th>\n",
       "      <th>Text</th>\n",
       "      <th>parser_zero</th>\n",
       "      <th>parser_one</th>\n",
       "      <th>parser_two</th>\n",
       "      <th>parser_three</th>\n",
       "    </tr>\n",
       "  </thead>\n",
       "  <tbody>\n",
       "    <tr>\n",
       "      <th>0</th>\n",
       "      <td>1</td>\n",
       "      <td>B001E4KFG0</td>\n",
       "      <td>A3SGXH7AUHU8GW</td>\n",
       "      <td>delmartian</td>\n",
       "      <td>1</td>\n",
       "      <td>1</td>\n",
       "      <td>5</td>\n",
       "      <td>1303862400</td>\n",
       "      <td>Good Quality Dog Food</td>\n",
       "      <td>I have bought several of the Vitality canned d...</td>\n",
       "      <td>i have bought several of the vitality canned d...</td>\n",
       "      <td>i have bought several of the vitality canned d...</td>\n",
       "      <td>bought several vitality canned dog food produc...</td>\n",
       "      <td>bought sever vital can dog food product found ...</td>\n",
       "    </tr>\n",
       "    <tr>\n",
       "      <th>1</th>\n",
       "      <td>2</td>\n",
       "      <td>B00813GRG4</td>\n",
       "      <td>A1D87F6ZCVE5NK</td>\n",
       "      <td>dll pa</td>\n",
       "      <td>0</td>\n",
       "      <td>0</td>\n",
       "      <td>1</td>\n",
       "      <td>1346976000</td>\n",
       "      <td>Not as Advertised</td>\n",
       "      <td>Product arrived labeled as Jumbo Salted Peanut...</td>\n",
       "      <td>product arrived labeled as jumbo salted peanut...</td>\n",
       "      <td>product arrived labeled as jumbo salted peanut...</td>\n",
       "      <td>product arrived labeled jumbo salted peanuts p...</td>\n",
       "      <td>product arriv label jumbo salt peanut peanut a...</td>\n",
       "    </tr>\n",
       "    <tr>\n",
       "      <th>2</th>\n",
       "      <td>3</td>\n",
       "      <td>B000LQOCH0</td>\n",
       "      <td>ABXLMWJIXXAIN</td>\n",
       "      <td>Natalia Corres \"Natalia Corres\"</td>\n",
       "      <td>1</td>\n",
       "      <td>1</td>\n",
       "      <td>4</td>\n",
       "      <td>1219017600</td>\n",
       "      <td>\"Delight\" says it all</td>\n",
       "      <td>This is a confection that has been around a fe...</td>\n",
       "      <td>this is a confection that has been around a fe...</td>\n",
       "      <td>this is a confection that has been around a fe...</td>\n",
       "      <td>confection around centuries light pillowy citr...</td>\n",
       "      <td>confect around centuri light pillowi citru gel...</td>\n",
       "    </tr>\n",
       "    <tr>\n",
       "      <th>3</th>\n",
       "      <td>4</td>\n",
       "      <td>B000UA0QIQ</td>\n",
       "      <td>A395BORC6FGVXV</td>\n",
       "      <td>Karl</td>\n",
       "      <td>3</td>\n",
       "      <td>3</td>\n",
       "      <td>2</td>\n",
       "      <td>1307923200</td>\n",
       "      <td>Cough Medicine</td>\n",
       "      <td>If you are looking for the secret ingredient i...</td>\n",
       "      <td>if you are looking for the secret ingredient i...</td>\n",
       "      <td>if you are looking for the secret ingredient i...</td>\n",
       "      <td>looking secret ingredient robitussin believe f...</td>\n",
       "      <td>look secret ingredi robitussin believ found go...</td>\n",
       "    </tr>\n",
       "    <tr>\n",
       "      <th>4</th>\n",
       "      <td>5</td>\n",
       "      <td>B006K2ZZ7K</td>\n",
       "      <td>A1UQRSCLF8GW1T</td>\n",
       "      <td>Michael D. Bigham \"M. Wassir\"</td>\n",
       "      <td>0</td>\n",
       "      <td>0</td>\n",
       "      <td>5</td>\n",
       "      <td>1350777600</td>\n",
       "      <td>Great taffy</td>\n",
       "      <td>Great taffy at a great price.  There was a wid...</td>\n",
       "      <td>great taffy at a great price.  there was a wid...</td>\n",
       "      <td>great taffy at a great price   there was a wid...</td>\n",
       "      <td>great taffy great price wide assortment yummy ...</td>\n",
       "      <td>great taffi great price wide assort yummi taff...</td>\n",
       "    </tr>\n",
       "  </tbody>\n",
       "</table>\n",
       "</div>"
      ],
      "text/plain": [
       "   Id   ProductId          UserId                      ProfileName  \\\n",
       "0   1  B001E4KFG0  A3SGXH7AUHU8GW                       delmartian   \n",
       "1   2  B00813GRG4  A1D87F6ZCVE5NK                           dll pa   \n",
       "2   3  B000LQOCH0   ABXLMWJIXXAIN  Natalia Corres \"Natalia Corres\"   \n",
       "3   4  B000UA0QIQ  A395BORC6FGVXV                             Karl   \n",
       "4   5  B006K2ZZ7K  A1UQRSCLF8GW1T    Michael D. Bigham \"M. Wassir\"   \n",
       "\n",
       "   HelpfulnessNumerator  HelpfulnessDenominator  Score        Time  \\\n",
       "0                     1                       1      5  1303862400   \n",
       "1                     0                       0      1  1346976000   \n",
       "2                     1                       1      4  1219017600   \n",
       "3                     3                       3      2  1307923200   \n",
       "4                     0                       0      5  1350777600   \n",
       "\n",
       "                 Summary                                               Text  \\\n",
       "0  Good Quality Dog Food  I have bought several of the Vitality canned d...   \n",
       "1      Not as Advertised  Product arrived labeled as Jumbo Salted Peanut...   \n",
       "2  \"Delight\" says it all  This is a confection that has been around a fe...   \n",
       "3         Cough Medicine  If you are looking for the secret ingredient i...   \n",
       "4            Great taffy  Great taffy at a great price.  There was a wid...   \n",
       "\n",
       "                                         parser_zero  \\\n",
       "0  i have bought several of the vitality canned d...   \n",
       "1  product arrived labeled as jumbo salted peanut...   \n",
       "2  this is a confection that has been around a fe...   \n",
       "3  if you are looking for the secret ingredient i...   \n",
       "4  great taffy at a great price.  there was a wid...   \n",
       "\n",
       "                                          parser_one  \\\n",
       "0  i have bought several of the vitality canned d...   \n",
       "1  product arrived labeled as jumbo salted peanut...   \n",
       "2  this is a confection that has been around a fe...   \n",
       "3  if you are looking for the secret ingredient i...   \n",
       "4  great taffy at a great price   there was a wid...   \n",
       "\n",
       "                                          parser_two  \\\n",
       "0  bought several vitality canned dog food produc...   \n",
       "1  product arrived labeled jumbo salted peanuts p...   \n",
       "2  confection around centuries light pillowy citr...   \n",
       "3  looking secret ingredient robitussin believe f...   \n",
       "4  great taffy great price wide assortment yummy ...   \n",
       "\n",
       "                                        parser_three  \n",
       "0  bought sever vital can dog food product found ...  \n",
       "1  product arriv label jumbo salt peanut peanut a...  \n",
       "2  confect around centuri light pillowi citru gel...  \n",
       "3  look secret ingredi robitussin believ found go...  \n",
       "4  great taffi great price wide assort yummi taff...  "
      ]
     },
     "execution_count": 100,
     "metadata": {},
     "output_type": "execute_result"
    }
   ],
   "source": [
    "parsed_reviews = parsed_reviews[parsed_reviews.parser_two != \"\"].copy()\n",
    "parsed_reviews.reset_index(drop=True, inplace=True)\n",
    "parsed_reviews.head()"
   ]
  },
  {
   "cell_type": "markdown",
   "metadata": {},
   "source": [
    "Let me save the reviews into four different pickle files."
   ]
  },
  {
   "cell_type": "markdown",
   "metadata": {},
   "source": [
    "### Score\n",
    "Let me convert negative *Score* reviews (1 and 2) into 0, and positive *Score* reviews (4 and 5) into 1."
   ]
  },
  {
   "cell_type": "code",
   "execution_count": 101,
   "metadata": {},
   "outputs": [],
   "source": [
    "parsed_reviews.loc[:,'adj_score'] = parsed_reviews.loc[:,'Score'].apply(lambda x: 1.0 if x >= 4 else 0.0 if x <=2 else 3.0)"
   ]
  },
  {
   "cell_type": "code",
   "execution_count": 102,
   "metadata": {},
   "outputs": [
    {
     "data": {
      "text/plain": [
       "(393578, 15)"
      ]
     },
     "execution_count": 102,
     "metadata": {},
     "output_type": "execute_result"
    }
   ],
   "source": [
    "parsed_reviews.shape"
   ]
  },
  {
   "cell_type": "code",
   "execution_count": 103,
   "metadata": {},
   "outputs": [
    {
     "data": {
      "text/plain": [
       "1.0    0.779406\n",
       "0.0    0.144995\n",
       "3.0    0.075599\n",
       "Name: adj_score, dtype: float64"
      ]
     },
     "execution_count": 103,
     "metadata": {},
     "output_type": "execute_result"
    }
   ],
   "source": [
    "parsed_reviews.adj_score.value_counts(normalize=True)"
   ]
  },
  {
   "cell_type": "markdown",
   "metadata": {},
   "source": [
    "##### Save data"
   ]
  },
  {
   "cell_type": "code",
   "execution_count": 104,
   "metadata": {},
   "outputs": [],
   "source": [
    "neutral_reviews = parsed_reviews[parsed_reviews.adj_score==3.0]\n",
    "sentiment_reviews = parsed_reviews[parsed_reviews.adj_score!=3.0]"
   ]
  },
  {
   "cell_type": "code",
   "execution_count": 105,
   "metadata": {},
   "outputs": [],
   "source": [
    "with open('reviews/neutral_reviews/neutral.pkl', 'wb') as f:\n",
    "    pkl.dump(neutral_reviews, f)\n",
    "\n",
    "with open('reviews/sentiment_reviews/sentiment.pkl', 'wb') as f:\n",
    "    pkl.dump(sentiment_reviews, f)"
   ]
  },
  {
   "cell_type": "markdown",
   "metadata": {},
   "source": [
    "## Train, Validation and Test Split\n",
    "Most of the sentiment reviews - slightly more than 84% - belong to the positve sentiment class (i.e. `adj_score` value equal to 1.0)."
   ]
  },
  {
   "cell_type": "code",
   "execution_count": 106,
   "metadata": {},
   "outputs": [
    {
     "data": {
      "text/plain": [
       "1.0    0.843147\n",
       "0.0    0.156853\n",
       "Name: adj_score, dtype: float64"
      ]
     },
     "execution_count": 106,
     "metadata": {},
     "output_type": "execute_result"
    }
   ],
   "source": [
    "sentiment_reviews.adj_score.value_counts(normalize=True)"
   ]
  },
  {
   "cell_type": "code",
   "execution_count": 107,
   "metadata": {},
   "outputs": [],
   "source": [
    "# Create a Stratified Shuffle Splitter to split my data\n",
    "SSS = StratifiedShuffleSplit(n_splits=1, random_state=random_seed)"
   ]
  },
  {
   "cell_type": "code",
   "execution_count": 108,
   "metadata": {},
   "outputs": [],
   "source": [
    "# Extract data labels\n",
    "y = sentiment_reviews.adj_score.values\n",
    "\n",
    "# Extract non-test and test indexes\n",
    "for i, j in SSS.split(np.zeros(y.shape), y):\n",
    "    non_test_idx = i\n",
    "    test_idx = j\n",
    "    \n",
    "y_non_test = y[non_test_idx]\n",
    "\n",
    "for i, j in SSS.split(np.zeros(y_non_test.shape), y_non_test):\n",
    "    train_idx = i\n",
    "    val_idx = j"
   ]
  },
  {
   "cell_type": "markdown",
   "metadata": {},
   "source": [
    "Please notice that train and validation indexes must be used on the non_test data. In other words, you cannot use the `train_idx` to slice the `sentiment_reviews` dataframe straight away, but you have to slice it first with the `non_test_idx`"
   ]
  },
  {
   "cell_type": "code",
   "execution_count": 109,
   "metadata": {},
   "outputs": [
    {
     "data": {
      "text/plain": [
       "1.0    0.843147\n",
       "0.0    0.156853\n",
       "Name: adj_score, dtype: float64"
      ]
     },
     "execution_count": 109,
     "metadata": {},
     "output_type": "execute_result"
    }
   ],
   "source": [
    "# Proportion of reviews by sentiment for non_test data\n",
    "sentiment_reviews.iloc[non_test_idx,:].adj_score.value_counts(normalize=True)"
   ]
  },
  {
   "cell_type": "code",
   "execution_count": 110,
   "metadata": {},
   "outputs": [
    {
     "data": {
      "text/plain": [
       "1.0    0.843141\n",
       "0.0    0.156859\n",
       "Name: adj_score, dtype: float64"
      ]
     },
     "execution_count": 110,
     "metadata": {},
     "output_type": "execute_result"
    }
   ],
   "source": [
    "# Proportion of reviews by sentiment for test data\n",
    "sentiment_reviews.iloc[test_idx,:].adj_score.value_counts(normalize=True)"
   ]
  },
  {
   "cell_type": "code",
   "execution_count": 111,
   "metadata": {},
   "outputs": [
    {
     "data": {
      "text/plain": [
       "1.0    0.843147\n",
       "0.0    0.156853\n",
       "Name: adj_score, dtype: float64"
      ]
     },
     "execution_count": 111,
     "metadata": {},
     "output_type": "execute_result"
    }
   ],
   "source": [
    "# Proportion of reviews by sentiment for train data\n",
    "sentiment_reviews.iloc[non_test_idx,:].iloc[train_idx,:].adj_score.value_counts(normalize=True)"
   ]
  },
  {
   "cell_type": "code",
   "execution_count": 112,
   "metadata": {},
   "outputs": [
    {
     "data": {
      "text/plain": [
       "1.0    0.843152\n",
       "0.0    0.156848\n",
       "Name: adj_score, dtype: float64"
      ]
     },
     "execution_count": 112,
     "metadata": {},
     "output_type": "execute_result"
    }
   ],
   "source": [
    "# Proportion of reviews by sentiment for validation data\n",
    "sentiment_reviews.iloc[non_test_idx,:].iloc[val_idx,:].adj_score.value_counts(normalize=True)"
   ]
  },
  {
   "cell_type": "code",
   "execution_count": 113,
   "metadata": {},
   "outputs": [],
   "source": [
    "##### Save indexes\n",
    "indexes = {\"non_test\" : non_test_idx, \n",
    "           \"test\" : test_idx, \n",
    "           \"train\" : train_idx, \n",
    "           \"val\" : val_idx}"
   ]
  },
  {
   "cell_type": "code",
   "execution_count": 114,
   "metadata": {},
   "outputs": [],
   "source": [
    "with open(\"split_indexes/indexes.pkl\", 'wb') as f:\n",
    "    pkl.dump(indexes, f)"
   ]
  }
 ],
 "metadata": {
  "kernelspec": {
   "display_name": "Python 3",
   "language": "python",
   "name": "python3"
  },
  "language_info": {
   "codemirror_mode": {
    "name": "ipython",
    "version": 3
   },
   "file_extension": ".py",
   "mimetype": "text/x-python",
   "name": "python",
   "nbconvert_exporter": "python",
   "pygments_lexer": "ipython3",
   "version": "3.6.4"
  }
 },
 "nbformat": 4,
 "nbformat_minor": 2
}
