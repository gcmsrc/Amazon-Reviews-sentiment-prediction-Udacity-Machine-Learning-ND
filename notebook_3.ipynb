{
 "cells": [
  {
   "cell_type": "markdown",
   "metadata": {},
   "source": [
    "# Machine Learning Engineer Nanodegree - Capstone Project\n",
    "## PART 3: Word2vec"
   ]
  },
  {
   "cell_type": "markdown",
   "metadata": {},
   "source": [
    "**Author:** Giacomo Sarchioni"
   ]
  },
  {
   "cell_type": "code",
   "execution_count": 139,
   "metadata": {},
   "outputs": [],
   "source": [
    "# Module imports\n",
    "import pickle as pkl\n",
    "%matplotlib inline\n",
    "import matplotlib.pyplot as plt\n",
    "import numpy as np\n",
    "import nltk\n",
    "import re\n",
    "from tqdm import tqdm\n",
    "from gensim.models import Word2Vec\n",
    "\n",
    "random_seed = 42"
   ]
  },
  {
   "cell_type": "markdown",
   "metadata": {},
   "source": [
    "## Data import"
   ]
  },
  {
   "cell_type": "code",
   "execution_count": 9,
   "metadata": {},
   "outputs": [],
   "source": [
    "# Get indexes\n",
    "with open('split_indexes/indexes.pkl', 'rb') as f:\n",
    "    indexes = pkl.load(f)"
   ]
  },
  {
   "cell_type": "code",
   "execution_count": 32,
   "metadata": {},
   "outputs": [],
   "source": [
    "# Get sentiment reviews\n",
    "with open('reviews/sentiment_reviews/sentiment.pkl', 'rb') as f:\n",
    "    sentiment_reviews = pkl.load(f)\n",
    "    \n",
    "# Get neutral reviews\n",
    "with open('reviews/neutral_reviews/neutral.pkl', 'rb') as f:\n",
    "    neutral_reviews = pkl.load(f)"
   ]
  },
  {
   "cell_type": "code",
   "execution_count": 44,
   "metadata": {},
   "outputs": [],
   "source": [
    "# Get sentiment non_test sentiment reviews parser_one text\n",
    "non_test_parser_zero_reviews = sentiment_reviews.parser_zero.values[indexes['non_test']]\n",
    "\n",
    "# Get neutral reviews parser_one text\n",
    "parser_zero_neutral_reviews = neutral_reviews.parser_zero.values"
   ]
  },
  {
   "cell_type": "code",
   "execution_count": 45,
   "metadata": {},
   "outputs": [],
   "source": [
    "# Define reviews for word2vec model\n",
    "reviews_for_word2vec = np.append(non_test_parser_zero_reviews, parser_zero_neutral_reviews)"
   ]
  },
  {
   "cell_type": "code",
   "execution_count": 46,
   "metadata": {},
   "outputs": [],
   "source": [
    "# Randomly shuffle reviews\n",
    "np.random.shuffle(reviews_for_word2vec)"
   ]
  },
  {
   "cell_type": "markdown",
   "metadata": {},
   "source": [
    "## Punkt tokenizer"
   ]
  },
  {
   "cell_type": "code",
   "execution_count": 47,
   "metadata": {},
   "outputs": [],
   "source": [
    "# Download punctuation tokenizer\n",
    "tokenizer = nltk.data.load('tokenizers/punkt/english.pickle')"
   ]
  },
  {
   "cell_type": "markdown",
   "metadata": {},
   "source": [
    "The punctuation tokeniser is capable of splitting a string paragraph into a list of sentences based on punctuation. I have added an example below."
   ]
  },
  {
   "cell_type": "code",
   "execution_count": 48,
   "metadata": {},
   "outputs": [
    {
     "data": {
      "text/plain": [
       "['The product was delivered on time.',\n",
       " 'I have used it for a few days and I definitely recommend it.']"
      ]
     },
     "execution_count": 48,
     "metadata": {},
     "output_type": "execute_result"
    }
   ],
   "source": [
    "example = \"The product was delivered on time. I have used it for a few days and I definitely recommend it.\"\n",
    "tokenizer.tokenize(example)"
   ]
  },
  {
   "cell_type": "markdown",
   "metadata": {},
   "source": [
    "I have used `parser_zero` data because I need to keep punctuation (i.e. non-letter characters) in order to split my reviews into sentences. Once this is done, however, I would revemo non-letter characters. That is why I define a simple `keep_letters_only` function."
   ]
  },
  {
   "cell_type": "code",
   "execution_count": 62,
   "metadata": {},
   "outputs": [],
   "source": [
    "def keep_letters_only(sentence):\n",
    "    \n",
    "    \"\"\"\n",
    "    \n",
    "        Keep only letters in a given string.\n",
    "        \n",
    "        Args:\n",
    "            - sentence: string\n",
    "            \n",
    "        Returns:\n",
    "            - sentence: list\n",
    "    \n",
    "    \"\"\"\n",
    "    \n",
    "    # Keep letters only\n",
    "    sentence = re.sub('[^a-zA-Z]', \" \", sentence)\n",
    "    \n",
    "    # Return list of words\n",
    "    return sentence.split()"
   ]
  },
  {
   "cell_type": "code",
   "execution_count": 68,
   "metadata": {},
   "outputs": [
    {
     "name": "stderr",
     "output_type": "stream",
     "text": [
      "100%|██████████| 357195/357195 [00:57<00:00, 6253.50it/s]\n"
     ]
    }
   ],
   "source": [
    "# Apply tokeniser to all the reviews\n",
    "train_sentences = []\n",
    "for review in tqdm(reviews_for_word2vec):\n",
    "    for tokenized_r in tokenizer.tokenize(review):\n",
    "        \n",
    "        # Keep letters only\n",
    "        r_letters_only = keep_letters_only(tokenized_r)\n",
    "        if len(r_letters_only) > 0:\n",
    "            train_sentences.append(r_letters_only)"
   ]
  },
  {
   "cell_type": "code",
   "execution_count": 69,
   "metadata": {},
   "outputs": [
    {
     "data": {
      "text/plain": [
       "'these keep my dogs busy for hours at a time...they love it!  easy to use and it seems to clean their teeth too.'"
      ]
     },
     "execution_count": 69,
     "metadata": {},
     "output_type": "execute_result"
    }
   ],
   "source": [
    "# Print first original review\n",
    "reviews_for_word2vec[0]"
   ]
  },
  {
   "cell_type": "code",
   "execution_count": 70,
   "metadata": {},
   "outputs": [
    {
     "name": "stdout",
     "output_type": "stream",
     "text": [
      "['these', 'keep', 'my', 'dogs', 'busy', 'for', 'hours', 'at', 'a', 'time', 'they', 'love', 'it']\n",
      "['easy', 'to', 'use', 'and', 'it', 'seems', 'to', 'clean', 'their', 'teeth', 'too']\n"
     ]
    }
   ],
   "source": [
    "# Print sentences into which the first review has been split\n",
    "print(train_sentences[0])\n",
    "print(train_sentences[1])"
   ]
  },
  {
   "cell_type": "code",
   "execution_count": 71,
   "metadata": {},
   "outputs": [],
   "source": [
    "# Save the reviews for word2vec training\n",
    "with open('reviews/word2vec_reviews/reviews_for_word2vec.pkl', 'wb') as f:\n",
    "    pkl.dump(train_sentences, f)"
   ]
  },
  {
   "cell_type": "markdown",
   "metadata": {},
   "source": [
    "## `gensim` word2vec"
   ]
  },
  {
   "cell_type": "code",
   "execution_count": 3,
   "metadata": {},
   "outputs": [],
   "source": [
    "# Load reviews for word2vec training\n",
    "with open('reviews/word2vec_reviews/reviews_for_word2vec.pkl', 'rb') as f:\n",
    "    train_sentences = pkl.load(f)"
   ]
  },
  {
   "cell_type": "code",
   "execution_count": 76,
   "metadata": {},
   "outputs": [],
   "source": [
    "# Train default cbow model\n",
    "default_cbow = Word2Vec(train_sentences, seed=random_seed, size=300, workers=16)"
   ]
  },
  {
   "cell_type": "code",
   "execution_count": 80,
   "metadata": {},
   "outputs": [],
   "source": [
    "# Train default sgram model\n",
    "default_sgram = Word2Vec(train_sentences, seed=random_seed, size=300, workers=16, sg=1)"
   ]
  },
  {
   "cell_type": "code",
   "execution_count": 81,
   "metadata": {},
   "outputs": [
    {
     "data": {
      "text/plain": [
       "[('great', 0.7333831787109375),\n",
       " ('decent', 0.6977159380912781),\n",
       " ('fantastic', 0.6646863222122192),\n",
       " ('terrific', 0.6386393904685974),\n",
       " ('bad', 0.6170471906661987)]"
      ]
     },
     "execution_count": 81,
     "metadata": {},
     "output_type": "execute_result"
    }
   ],
   "source": [
    "# Print most similar to good using cbow model\n",
    "default_cbow.wv.most_similar(['good'], topn=5)"
   ]
  },
  {
   "cell_type": "code",
   "execution_count": 36,
   "metadata": {},
   "outputs": [
    {
     "data": {
      "text/plain": [
       "[('goood', 0.6669744253158569),\n",
       " ('great', 0.6536601781845093),\n",
       " ('decent', 0.6179765462875366),\n",
       " ('gooood', 0.6065623760223389),\n",
       " ('agreat', 0.5981117486953735)]"
      ]
     },
     "execution_count": 36,
     "metadata": {},
     "output_type": "execute_result"
    }
   ],
   "source": [
    "# Print most similar to good using sgram model\n",
    "default_sgram.wv.most_similar(['good'], topn=5)"
   ]
  },
  {
   "cell_type": "code",
   "execution_count": 87,
   "metadata": {},
   "outputs": [],
   "source": [
    "# Save Word2vec default cbow model\n",
    "default_cbow.init_sims(replace=True)\n",
    "default_cbow.save('word2vec_models/default_cbow_word2vec.hdf5')\n",
    "\n",
    "# Save Word2vec default skip-gram model\n",
    "default_sgram.init_sims(replace=True)\n",
    "default_sgram.save('word2vec_models/default_sgram_word2vec.hdf5')"
   ]
  },
  {
   "cell_type": "code",
   "execution_count": 5,
   "metadata": {},
   "outputs": [],
   "source": [
    "# Load Word2vec models\n",
    "default_cbow = Word2Vec.load('word2vec_models/default_cbow_word2vec.hdf5')\n",
    "default_sgram = Word2Vec.load('word2vec_models/default_sgram_word2vec.hdf5')"
   ]
  },
  {
   "cell_type": "markdown",
   "metadata": {},
   "source": [
    "#### Cosine similarities for opposite words"
   ]
  },
  {
   "cell_type": "code",
   "execution_count": 117,
   "metadata": {},
   "outputs": [],
   "source": [
    "# List of opposites\n",
    "opposites = [('good', 'bad'),\n",
    "             ('awesome', 'terrible'),\n",
    "             ('delicious', 'disgusting'), \n",
    "             ('tasty', 'unsavory'), \n",
    "             ('worthy', 'unworthy')]\n",
    "\n",
    "# labels\n",
    "labels = [c[0] + \"-\" + c[1] for c in opposites]"
   ]
  },
  {
   "cell_type": "code",
   "execution_count": 118,
   "metadata": {},
   "outputs": [],
   "source": [
    "# Evaluate similarities\n",
    "cbow_similarities = []\n",
    "sgram_similarities = []\n",
    "\n",
    "# Loop through\n",
    "for c in opposites:\n",
    "    cbow_similarities.append(default_cbow.wv.similarity(c[0], c[1]))\n",
    "    sgram_similarities.append(default_sgram.wv.similarity(c[0], c[1]))"
   ]
  },
  {
   "cell_type": "code",
   "execution_count": 137,
   "metadata": {},
   "outputs": [
    {
     "data": {
      "image/png": "[encoded data removed]",
      "text/plain": [
       "<matplotlib.figure.Figure at 0x7fe16c535630>"
      ]
     },
     "metadata": {},
     "output_type": "display_data"
    }
   ],
   "source": [
    "fig = plt.figure(figsize=(6,6))\n",
    "ax = fig.add_subplot(111)\n",
    "ax.scatter(labels, cbow_similarities, label='cbow')\n",
    "ax.scatter(labels, sgram_similarities, label='skip-gram')\n",
    "ax.axes.set_ylim(0.,1.)\n",
    "ax.axes.set_yticks(list(np.arange(0., 1.1, 0.1)))\n",
    "ax.axes.set_xticklabels(labels=labels, rotation=42, va='top', ha='right')\n",
    "ax.axes.xaxis.set_ticks_position('none')\n",
    "ax.legend()\n",
    "plt.title('Opposite words - cosine similarities\\n', weight='bold');"
   ]
  }
 ],
 "metadata": {
  "kernelspec": {
   "display_name": "Python 3",
   "language": "python",
   "name": "python3"
  },
  "language_info": {
   "codemirror_mode": {
    "name": "ipython",
    "version": 3
   },
   "file_extension": ".py",
   "mimetype": "text/x-python",
   "name": "python",
   "nbconvert_exporter": "python",
   "pygments_lexer": "ipython3",
   "version": "3.6.4"
  }
 },
 "nbformat": 4,
 "nbformat_minor": 2
}
