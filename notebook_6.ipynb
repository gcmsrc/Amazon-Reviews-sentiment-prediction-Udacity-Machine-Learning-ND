{
 "cells": [
  {
   "cell_type": "markdown",
   "metadata": {},
   "source": [
    "# Machine Learning Engineer Nanodegree - Capstone Project\n",
    "## PART 6: Final Model"
   ]
  },
  {
   "cell_type": "markdown",
   "metadata": {},
   "source": [
    "**Author:** Giacomo Sarchioni"
   ]
  },
  {
   "cell_type": "code",
   "execution_count": 3,
   "metadata": {},
   "outputs": [],
   "source": [
    "# Module imports\n",
    "import pickle as pkl\n",
    "import pandas as pd\n",
    "%matplotlib inline\n",
    "import matplotlib.pyplot as plt\n",
    "import numpy as np\n",
    "from roc_chart import ROCChart\n",
    "from sklearn.feature_extraction.text import TfidfVectorizer\n",
    "from sklearn.metrics import roc_auc_score, accuracy_score, roc_curve\n",
    "from roc_chart import ROCChart\n",
    "from sklearn.externals import joblib\n",
    "import keras\n",
    "from keras.callbacks import EarlyStopping\n",
    "from keras.preprocessing.text import Tokenizer\n",
    "from keras.preprocessing.sequence import pad_sequences\n",
    "from keras.models import Sequential, load_model\n",
    "from keras.layers import Conv1D, Dense, Embedding, Flatten, Dropout, LSTM, GRU, LeakyReLU\n",
    "from keras.layers import MaxPooling1D, AveragePooling1D, GlobalMaxPooling1D, GlobalAveragePooling1D\n",
    "from keras.callbacks import ModelCheckpoint, TensorBoard\n",
    "from keras.models import load_model\n",
    "from gensim.models import Word2Vec, KeyedVectors\n",
    "\n",
    "random_seed = 42"
   ]
  },
  {
   "cell_type": "markdown",
   "metadata": {},
   "source": [
    "## Import data"
   ]
  },
  {
   "cell_type": "code",
   "execution_count": 8,
   "metadata": {},
   "outputs": [],
   "source": [
    "# Load reviews\n",
    "with open('reviews/sentiment_reviews/sentiment.pkl', 'rb') as f:\n",
    "    sentiment_reviews = pkl.load(f)\n",
    "    \n",
    "# Load indexes\n",
    "with open('split_indexes/indexes.pkl', 'rb') as f:\n",
    "    indexes = pkl.load(f)"
   ]
  },
  {
   "cell_type": "code",
   "execution_count": 9,
   "metadata": {},
   "outputs": [],
   "source": [
    "# Extract scores\n",
    "scores = sentiment_reviews.adj_score.values\n",
    "\n",
    "# Extract non-test and test scores\n",
    "non_test_scores = scores[indexes['non_test']]\n",
    "test_scores = scores[indexes['test']]\n",
    "\n",
    "# Extract train and validation scores\n",
    "train_scores = non_test_scores[indexes['train']]\n",
    "val_scores = non_test_scores[indexes['val']]\n",
    "\n",
    "# Transform scores into categorical\n",
    "scores_cat = keras.utils.to_categorical(scores,2)\n",
    "\n",
    "# Extract non-test and test scores\n",
    "non_test_scores_cat = scores_cat[indexes['non_test']]\n",
    "test_scores_cat = scores_cat[indexes['test']]\n",
    "\n",
    "# Extract train and validation scores\n",
    "train_scores_cat = non_test_scores_cat[indexes['train']]\n",
    "val_scores_cat = non_test_scores_cat[indexes['val']]"
   ]
  },
  {
   "cell_type": "code",
   "execution_count": 10,
   "metadata": {},
   "outputs": [],
   "source": [
    "# Extract parser_zero_reviews \n",
    "parser_zero_reviews = sentiment_reviews.loc[:,'parser_zero'].values\n",
    "\n",
    "# Extract non test parser two reviews and scores\n",
    "non_test_parser_zero_reviews = parser_zero_reviews[indexes['non_test']]\n",
    "test_parser_zero_reviews = parser_zero_reviews[indexes['test']]\n",
    "\n",
    "# Extract train and validation parser-two reviews\n",
    "train_parser_zero_reviews = non_test_parser_zero_reviews[indexes['train']]\n",
    "val_parser_zero_reviews = non_test_parser_zero_reviews[indexes['val']]"
   ]
  },
  {
   "cell_type": "code",
   "execution_count": 11,
   "metadata": {},
   "outputs": [
    {
     "data": {
      "text/plain": [
       "'i have bought several of the vitality canned dog food products and have found them all to be of good quality. the product looks more like a stew than a processed meat and it smells better. my labrador is finicky and she appreciates this product better than  most.'"
      ]
     },
     "execution_count": 11,
     "metadata": {},
     "output_type": "execute_result"
    }
   ],
   "source": [
    "parser_zero_reviews[0]"
   ]
  },
  {
   "cell_type": "code",
   "execution_count": 12,
   "metadata": {},
   "outputs": [],
   "source": [
    "# Extract parser_one_reviews \n",
    "parser_one_reviews = sentiment_reviews.loc[:,'parser_one'].values\n",
    "\n",
    "# Extract non test parser two reviews and scores\n",
    "non_test_parser_one_reviews = parser_one_reviews[indexes['non_test']]\n",
    "test_parser_one_reviews = parser_one_reviews[indexes['test']]\n",
    "\n",
    "# Extract train and validation parser-two reviews\n",
    "train_parser_one_reviews = non_test_parser_one_reviews[indexes['train']]\n",
    "val_parser_one_reviews = non_test_parser_one_reviews[indexes['val']]"
   ]
  },
  {
   "cell_type": "code",
   "execution_count": 13,
   "metadata": {},
   "outputs": [
    {
     "data": {
      "text/plain": [
       "'i have bought several of the vitality canned dog food products and have found them all to be of good quality  the product looks more like a stew than a processed meat and it smells better  my labrador is finicky and she appreciates this product better than  most'"
      ]
     },
     "execution_count": 13,
     "metadata": {},
     "output_type": "execute_result"
    }
   ],
   "source": [
    "parser_one_reviews[0]"
   ]
  },
  {
   "cell_type": "markdown",
   "metadata": {},
   "source": [
    "## Import log reg benchmark model"
   ]
  },
  {
   "cell_type": "code",
   "execution_count": 14,
   "metadata": {},
   "outputs": [],
   "source": [
    "# Load log reg benchmark\n",
    "bmk_log_reg = joblib.load('bmk_models/bmk_log_reg.pkl')\n",
    "\n",
    "# Bmk Log Reg predictions\n",
    "val_bmk_log_reg_pred = bmk_log_reg.predict(val_parser_one_reviews)"
   ]
  },
  {
   "cell_type": "markdown",
   "metadata": {},
   "source": [
    "## Tokenise `parser_zero` reviews"
   ]
  },
  {
   "cell_type": "code",
   "execution_count": 15,
   "metadata": {},
   "outputs": [],
   "source": [
    "# Define number words in tokenizer\n",
    "n_words_tokenizer = None\n",
    "\n",
    "# Define max_len for reviews\n",
    "max_len = 50"
   ]
  },
  {
   "cell_type": "code",
   "execution_count": 16,
   "metadata": {},
   "outputs": [],
   "source": [
    "# Tokenise and pad  parser_zero reviews\n",
    "# Import tokeniser\n",
    "keras_tokenizer = Tokenizer(num_words = n_words_tokenizer)\n",
    "\n",
    "keras_tokenizer.fit_on_texts(train_parser_one_reviews)\n",
    "\n",
    "# Tokenise train, val and test parser_zero reviews\n",
    "tokenised_train = keras_tokenizer.texts_to_sequences(train_parser_one_reviews)\n",
    "tokenised_val = keras_tokenizer.texts_to_sequences(val_parser_one_reviews)\n",
    "tokenised_test = keras_tokenizer.texts_to_sequences(test_parser_one_reviews)\n",
    "\n",
    "# Transform reviews into sequences using pad_sequences\n",
    "padded_train = pad_sequences(tokenised_train, maxlen=max_len, padding='post')\n",
    "padded_val = pad_sequences(tokenised_val, maxlen=max_len, padding='post')\n",
    "padded_test = pad_sequences(tokenised_test, maxlen=max_len, padding='post')"
   ]
  },
  {
   "cell_type": "markdown",
   "metadata": {},
   "source": [
    "## Import Word2vec model and create embedding matrix"
   ]
  },
  {
   "cell_type": "code",
   "execution_count": 17,
   "metadata": {},
   "outputs": [],
   "source": [
    "# # Load word2vec model\n",
    "sgram_word2vec_model = Word2Vec.load('word2vec_models/default_sgram_word2vec.hdf5')\n",
    "\n",
    "# # Extract words in word2vec model\n",
    "sgram_word2vec_words = set(sgram_word2vec_model.wv.index2word)"
   ]
  },
  {
   "cell_type": "code",
   "execution_count": 18,
   "metadata": {},
   "outputs": [],
   "source": [
    "# Extract first dimension of embedding matrix\n",
    "if n_words_tokenizer == None:\n",
    "    embedding_first_dimension = len(keras_tokenizer.word_index)+1\n",
    "else:\n",
    "    embedding_first_dimension = n_words_tokenizer + 1"
   ]
  },
  {
   "cell_type": "code",
   "execution_count": 19,
   "metadata": {},
   "outputs": [],
   "source": [
    "# Extract second dimension of embedding matrix\n",
    "embedding_second_dimension = sgram_word2vec_model.vector_size"
   ]
  },
  {
   "cell_type": "code",
   "execution_count": 20,
   "metadata": {},
   "outputs": [
    {
     "name": "stdout",
     "output_type": "stream",
     "text": [
      "106684\n",
      "300\n"
     ]
    }
   ],
   "source": [
    "print(embedding_first_dimension)\n",
    "print(embedding_second_dimension)"
   ]
  },
  {
   "cell_type": "code",
   "execution_count": 21,
   "metadata": {},
   "outputs": [],
   "source": [
    "# Initialise zero array\n",
    "embedding_matrix = np.zeros((embedding_first_dimension, embedding_second_dimension))\n",
    "\n",
    "# Extract index2word dictionary from tokenise\n",
    "keras_tokenizer_index2word = {i:k for k,i in keras_tokenizer.word_index.items()}\n",
    "\n",
    "# Add word2vec to embedding matrix\n",
    "for i in range(embedding_matrix.shape[0]):\n",
    "    if i != 0 and keras_tokenizer_index2word[i] in sgram_word2vec_words:\n",
    "        embedding_matrix[i] = sgram_word2vec_model.wv[keras_tokenizer_index2word[i]]"
   ]
  },
  {
   "cell_type": "markdown",
   "metadata": {},
   "source": [
    "### Import Google pre-trained word2vec vectors"
   ]
  },
  {
   "cell_type": "code",
   "execution_count": 22,
   "metadata": {},
   "outputs": [],
   "source": [
    "# # Initialise google word2vec model\n",
    "google_word2vec_vectors = KeyedVectors.load_word2vec_format('word2vec_models/GoogleNews-vectors-negative300.bin', \n",
    "                                                            binary=True)"
   ]
  },
  {
   "cell_type": "code",
   "execution_count": 23,
   "metadata": {},
   "outputs": [],
   "source": [
    "# # Extract words in word2vec model\n",
    "google_word2vec_words = set(google_word2vec_vectors.index2word)"
   ]
  },
  {
   "cell_type": "code",
   "execution_count": 19,
   "metadata": {},
   "outputs": [],
   "source": [
    "# Initialise zero array for Google word2vec embedding matrix\n",
    "google_embedding_matrix = np.zeros((embedding_first_dimension, embedding_second_dimension))\n",
    "\n",
    "# Extract index2word dictionary from tokenise\n",
    "keras_tokenizer_index2word = {i:k for k,i in keras_tokenizer.word_index.items()}\n",
    "\n",
    "# Add word2vec to embedding matrix\n",
    "for i in range(google_embedding_matrix.shape[0]):\n",
    "    if i != 0 and keras_tokenizer_index2word[i] in google_word2vec_words:\n",
    "        google_embedding_matrix[i] = google_word2vec_vectors.word_vec(keras_tokenizer_index2word[i])"
   ]
  },
  {
   "cell_type": "markdown",
   "metadata": {},
   "source": [
    "## Refined model"
   ]
  },
  {
   "cell_type": "code",
   "execution_count": 42,
   "metadata": {},
   "outputs": [],
   "source": [
    "keras.backend.clear_session()"
   ]
  },
  {
   "cell_type": "code",
   "execution_count": 5,
   "metadata": {},
   "outputs": [],
   "source": [
    "# Load best model\n",
    "pred_model = load_model('final_model/dl_final.hdf5')"
   ]
  },
  {
   "cell_type": "code",
   "execution_count": 6,
   "metadata": {},
   "outputs": [
    {
     "data": {
      "text/plain": [
       "[{'class_name': 'Embedding',\n",
       "  'config': {'activity_regularizer': None,\n",
       "   'batch_input_shape': (None, 50),\n",
       "   'dtype': 'float32',\n",
       "   'embeddings_constraint': None,\n",
       "   'embeddings_initializer': {'class_name': 'RandomUniform',\n",
       "    'config': {'maxval': 0.05, 'minval': -0.05, 'seed': None}},\n",
       "   'embeddings_regularizer': None,\n",
       "   'input_dim': 106684,\n",
       "   'input_length': 50,\n",
       "   'mask_zero': False,\n",
       "   'name': 'embedding_1',\n",
       "   'output_dim': 300,\n",
       "   'trainable': True}},\n",
       " {'class_name': 'Conv1D',\n",
       "  'config': {'activation': 'linear',\n",
       "   'activity_regularizer': None,\n",
       "   'bias_constraint': None,\n",
       "   'bias_initializer': {'class_name': 'Zeros', 'config': {}},\n",
       "   'bias_regularizer': None,\n",
       "   'dilation_rate': (1,),\n",
       "   'filters': 32,\n",
       "   'kernel_constraint': None,\n",
       "   'kernel_initializer': {'class_name': 'VarianceScaling',\n",
       "    'config': {'distribution': 'uniform',\n",
       "     'mode': 'fan_avg',\n",
       "     'scale': 1.0,\n",
       "     'seed': None}},\n",
       "   'kernel_regularizer': None,\n",
       "   'kernel_size': (5,),\n",
       "   'name': 'conv1d_1',\n",
       "   'padding': 'same',\n",
       "   'strides': (1,),\n",
       "   'trainable': True,\n",
       "   'use_bias': True}},\n",
       " {'class_name': 'LeakyReLU',\n",
       "  'config': {'alpha': 0.30000001192092896,\n",
       "   'name': 'leaky_re_lu_1',\n",
       "   'trainable': True}},\n",
       " {'class_name': 'AveragePooling1D',\n",
       "  'config': {'name': 'average_pooling1d_1',\n",
       "   'padding': 'same',\n",
       "   'pool_size': (2,),\n",
       "   'strides': (2,),\n",
       "   'trainable': True}},\n",
       " {'class_name': 'Conv1D',\n",
       "  'config': {'activation': 'linear',\n",
       "   'activity_regularizer': None,\n",
       "   'bias_constraint': None,\n",
       "   'bias_initializer': {'class_name': 'Zeros', 'config': {}},\n",
       "   'bias_regularizer': None,\n",
       "   'dilation_rate': (1,),\n",
       "   'filters': 64,\n",
       "   'kernel_constraint': None,\n",
       "   'kernel_initializer': {'class_name': 'VarianceScaling',\n",
       "    'config': {'distribution': 'uniform',\n",
       "     'mode': 'fan_avg',\n",
       "     'scale': 1.0,\n",
       "     'seed': None}},\n",
       "   'kernel_regularizer': None,\n",
       "   'kernel_size': (3,),\n",
       "   'name': 'conv1d_2',\n",
       "   'padding': 'same',\n",
       "   'strides': (1,),\n",
       "   'trainable': True,\n",
       "   'use_bias': True}},\n",
       " {'class_name': 'LeakyReLU',\n",
       "  'config': {'alpha': 0.30000001192092896,\n",
       "   'name': 'leaky_re_lu_2',\n",
       "   'trainable': True}},\n",
       " {'class_name': 'AveragePooling1D',\n",
       "  'config': {'name': 'average_pooling1d_2',\n",
       "   'padding': 'same',\n",
       "   'pool_size': (2,),\n",
       "   'strides': (2,),\n",
       "   'trainable': True}},\n",
       " {'class_name': 'Conv1D',\n",
       "  'config': {'activation': 'linear',\n",
       "   'activity_regularizer': None,\n",
       "   'bias_constraint': None,\n",
       "   'bias_initializer': {'class_name': 'Zeros', 'config': {}},\n",
       "   'bias_regularizer': None,\n",
       "   'dilation_rate': (1,),\n",
       "   'filters': 128,\n",
       "   'kernel_constraint': None,\n",
       "   'kernel_initializer': {'class_name': 'VarianceScaling',\n",
       "    'config': {'distribution': 'uniform',\n",
       "     'mode': 'fan_avg',\n",
       "     'scale': 1.0,\n",
       "     'seed': None}},\n",
       "   'kernel_regularizer': None,\n",
       "   'kernel_size': (2,),\n",
       "   'name': 'conv1d_3',\n",
       "   'padding': 'same',\n",
       "   'strides': (1,),\n",
       "   'trainable': True,\n",
       "   'use_bias': True}},\n",
       " {'class_name': 'LeakyReLU',\n",
       "  'config': {'alpha': 0.30000001192092896,\n",
       "   'name': 'leaky_re_lu_3',\n",
       "   'trainable': True}},\n",
       " {'class_name': 'MaxPooling1D',\n",
       "  'config': {'name': 'max_pooling1d_1',\n",
       "   'padding': 'same',\n",
       "   'pool_size': (2,),\n",
       "   'strides': (2,),\n",
       "   'trainable': True}},\n",
       " {'class_name': 'Conv1D',\n",
       "  'config': {'activation': 'linear',\n",
       "   'activity_regularizer': None,\n",
       "   'bias_constraint': None,\n",
       "   'bias_initializer': {'class_name': 'Zeros', 'config': {}},\n",
       "   'bias_regularizer': None,\n",
       "   'dilation_rate': (1,),\n",
       "   'filters': 256,\n",
       "   'kernel_constraint': None,\n",
       "   'kernel_initializer': {'class_name': 'VarianceScaling',\n",
       "    'config': {'distribution': 'uniform',\n",
       "     'mode': 'fan_avg',\n",
       "     'scale': 1.0,\n",
       "     'seed': None}},\n",
       "   'kernel_regularizer': None,\n",
       "   'kernel_size': (1,),\n",
       "   'name': 'conv1d_4',\n",
       "   'padding': 'same',\n",
       "   'strides': (1,),\n",
       "   'trainable': True,\n",
       "   'use_bias': True}},\n",
       " {'class_name': 'LeakyReLU',\n",
       "  'config': {'alpha': 0.30000001192092896,\n",
       "   'name': 'leaky_re_lu_4',\n",
       "   'trainable': True}},\n",
       " {'class_name': 'MaxPooling1D',\n",
       "  'config': {'name': 'max_pooling1d_2',\n",
       "   'padding': 'same',\n",
       "   'pool_size': (2,),\n",
       "   'strides': (2,),\n",
       "   'trainable': True}},\n",
       " {'class_name': 'Flatten', 'config': {'name': 'flatten_1', 'trainable': True}},\n",
       " {'class_name': 'Dense',\n",
       "  'config': {'activation': 'tanh',\n",
       "   'activity_regularizer': None,\n",
       "   'bias_constraint': None,\n",
       "   'bias_initializer': {'class_name': 'Zeros', 'config': {}},\n",
       "   'bias_regularizer': None,\n",
       "   'kernel_constraint': None,\n",
       "   'kernel_initializer': {'class_name': 'VarianceScaling',\n",
       "    'config': {'distribution': 'uniform',\n",
       "     'mode': 'fan_avg',\n",
       "     'scale': 1.0,\n",
       "     'seed': None}},\n",
       "   'kernel_regularizer': None,\n",
       "   'name': 'dense_1',\n",
       "   'trainable': True,\n",
       "   'units': 1024,\n",
       "   'use_bias': True}},\n",
       " {'class_name': 'Dropout',\n",
       "  'config': {'name': 'dropout_1',\n",
       "   'noise_shape': None,\n",
       "   'rate': 0.5,\n",
       "   'seed': None,\n",
       "   'trainable': True}},\n",
       " {'class_name': 'Dense',\n",
       "  'config': {'activation': 'tanh',\n",
       "   'activity_regularizer': None,\n",
       "   'bias_constraint': None,\n",
       "   'bias_initializer': {'class_name': 'Zeros', 'config': {}},\n",
       "   'bias_regularizer': None,\n",
       "   'kernel_constraint': None,\n",
       "   'kernel_initializer': {'class_name': 'VarianceScaling',\n",
       "    'config': {'distribution': 'uniform',\n",
       "     'mode': 'fan_avg',\n",
       "     'scale': 1.0,\n",
       "     'seed': None}},\n",
       "   'kernel_regularizer': None,\n",
       "   'name': 'dense_2',\n",
       "   'trainable': True,\n",
       "   'units': 128,\n",
       "   'use_bias': True}},\n",
       " {'class_name': 'Dropout',\n",
       "  'config': {'name': 'dropout_2',\n",
       "   'noise_shape': None,\n",
       "   'rate': 0.5,\n",
       "   'seed': None,\n",
       "   'trainable': True}},\n",
       " {'class_name': 'Dense',\n",
       "  'config': {'activation': 'tanh',\n",
       "   'activity_regularizer': None,\n",
       "   'bias_constraint': None,\n",
       "   'bias_initializer': {'class_name': 'Zeros', 'config': {}},\n",
       "   'bias_regularizer': None,\n",
       "   'kernel_constraint': None,\n",
       "   'kernel_initializer': {'class_name': 'VarianceScaling',\n",
       "    'config': {'distribution': 'uniform',\n",
       "     'mode': 'fan_avg',\n",
       "     'scale': 1.0,\n",
       "     'seed': None}},\n",
       "   'kernel_regularizer': None,\n",
       "   'name': 'dense_3',\n",
       "   'trainable': True,\n",
       "   'units': 32,\n",
       "   'use_bias': True}},\n",
       " {'class_name': 'Dense',\n",
       "  'config': {'activation': 'softmax',\n",
       "   'activity_regularizer': None,\n",
       "   'bias_constraint': None,\n",
       "   'bias_initializer': {'class_name': 'Zeros', 'config': {}},\n",
       "   'bias_regularizer': None,\n",
       "   'kernel_constraint': None,\n",
       "   'kernel_initializer': {'class_name': 'VarianceScaling',\n",
       "    'config': {'distribution': 'uniform',\n",
       "     'mode': 'fan_avg',\n",
       "     'scale': 1.0,\n",
       "     'seed': None}},\n",
       "   'kernel_regularizer': None,\n",
       "   'name': 'dense_4',\n",
       "   'trainable': True,\n",
       "   'units': 2,\n",
       "   'use_bias': True}}]"
      ]
     },
     "execution_count": 6,
     "metadata": {},
     "output_type": "execute_result"
    }
   ],
   "source": [
    "pred_model.get_config()"
   ]
  },
  {
   "cell_type": "code",
   "execution_count": 45,
   "metadata": {},
   "outputs": [],
   "source": [
    "# Prediction on validation set\n",
    "val_pred = pred_model.predict_classes(padded_val)"
   ]
  },
  {
   "cell_type": "code",
   "execution_count": 47,
   "metadata": {},
   "outputs": [
    {
     "name": "stdout",
     "output_type": "stream",
     "text": [
      "AUC score for Bmk Log Reg is 0.8609\n",
      "AUC score for Refined Model is 0.8832\n"
     ]
    },
    {
     "data": {
      "image/png": "[encoded data removed]",
      "text/plain": [
       "<matplotlib.figure.Figure at 0x7f0206902a58>"
      ]
     },
     "metadata": {},
     "output_type": "display_data"
    }
   ],
   "source": [
    "# Print comparison chart\n",
    "comparison_chart = ROCChart(val_scores,\n",
    "                            [val_bmk_log_reg_pred, val_pred],\n",
    "                            ['Bmk Log Reg', 'Refined Model'],\n",
    "                            'AUC on validation set')\n",
    "comparison_chart.plot()"
   ]
  }
 ],
 "metadata": {
  "kernelspec": {
   "display_name": "Python 3",
   "language": "python",
   "name": "python3"
  },
  "language_info": {
   "codemirror_mode": {
    "name": "ipython",
    "version": 3
   },
   "file_extension": ".py",
   "mimetype": "text/x-python",
   "name": "python",
   "nbconvert_exporter": "python",
   "pygments_lexer": "ipython3",
   "version": "3.6.4"
  }
 },
 "nbformat": 4,
 "nbformat_minor": 2
}
