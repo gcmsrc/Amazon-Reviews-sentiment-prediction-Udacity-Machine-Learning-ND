{
 "cells": [
  {
   "cell_type": "markdown",
   "metadata": {
    "nbpresent": {
     "id": "4fd8dcd5-895d-43ec-9bec-141d64a99d90"
    }
   },
   "source": [
    "# Machine Learning Engineer Nanodegree - Capstone Project\n",
    "## PART 2: Benchmark Models"
   ]
  },
  {
   "cell_type": "markdown",
   "metadata": {},
   "source": [
    "**Author:** Giacomo Sarchioni"
   ]
  },
  {
   "cell_type": "markdown",
   "metadata": {},
   "source": [
    "## Module imports"
   ]
  },
  {
   "cell_type": "code",
   "execution_count": 3,
   "metadata": {},
   "outputs": [],
   "source": [
    "# Module imports\n",
    "from naive_classifier import NaiveModel\n",
    "from roc_chart import ROCChart\n",
    "import pickle as pkl\n",
    "%matplotlib inline\n",
    "import matplotlib.pyplot as plt\n",
    "from tqdm import tqdm\n",
    "from sklearn.feature_extraction.text import TfidfVectorizer\n",
    "from sklearn.linear_model import LogisticRegression\n",
    "from sklearn.metrics import roc_auc_score, roc_curve\n",
    "from sklearn.externals import joblib\n",
    "random_seed = 42\n",
    "import pandas as pd"
   ]
  },
  {
   "cell_type": "markdown",
   "metadata": {},
   "source": [
    "Load sentiment reviews dataframe."
   ]
  },
  {
   "cell_type": "code",
   "execution_count": 4,
   "metadata": {},
   "outputs": [],
   "source": [
    "with open('reviews/sentiment_reviews/sentiment.pkl', 'rb') as f:\n",
    "    sentiment_reviews = pkl.load(f)"
   ]
  },
  {
   "cell_type": "markdown",
   "metadata": {},
   "source": [
    "Load train, validation and test indexes"
   ]
  },
  {
   "cell_type": "code",
   "execution_count": 5,
   "metadata": {},
   "outputs": [],
   "source": [
    "with open('split_indexes/indexes.pkl', 'rb') as f:\n",
    "    indexes = pkl.load(f)"
   ]
  },
  {
   "cell_type": "markdown",
   "metadata": {},
   "source": [
    "## Naive Benchmark Model\n",
    "The Naive Benchmark model always predicts the most frequent class in the training set."
   ]
  },
  {
   "cell_type": "code",
   "execution_count": 73,
   "metadata": {},
   "outputs": [],
   "source": [
    "# Extract parser_zero_reviews and scores\n",
    "parser_zero_reviews = sentiment_reviews.loc[:,'parser_zero'].values\n",
    "scores = sentiment_reviews.adj_score.values\n",
    "\n",
    "# Extract non test parser zero reviews and scores\n",
    "non_test_parser_zero_reviews = parser_zero_reviews[indexes['non_test']]\n",
    "non_test_scores = scores[indexes['non_test']]\n",
    "\n",
    "# Extract train parser zero reviews and scores\n",
    "train_parser_zero_reviews = non_test_parser_two_reviews[indexes['train']]\n",
    "train_scores = non_test_scores[indexes['train']]\n",
    "\n",
    "# Extract val parser zero reviews and scores\n",
    "val_parser_zero_reviews = non_test_parser_two_reviews[indexes['val']]\n",
    "val_scores = non_test_scores[indexes['val']]\n",
    "\n",
    "# Extract test parser zero reviews and scores\n",
    "test_parser_zero_reviews = parser_zero_reviews[indexes['test']]\n",
    "test_scores = scores[indexes['test']]"
   ]
  },
  {
   "cell_type": "code",
   "execution_count": 82,
   "metadata": {},
   "outputs": [],
   "source": [
    "# Initialise Naive benchmark model\n",
    "naive_model = NaiveModel()\n",
    "\n",
    "# Fit model on non_test_scaores\n",
    "naive_model.fit(val_scores)\n",
    "\n",
    "# Predict on test_parser_zero_reviews\n",
    "naive_model_val_predictions = naive_model.predict(val_parser_zero_reviews)"
   ]
  },
  {
   "cell_type": "code",
   "execution_count": 83,
   "metadata": {},
   "outputs": [
    {
     "name": "stdout",
     "output_type": "stream",
     "text": [
      "AUC score for Naive Model is 0.5000\n"
     ]
    },
    {
     "data": {
      "image/png": "[encoded data removed]",
      "text/plain": [
       "<matplotlib.figure.Figure at 0x7fb9ba030f98>"
      ]
     },
     "metadata": {},
     "output_type": "display_data"
    }
   ],
   "source": [
    "# Create ROC Chart for Naive Model\n",
    "naive_chart = ROCChart(val_scores, [naive_model_val_predictions], [\"Naive Model\"], \"ROC Curve for Naive Benchmark Model on validation set\")\n",
    "naive_chart.plot()"
   ]
  },
  {
   "cell_type": "code",
   "execution_count": 84,
   "metadata": {},
   "outputs": [],
   "source": [
    "# Naive model predictions on test data\n",
    "naive_model_test_predictions = naive_model.predict(test_parser_zero_reviews)"
   ]
  },
  {
   "cell_type": "code",
   "execution_count": 85,
   "metadata": {},
   "outputs": [
    {
     "data": {
      "text/plain": [
       "['bmk_models/bmk_naive.pkl']"
      ]
     },
     "execution_count": 85,
     "metadata": {},
     "output_type": "execute_result"
    }
   ],
   "source": [
    "# Save naive model\n",
    "joblib.dump(naive_model, 'bmk_models/bmk_naive.pkl')"
   ]
  },
  {
   "cell_type": "markdown",
   "metadata": {},
   "source": [
    "## Bag-of-words model"
   ]
  },
  {
   "cell_type": "code",
   "execution_count": 15,
   "metadata": {},
   "outputs": [],
   "source": [
    "# Extract parser_one_reviews\n",
    "parser_one_reviews = sentiment_reviews.loc[:,'parser_one'].values\n",
    "\n",
    "# Extract non test parser two reviews and scores\n",
    "non_test_parser_one_reviews = parser_one_reviews[indexes['non_test']]\n",
    "test_parser_one_reviews = parser_one_reviews[indexes['test']]"
   ]
  },
  {
   "cell_type": "code",
   "execution_count": 69,
   "metadata": {},
   "outputs": [],
   "source": [
    "# Extract train and validation parser-one reviews\n",
    "train_parser_one_reviews = non_test_parser_one_reviews[indexes['train']]\n",
    "val_parser_one_reviews = non_test_parser_one_reviews[indexes['val']]"
   ]
  },
  {
   "cell_type": "markdown",
   "metadata": {},
   "source": [
    "In `scikit-learn`'s `TfidfVectorizer` there a series of parameters which are worth investigating, and direclty linked to the size of the word vocabulary. They are:\n",
    "\n",
    "- `max_df`, i.e. \"when building the vocabulary [the algorithm] ignore terms that have a document frequency strictly higher than the given threshold (corpus-specific stop words)\". By default, this value is set to 1.0 (float). This means that if a word is present in **all documents** (in our case in all reviews), then it will be ignored in the word vocabulary. This makes sense, since if a word is present in all reviews (positive and negative), then it probably doesn't give too much information about the sentiment.\n",
    "- `min_df`, i.e. \"when building the vocabulary [the algorithm] ignore terms that have a document frequency strictly lower than the given threshold\". By default, this value is set to 1 (int). This means if a word only appears in one document (i.e. one review), then it will be ignored. This makes sense since while we want to give more importance to rare words, we don't want our algorithm to learn/memorise very very specific cases;\n",
    "- `max_features`, i.e. \"if not None, [the algorithm] build a vocabulary that only consider the top max_features ordered by term frequency across the corpus\". If `None`, the vocabulary is made of all the unique words available in the corpus. This means that every sentence is translated into a `1 x n` array, where `n` is the number of words in the vocabulary.  \n",
    "  \n",
    "While I believe that the default values for `max_df` and `min_df` are reasonable, I would be more cautious when it comes to setting the value of `max_features`. "
   ]
  },
  {
   "cell_type": "markdown",
   "metadata": {},
   "source": [
    "#### `ngram_range` comparison"
   ]
  },
  {
   "cell_type": "code",
   "execution_count": 17,
   "metadata": {},
   "outputs": [],
   "source": [
    "# Create tf-idf vectoriser with ngram_range equal to (1,1)\n",
    "basic_tfidf = TfidfVectorizer()\n",
    "\n",
    "# Create tf-idf vectoriser with ngram_range equal to (1,2)\n",
    "basic_tfidf_range = TfidfVectorizer(ngram_range=(1,2))"
   ]
  },
  {
   "cell_type": "code",
   "execution_count": 20,
   "metadata": {},
   "outputs": [
    {
     "data": {
      "text/plain": [
       "TfidfVectorizer(analyzer='word', binary=False, decode_error='strict',\n",
       "        dtype=<class 'numpy.int64'>, encoding='utf-8', input='content',\n",
       "        lowercase=True, max_df=1.0, max_features=None, min_df=1,\n",
       "        ngram_range=(1, 2), norm='l2', preprocessor=None, smooth_idf=True,\n",
       "        stop_words=None, strip_accents=None, sublinear_tf=False,\n",
       "        token_pattern='(?u)\\\\b\\\\w\\\\w+\\\\b', tokenizer=None, use_idf=True,\n",
       "        vocabulary=None)"
      ]
     },
     "execution_count": 20,
     "metadata": {},
     "output_type": "execute_result"
    }
   ],
   "source": [
    "# Fit the vectorisers to train data\n",
    "basic_tfidf.fit(train_parser_one_reviews)\n",
    "basic_tfidf_range.fit(train_parser_one_reviews)"
   ]
  },
  {
   "cell_type": "code",
   "execution_count": 21,
   "metadata": {},
   "outputs": [
    {
     "name": "stdout",
     "output_type": "stream",
     "text": [
      "Vocabulary size for tf-idf with ngram_range equal to (1,1) is 106657.\n",
      "Vocabulary size for tf-idf with ngram_range equal to (1,2) is 2535871.\n"
     ]
    }
   ],
   "source": [
    "# Print vocabulary size\n",
    "print('Vocabulary size for tf-idf with ngram_range equal to (1,1) is {}.'.format(len(basic_tfidf.vocabulary_)))\n",
    "print('Vocabulary size for tf-idf with ngram_range equal to (1,2) is {}.'.format(len(basic_tfidf_range.vocabulary_)))"
   ]
  },
  {
   "cell_type": "code",
   "execution_count": 29,
   "metadata": {},
   "outputs": [],
   "source": [
    "# Transform training and validation data\n",
    "no_range_train = basic_tfidf.transform(train_parser_one_reviews)\n",
    "no_range_val = basic_tfidf.transform(val_parser_one_reviews)\n",
    "range_train = basic_tfidf_range.transform(train_parser_one_reviews)\n",
    "range_val = basic_tfidf_range.transform(val_parser_one_reviews)"
   ]
  },
  {
   "cell_type": "code",
   "execution_count": 30,
   "metadata": {},
   "outputs": [],
   "source": [
    "# Fit logistic regression\n",
    "lr = LogisticRegression(random_state=random_seed, solver='sag', n_jobs=-1)\n",
    "lr_range = LogisticRegression(random_state=random_seed, solver='sag', n_jobs=-1)"
   ]
  },
  {
   "cell_type": "code",
   "execution_count": 31,
   "metadata": {},
   "outputs": [
    {
     "data": {
      "text/plain": [
       "LogisticRegression(C=1.0, class_weight=None, dual=False, fit_intercept=True,\n",
       "          intercept_scaling=1, max_iter=100, multi_class='ovr', n_jobs=-1,\n",
       "          penalty='l2', random_state=42, solver='sag', tol=0.0001,\n",
       "          verbose=0, warm_start=False)"
      ]
     },
     "execution_count": 31,
     "metadata": {},
     "output_type": "execute_result"
    }
   ],
   "source": [
    "# Fit the logistic regression models\n",
    "lr.fit(no_range_train, train_scores)\n",
    "lr_range.fit(range_train, train_scores)"
   ]
  },
  {
   "cell_type": "code",
   "execution_count": 32,
   "metadata": {},
   "outputs": [],
   "source": [
    "# Predict sentiment on validation data\n",
    "pred_no_range = lr.predict(no_range_val)\n",
    "pred_range = lr_range.predict(range_val)"
   ]
  },
  {
   "cell_type": "code",
   "execution_count": 52,
   "metadata": {
    "nbpresent": {
     "id": "134dc14a-874e-4038-a5f4-0b5b0f325c04"
    }
   },
   "outputs": [
    {
     "name": "stdout",
     "output_type": "stream",
     "text": [
      "AUC score for ngram 1 is 0.8324\n",
      "AUC score for ngram 2 is 0.8468\n"
     ]
    },
    {
     "data": {
      "image/png": "[encoded data removed]",
      "text/plain": [
       "<matplotlib.figure.Figure at 0x7fb986bc76d8>"
      ]
     },
     "metadata": {},
     "output_type": "display_data"
    }
   ],
   "source": [
    "# Plot chart\n",
    "ngram_comparison_chart = ROCChart(val_scores,\n",
    "                                  [pred_no_range, pred_range],\n",
    "                                  ['ngram 1', 'ngram 2'], 'Logistic Reg on Validation Set - using entire vocabulary')\n",
    "ngram_comparison_chart.plot()"
   ]
  },
  {
   "cell_type": "markdown",
   "metadata": {},
   "source": [
    "### tf-idf vectoriser"
   ]
  },
  {
   "cell_type": "code",
   "execution_count": 77,
   "metadata": {},
   "outputs": [],
   "source": [
    "# Define bmk_vectoriser\n",
    "bmk_vectoriser = TfidfVectorizer(ngram_range=(1,2), max_features=30000)"
   ]
  },
  {
   "cell_type": "code",
   "execution_count": 78,
   "metadata": {},
   "outputs": [],
   "source": [
    "# Transform data using the vectoriser\n",
    "bmk_train_data = bmk_vectoriser.fit_transform(train_parser_one_reviews)\n",
    "bmk_val_data = bmk_vectoriser.transform(val_parser_one_reviews)\n",
    "bmk_test_data = bmk_vectoriser.transform(test_parser_one_reviews)"
   ]
  },
  {
   "cell_type": "code",
   "execution_count": 79,
   "metadata": {},
   "outputs": [
    {
     "data": {
      "text/plain": [
       "LogisticRegression(C=1.0, class_weight=None, dual=False, fit_intercept=True,\n",
       "          intercept_scaling=1, max_iter=100, multi_class='ovr', n_jobs=-1,\n",
       "          penalty='l2', random_state=42, solver='sag', tol=0.0001,\n",
       "          verbose=0, warm_start=False)"
      ]
     },
     "execution_count": 79,
     "metadata": {},
     "output_type": "execute_result"
    }
   ],
   "source": [
    "# Fit benchmark logistic regression\n",
    "bmk_log_reg = LogisticRegression(random_state=random_seed, solver='sag', n_jobs=-1)\n",
    "bmk_log_reg.fit(bmk_train_data, train_scores)"
   ]
  },
  {
   "cell_type": "code",
   "execution_count": 80,
   "metadata": {},
   "outputs": [],
   "source": [
    "# Predict sentiment on validation data\n",
    "bmk_val_pred = bmk_log_reg.predict(bmk_val_data)"
   ]
  },
  {
   "cell_type": "code",
   "execution_count": 81,
   "metadata": {},
   "outputs": [
    {
     "name": "stdout",
     "output_type": "stream",
     "text": [
      "AUC score for 30000 word vocabulary is 0.8609\n"
     ]
    },
    {
     "data": {
      "image/png": "[encoded data removed]",
      "text/plain": [
       "<matplotlib.figure.Figure at 0x7fb9b8675d30>"
      ]
     },
     "metadata": {},
     "output_type": "display_data"
    }
   ],
   "source": [
    "bmk_lr_chart = ROCChart(val_scores, [bmk_val_pred], ['30000 word vocabulary'], 'AUC for bmk linear regression on validation set')\n",
    "bmk_lr_chart.plot()"
   ]
  },
  {
   "cell_type": "code",
   "execution_count": 86,
   "metadata": {},
   "outputs": [
    {
     "name": "stdout",
     "output_type": "stream",
     "text": [
      "other reviewers\n",
      "here that\n",
      "that gave\n",
      "gave this\n",
      "this bar\n",
      "must have\n",
      "have been\n",
      "off by\n",
      "are the\n",
      "the worst\n",
      "worst tasting\n",
      "protein bars\n",
      "bars ve\n",
      "ve ever\n",
      "ever tasted\n",
      "tasted in\n",
      "in my\n",
      "my life\n",
      "at least\n",
      "other brands\n",
      "try to\n",
      "to make\n",
      "make their\n",
      "not even\n",
      "going to\n",
      "to try\n",
      "try the\n",
      "the bar\n",
      "has any\n",
      "white chocolate\n",
      "chocolate taste\n",
      "taste to\n",
      "to it\n",
      "it the\n",
      "bar is\n",
      "is bitter\n",
      "bitter and\n",
      "and dry\n",
      "dry it\n",
      "it took\n",
      "took me\n",
      "minutes to\n",
      "to finish\n",
      "because it\n",
      "it tasted\n",
      "tasted so\n",
      "so bad\n",
      "will never\n",
      "never buy\n",
      "buy another\n"
     ]
    }
   ],
   "source": [
    "# Print two-words item in vectorisation vocabulary\n",
    "counter = 0\n",
    "for i, _ in bmk_vectoriser.vocabulary_.items():\n",
    "    if counter < 50:\n",
    "        if len(i.split()) > 1:\n",
    "            print(i)\n",
    "            counter+=1"
   ]
  },
  {
   "cell_type": "code",
   "execution_count": 87,
   "metadata": {},
   "outputs": [],
   "source": [
    "# Create pipeline\n",
    "from sklearn.pipeline import Pipeline\n",
    "bmk_model = Pipeline([('tf-idf', bmk_vectoriser), ('lr', bmk_log_reg)])"
   ]
  },
  {
   "cell_type": "code",
   "execution_count": 88,
   "metadata": {},
   "outputs": [
    {
     "data": {
      "text/plain": [
       "['bmk_models/bmk_log_reg.pkl']"
      ]
     },
     "execution_count": 88,
     "metadata": {},
     "output_type": "execute_result"
    }
   ],
   "source": [
    "# Save pipeline object\n",
    "joblib.dump(bmk_model, 'bmk_models/bmk_log_reg.pkl')"
   ]
  }
 ],
 "metadata": {
  "kernelspec": {
   "display_name": "Python [default]",
   "language": "python",
   "name": "python3"
  },
  "language_info": {
   "codemirror_mode": {
    "name": "ipython",
    "version": 3
   },
   "file_extension": ".py",
   "mimetype": "text/x-python",
   "name": "python",
   "nbconvert_exporter": "python",
   "pygments_lexer": "ipython3",
   "version": "3.6.4"
  }
 },
 "nbformat": 4,
 "nbformat_minor": 2
}
