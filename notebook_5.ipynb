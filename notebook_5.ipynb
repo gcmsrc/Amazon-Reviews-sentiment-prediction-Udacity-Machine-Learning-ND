{
 "cells": [
  {
   "cell_type": "markdown",
   "metadata": {},
   "source": [
    "# Machine Learning Engineer Nanodegree - Capstone Project\n",
    "## PART 5: Deep Learning Models"
   ]
  },
  {
   "cell_type": "markdown",
   "metadata": {},
   "source": [
    "**Author:** Giacomo Sarchioni"
   ]
  },
  {
   "cell_type": "code",
   "execution_count": 2,
   "metadata": {},
   "outputs": [],
   "source": [
    "# Module imports\n",
    "import pickle as pkl\n",
    "import pandas as pd\n",
    "%matplotlib inline\n",
    "import matplotlib.pyplot as plt\n",
    "import numpy as np\n",
    "from roc_chart import ROCChart\n",
    "from sklearn.feature_extraction.text import TfidfVectorizer\n",
    "from sklearn.metrics import roc_auc_score, accuracy_score, roc_curve\n",
    "from roc_chart import ROCChart\n",
    "from sklearn.externals import joblib\n",
    "import keras\n",
    "from keras.callbacks import EarlyStopping, ModelCheckpoint\n",
    "from keras.preprocessing.text import Tokenizer\n",
    "from keras.preprocessing.sequence import pad_sequences\n",
    "from keras.models import Sequential, load_model\n",
    "from keras.layers import Conv1D, MaxPooling1D, Dense, Embedding, Flatten, Dropout, LSTM, GRU\n",
    "from keras.models import load_model\n",
    "from gensim.models import Word2Vec\n",
    "\n",
    "random_seed = 42"
   ]
  },
  {
   "cell_type": "markdown",
   "metadata": {},
   "source": [
    "## Import data"
   ]
  },
  {
   "cell_type": "code",
   "execution_count": 3,
   "metadata": {},
   "outputs": [],
   "source": [
    "# Load reviews\n",
    "with open('reviews/sentiment_reviews/sentiment.pkl', 'rb') as f:\n",
    "    sentiment_reviews = pkl.load(f)\n",
    "    \n",
    "# Load indexes\n",
    "with open('split_indexes/indexes.pkl', 'rb') as f:\n",
    "    indexes = pkl.load(f)"
   ]
  },
  {
   "cell_type": "code",
   "execution_count": 5,
   "metadata": {},
   "outputs": [],
   "source": [
    "# Extract scores\n",
    "scores = sentiment_reviews.adj_score.values\n",
    "\n",
    "# Extract non-test and test scores\n",
    "non_test_scores = scores[indexes['non_test']]\n",
    "test_scores = scores[indexes['test']]\n",
    "\n",
    "# Extract train and validation scores\n",
    "train_scores = non_test_scores[indexes['train']]\n",
    "val_scores = non_test_scores[indexes['val']]"
   ]
  },
  {
   "cell_type": "code",
   "execution_count": 7,
   "metadata": {},
   "outputs": [],
   "source": [
    "# Transform scores into categorical\n",
    "scores_cat = keras.utils.to_categorical(scores,2)\n",
    "\n",
    "# Extract non-test and test scores\n",
    "non_test_scores_cat = scores_cat[indexes['non_test']]\n",
    "test_scores_cat = scores_cat[indexes['test']]\n",
    "\n",
    "# Extract train and validation scores\n",
    "train_scores_cat = non_test_scores_cat[indexes['train']]\n",
    "val_scores_cat = non_test_scores_cat[indexes['val']]"
   ]
  },
  {
   "cell_type": "code",
   "execution_count": 8,
   "metadata": {},
   "outputs": [],
   "source": [
    "# Extract parser_one_reviews \n",
    "parser_one_reviews = sentiment_reviews.loc[:,'parser_one'].values\n",
    "\n",
    "# Extract non test parser two reviews and scores\n",
    "non_test_parser_one_reviews = parser_one_reviews[indexes['non_test']]\n",
    "test_parser_one_reviews = parser_one_reviews[indexes['test']]\n",
    "\n",
    "# Extract train and validation parser-two reviews\n",
    "train_parser_one_reviews = non_test_parser_one_reviews[indexes['train']]\n",
    "val_parser_one_reviews = non_test_parser_one_reviews[indexes['val']]"
   ]
  },
  {
   "cell_type": "markdown",
   "metadata": {},
   "source": [
    "#### Import log reg benchmark model"
   ]
  },
  {
   "cell_type": "code",
   "execution_count": 9,
   "metadata": {},
   "outputs": [],
   "source": [
    "# Load log reg benchmark\n",
    "bmk_log_reg = joblib.load('bmk_models/bmk_log_reg.pkl')\n",
    "\n",
    "# Bmk Log Reg predictions on validation data\n",
    "bmk_log_reg_pred = bmk_log_reg.predict(val_parser_one_reviews)"
   ]
  },
  {
   "cell_type": "markdown",
   "metadata": {},
   "source": [
    "## Statistics on reviews' max length"
   ]
  },
  {
   "cell_type": "code",
   "execution_count": 10,
   "metadata": {},
   "outputs": [],
   "source": [
    "# Extract parser one reviews\n",
    "parser_one_reviews = sentiment_reviews.loc[:,'parser_one'].values\n",
    "\n",
    "# Reviews' lenght\n",
    "parser_one_reviews_length = pd.Series([len(x.split()) for x in parser_one_reviews])"
   ]
  },
  {
   "cell_type": "code",
   "execution_count": 11,
   "metadata": {},
   "outputs": [
    {
     "name": "stdout",
     "output_type": "stream",
     "text": [
      "Statisics for parser_one reviews' length\n"
     ]
    },
    {
     "data": {
      "text/plain": [
       "count    363824.000000\n",
       "mean         78.942821\n",
       "std          75.788450\n",
       "min           2.000000\n",
       "25%          34.000000\n",
       "50%          56.000000\n",
       "75%          96.000000\n",
       "max        2486.000000\n",
       "dtype: float64"
      ]
     },
     "execution_count": 11,
     "metadata": {},
     "output_type": "execute_result"
    }
   ],
   "source": [
    "print(\"Statisics for parser_one reviews' length\")\n",
    "parser_one_reviews_length.describe()"
   ]
  },
  {
   "cell_type": "markdown",
   "metadata": {},
   "source": [
    "## Conv1D/RNN with Keras embedding"
   ]
  },
  {
   "cell_type": "markdown",
   "metadata": {},
   "source": [
    "In this case I will need to use *parser_one* data. I will use `keras` built-in `Tokenizer` to assign word to indexes."
   ]
  },
  {
   "cell_type": "code",
   "execution_count": 12,
   "metadata": {},
   "outputs": [],
   "source": [
    "# Extract non test parser two reviews and scores\n",
    "non_test_parser_one_reviews = parser_one_reviews[indexes['non_test']]\n",
    "test_parser_one_reviews = parser_one_reviews[indexes['test']]\n",
    "\n",
    "# Extract train and validation parser-two reviews\n",
    "train_parser_one_reviews = non_test_parser_one_reviews[indexes['train']]\n",
    "val_parser_one_reviews = non_test_parser_one_reviews[indexes['val']]"
   ]
  },
  {
   "cell_type": "code",
   "execution_count": 62,
   "metadata": {},
   "outputs": [],
   "source": [
    "# Initialise keras tokenizer\n",
    "keras_tokenizer = Tokenizer()\n",
    "\n",
    "# Fit keras tokenizer\n",
    "keras_tokenizer.fit_on_texts(train_parser_one_reviews)"
   ]
  },
  {
   "cell_type": "code",
   "execution_count": 63,
   "metadata": {},
   "outputs": [],
   "source": [
    "# Tokenise train, val and test parser_zero reviews\n",
    "tokenised_train = keras_tokenizer.texts_to_sequences(train_parser_one_reviews)\n",
    "tokenised_val = keras_tokenizer.texts_to_sequences(val_parser_one_reviews)\n",
    "tokenised_test = keras_tokenizer.texts_to_sequences(test_parser_one_reviews)"
   ]
  },
  {
   "cell_type": "code",
   "execution_count": 64,
   "metadata": {},
   "outputs": [],
   "source": [
    "# Define max_len of reviews\n",
    "max_len = 50\n",
    "\n",
    "# Transform reviews into sequences using pad_sequences\n",
    "padded_train = pad_sequences(tokenised_train, maxlen=max_len, padding='post')\n",
    "padded_val = pad_sequences(tokenised_val, maxlen=max_len, padding='post')\n",
    "padded_test = pad_sequences(tokenised_test, maxlen=max_len, padding='post')"
   ]
  },
  {
   "cell_type": "code",
   "execution_count": 211,
   "metadata": {},
   "outputs": [
    {
     "data": {
      "text/plain": [
       "106683"
      ]
     },
     "execution_count": 211,
     "metadata": {},
     "output_type": "execute_result"
    }
   ],
   "source": [
    "# Size of tokenizer vocabular\n",
    "len(keras_tokenizer.word_index)"
   ]
  },
  {
   "cell_type": "markdown",
   "metadata": {},
   "source": [
    "#### Conv1D model"
   ]
  },
  {
   "cell_type": "code",
   "execution_count": 152,
   "metadata": {},
   "outputs": [],
   "source": [
    "# Define model checkpoint\n",
    "keras_conv_ckpt = ModelCheckpoint('deep_learning_models/keras_embedding/keras_conv.hdf5', \n",
    "                                   save_best_only=True, verbose=1)"
   ]
  },
  {
   "cell_type": "code",
   "execution_count": 168,
   "metadata": {},
   "outputs": [
    {
     "name": "stdout",
     "output_type": "stream",
     "text": [
      "_________________________________________________________________\n",
      "Layer (type)                 Output Shape              Param #   \n",
      "=================================================================\n",
      "embedding_1 (Embedding)      (None, 50, 50)            5334200   \n",
      "_________________________________________________________________\n",
      "conv1d_1 (Conv1D)            (None, 25, 16)            2416      \n",
      "_________________________________________________________________\n",
      "max_pooling1d_1 (MaxPooling1 (None, 13, 16)            0         \n",
      "_________________________________________________________________\n",
      "conv1d_2 (Conv1D)            (None, 13, 32)            544       \n",
      "_________________________________________________________________\n",
      "max_pooling1d_2 (MaxPooling1 (None, 7, 32)             0         \n",
      "_________________________________________________________________\n",
      "flatten_1 (Flatten)          (None, 224)               0         \n",
      "_________________________________________________________________\n",
      "dense_1 (Dense)              (None, 32)                7200      \n",
      "_________________________________________________________________\n",
      "dense_2 (Dense)              (None, 2)                 66        \n",
      "=================================================================\n",
      "Total params: 5,344,426\n",
      "Trainable params: 5,344,426\n",
      "Non-trainable params: 0\n",
      "_________________________________________________________________\n"
     ]
    }
   ],
   "source": [
    "# Define conv1d with Keras embedding\n",
    "keras.backend.clear_session()\n",
    "keras_conv_model = Sequential()\n",
    "keras_conv_model.add(Embedding(len(keras_tokenizer.word_index)+1,\n",
    "                               50,\n",
    "                               input_length=max_len))\n",
    "keras_conv_model.add(Conv1D(16, 3, strides=2, padding='same', activation='relu'))\n",
    "keras_conv_model.add(MaxPooling1D(padding='same'))\n",
    "keras_conv_model.add(Conv1D(32, 1, strides=1, padding='same', activation='relu'))\n",
    "keras_conv_model.add(MaxPooling1D(padding='same'))\n",
    "keras_conv_model.add(Flatten())\n",
    "keras_conv_model.add(Dense(32, activation='tanh'))\n",
    "keras_conv_model.add(Dense(2, activation='softmax'))\n",
    "keras_conv_model.summary()"
   ]
  },
  {
   "cell_type": "code",
   "execution_count": 169,
   "metadata": {},
   "outputs": [],
   "source": [
    "# Compile the model\n",
    "keras_conv_model.compile(optimizer='rmsprop',\n",
    "                         loss='binary_crossentropy',\n",
    "                         metrics=['accuracy'])\n",
    "\n",
    "# Fit the model\n",
    "# keras_conv_model.fit(x=padded_train, y=train_scores_cat, batch_size=256,\n",
    "#                      validation_data=(padded_val, val_scores_cat),\n",
    "#                      callbacks=[keras_conv_ckpt], \n",
    "#                      epochs=5)"
   ]
  },
  {
   "cell_type": "code",
   "execution_count": 170,
   "metadata": {},
   "outputs": [],
   "source": [
    "# Load checkpoint weights\n",
    "keras_conv_model.load_weights('deep_learning_models/keras_embedding/keras_embed_conv.hdf5')"
   ]
  },
  {
   "cell_type": "code",
   "execution_count": 156,
   "metadata": {},
   "outputs": [],
   "source": [
    "# Get prediction of conv model on vaidation data\n",
    "val_conv_pred = keras_conv_model.predict_classes(padded_val)"
   ]
  },
  {
   "cell_type": "markdown",
   "metadata": {},
   "source": [
    "#### RNN models"
   ]
  },
  {
   "cell_type": "markdown",
   "metadata": {},
   "source": [
    "I will try two possible architectures for RNN models, i.e.:\n",
    "\n",
    "* **LSTM**;\n",
    "* **GRU**."
   ]
  },
  {
   "cell_type": "markdown",
   "metadata": {},
   "source": [
    "##### LSTM"
   ]
  },
  {
   "cell_type": "code",
   "execution_count": 157,
   "metadata": {},
   "outputs": [],
   "source": [
    "# Define model checkpoint\n",
    "keras_lstm_ckpt = ModelCheckpoint('deep_learning_models/keras_embedding/keras_lstm.hdf5', \n",
    "                                   save_best_only=True, verbose=1)"
   ]
  },
  {
   "cell_type": "code",
   "execution_count": 171,
   "metadata": {},
   "outputs": [
    {
     "name": "stdout",
     "output_type": "stream",
     "text": [
      "_________________________________________________________________\n",
      "Layer (type)                 Output Shape              Param #   \n",
      "=================================================================\n",
      "embedding_1 (Embedding)      (None, 50, 50)            5334200   \n",
      "_________________________________________________________________\n",
      "lstm_1 (LSTM)                (None, 64)                29440     \n",
      "_________________________________________________________________\n",
      "dense_1 (Dense)              (None, 2)                 130       \n",
      "=================================================================\n",
      "Total params: 5,363,770\n",
      "Trainable params: 5,363,770\n",
      "Non-trainable params: 0\n",
      "_________________________________________________________________\n"
     ]
    }
   ],
   "source": [
    "# Define LSTM network with Keras embedding\n",
    "keras.backend.clear_session()\n",
    "keras_lstm_model = Sequential()\n",
    "keras_lstm_model.add(Embedding(len(keras_tokenizer.word_index)+1, 50,\n",
    "                               input_length=max_len))\n",
    "keras_lstm_model.add(LSTM(64))\n",
    "keras_lstm_model.add(Dense(2, activation='softmax'))\n",
    "keras_lstm_model.summary()"
   ]
  },
  {
   "cell_type": "code",
   "execution_count": 172,
   "metadata": {},
   "outputs": [],
   "source": [
    "# Compile the model\n",
    "keras_lstm_model.compile(optimizer='rmsprop',\n",
    "                         loss='binary_crossentropy',\n",
    "                         metrics=['accuracy'])\n",
    "\n",
    "# Fit the model\n",
    "# keras_lstm_model.fit(x=padded_train, y=train_scores_cat, batch_size=256,\n",
    "#                      validation_data=(padded_val, val_scores_cat),\n",
    "#                      callbacks=[keras_lstm_ckpt], \n",
    "#                      epochs=5)"
   ]
  },
  {
   "cell_type": "code",
   "execution_count": 173,
   "metadata": {},
   "outputs": [],
   "source": [
    "# Load checkpoint weights\n",
    "keras_lstm_model.load_weights('deep_learning_models/keras_embedding/keras_lstm.hdf5')"
   ]
  },
  {
   "cell_type": "code",
   "execution_count": 161,
   "metadata": {},
   "outputs": [],
   "source": [
    "# Get prediction of lstm model on test data\n",
    "val_lstm_pred = keras_lstm_model.predict_classes(padded_val)"
   ]
  },
  {
   "cell_type": "markdown",
   "metadata": {},
   "source": [
    "##### GRU"
   ]
  },
  {
   "cell_type": "code",
   "execution_count": 174,
   "metadata": {},
   "outputs": [],
   "source": [
    "# Define model checkpoint\n",
    "keras_gru_ckpt = ModelCheckpoint('deep_learning_models/keras_embedding/keras_gru.hdf5', \n",
    "                                 save_best_only=True, verbose=1)"
   ]
  },
  {
   "cell_type": "code",
   "execution_count": 175,
   "metadata": {},
   "outputs": [
    {
     "name": "stdout",
     "output_type": "stream",
     "text": [
      "_________________________________________________________________\n",
      "Layer (type)                 Output Shape              Param #   \n",
      "=================================================================\n",
      "embedding_1 (Embedding)      (None, 50, 50)            5334200   \n",
      "_________________________________________________________________\n",
      "gru_1 (GRU)                  (None, 64)                22080     \n",
      "_________________________________________________________________\n",
      "dense_1 (Dense)              (None, 2)                 130       \n",
      "=================================================================\n",
      "Total params: 5,356,410\n",
      "Trainable params: 5,356,410\n",
      "Non-trainable params: 0\n",
      "_________________________________________________________________\n"
     ]
    }
   ],
   "source": [
    "# Define GRU network with Keras embedding\n",
    "keras.backend.clear_session()\n",
    "keras_gru_model = Sequential()\n",
    "keras_gru_model.add(Embedding(len(keras_tokenizer.word_index)+1, 50,\n",
    "                              input_length=max_len))\n",
    "keras_gru_model.add(GRU(64))\n",
    "keras_gru_model.add(Dense(2, activation='softmax'))\n",
    "keras_gru_model.summary()"
   ]
  },
  {
   "cell_type": "code",
   "execution_count": 176,
   "metadata": {},
   "outputs": [
    {
     "name": "stdout",
     "output_type": "stream",
     "text": [
      "Train on 294696 samples, validate on 32745 samples\n",
      "Epoch 1/5\n",
      "294656/294696 [============================>.] - ETA: 0s - loss: 0.2432 - acc: 0.9037\n",
      "Epoch 00001: val_loss improved from inf to 0.25545, saving model to deep_learning_models/keras_embedding/keras_gru.hdf5\n",
      "294696/294696 [==============================] - 107s 363us/step - loss: 0.2432 - acc: 0.9037 - val_loss: 0.2554 - val_acc: 0.9150\n",
      "Epoch 2/5\n",
      "294656/294696 [============================>.] - ETA: 0s - loss: 0.1934 - acc: 0.9231\n",
      "Epoch 00002: val_loss improved from 0.25545 to 0.19153, saving model to deep_learning_models/keras_embedding/keras_gru.hdf5\n",
      "294696/294696 [==============================] - 106s 361us/step - loss: 0.1935 - acc: 0.9231 - val_loss: 0.1915 - val_acc: 0.9250\n",
      "Epoch 3/5\n",
      "294656/294696 [============================>.] - ETA: 0s - loss: 0.1694 - acc: 0.9329\n",
      "Epoch 00003: val_loss did not improve\n",
      "294696/294696 [==============================] - 107s 362us/step - loss: 0.1694 - acc: 0.9329 - val_loss: 0.1933 - val_acc: 0.9224\n",
      "Epoch 4/5\n",
      "294656/294696 [============================>.] - ETA: 0s - loss: 0.1521 - acc: 0.9406\n",
      "Epoch 00004: val_loss improved from 0.19153 to 0.16618, saving model to deep_learning_models/keras_embedding/keras_gru.hdf5\n",
      "294696/294696 [==============================] - 106s 361us/step - loss: 0.1521 - acc: 0.9406 - val_loss: 0.1662 - val_acc: 0.9358\n",
      "Epoch 5/5\n",
      "294656/294696 [============================>.] - ETA: 0s - loss: 0.1401 - acc: 0.9456\n",
      "Epoch 00005: val_loss did not improve\n",
      "294696/294696 [==============================] - 106s 360us/step - loss: 0.1401 - acc: 0.9456 - val_loss: 0.1757 - val_acc: 0.9299\n"
     ]
    },
    {
     "data": {
      "text/plain": [
       "<keras.callbacks.History at 0x7fbd4df725c0>"
      ]
     },
     "execution_count": 176,
     "metadata": {},
     "output_type": "execute_result"
    }
   ],
   "source": [
    "# Compile the model\n",
    "keras_gru_model.compile(optimizer='rmsprop',\n",
    "                        loss='binary_crossentropy',\n",
    "                        metrics=['accuracy'])\n",
    "\n",
    "# Fit the model\n",
    "# keras_gru_model.fit(x=padded_train, y=train_scores_cat, batch_size=256,\n",
    "#                     validation_data=(padded_val, val_scores_cat),\n",
    "#                     callbacks=[keras_gru_ckpt], \n",
    "#                     epochs=5)"
   ]
  },
  {
   "cell_type": "code",
   "execution_count": 177,
   "metadata": {},
   "outputs": [],
   "source": [
    "# Load checkpoint weights\n",
    "keras_gru_model.load_weights('deep_learning_models/keras_embedding/keras_gru.hdf5')"
   ]
  },
  {
   "cell_type": "code",
   "execution_count": 178,
   "metadata": {},
   "outputs": [],
   "source": [
    "# Get prediction of lstm model on test data\n",
    "val_gru_pred = keras_gru_model.predict_classes(padded_val)"
   ]
  },
  {
   "cell_type": "code",
   "execution_count": 179,
   "metadata": {},
   "outputs": [
    {
     "name": "stdout",
     "output_type": "stream",
     "text": [
      "AUC score for Bmk Log Reg is 0.8609\n",
      "AUC score for Conv1D Keras embedding is 0.8528\n",
      "AUC score for LSTM Keras embedding is 0.8485\n",
      "AUC score for GRU Keras Embedding is 0.8474\n"
     ]
    },
    {
     "data": {
      "image/png": "[encoded data removed]",
      "text/plain": [
       "<matplotlib.figure.Figure at 0x7fbd02d37588>"
      ]
     },
     "metadata": {},
     "output_type": "display_data"
    }
   ],
   "source": [
    "# Print comparison chart\n",
    "comparison_chart = ROCChart(val_scores,\n",
    "                            [bmk_log_reg_pred,\n",
    "                             val_conv_pred,\n",
    "                             val_lstm_pred,\n",
    "                             val_gru_pred],\n",
    "                            ['Bmk Log Reg',\n",
    "                             'Conv1D Keras embedding',\n",
    "                             'LSTM Keras embedding',\n",
    "                             'GRU Keras Embedding'],\n",
    "                            'AUC on validation set')\n",
    "comparison_chart.plot()"
   ]
  },
  {
   "cell_type": "markdown",
   "metadata": {},
   "source": [
    "## Conv1D/RNN with Word2vec vectors"
   ]
  },
  {
   "cell_type": "code",
   "execution_count": 180,
   "metadata": {},
   "outputs": [],
   "source": [
    "# Load word2vec model\n",
    "sgram_word2vec_model = Word2Vec.load('word2vec_models/default_sgram_word2vec.hdf5')"
   ]
  },
  {
   "cell_type": "code",
   "execution_count": 181,
   "metadata": {},
   "outputs": [],
   "source": [
    "# Extract words in word2vec model\n",
    "sgram_word2vec_words = set(sgram_word2vec_model.wv.index2word)"
   ]
  },
  {
   "cell_type": "code",
   "execution_count": 182,
   "metadata": {},
   "outputs": [
    {
     "data": {
      "text/plain": [
       "(106684, 300)"
      ]
     },
     "execution_count": 182,
     "metadata": {},
     "output_type": "execute_result"
    }
   ],
   "source": [
    "# Initialise zero array\n",
    "embedding_matrix = np.zeros((len(keras_tokenizer.word_index)+1, 300))\n",
    "embedding_matrix.shape"
   ]
  },
  {
   "cell_type": "code",
   "execution_count": 183,
   "metadata": {},
   "outputs": [],
   "source": [
    "# Extract index2word dictionary from tokenise\n",
    "keras_tokenizer_index2word = {i:k for k,i in keras_tokenizer.word_index.items()}"
   ]
  },
  {
   "cell_type": "code",
   "execution_count": 184,
   "metadata": {},
   "outputs": [],
   "source": [
    "# Add word2vec to embedding matrix\n",
    "for i in range(embedding_matrix.shape[0]):\n",
    "    if i != 0 and keras_tokenizer_index2word[i] in sgram_word2vec_words:\n",
    "        embedding_matrix[i] = sgram_word2vec_model.wv[keras_tokenizer_index2word[i]]"
   ]
  },
  {
   "cell_type": "markdown",
   "metadata": {},
   "source": [
    "#### Conv1D model"
   ]
  },
  {
   "cell_type": "code",
   "execution_count": 191,
   "metadata": {},
   "outputs": [],
   "source": [
    "# Define model checkpoint\n",
    "w2v_conv_ckpt = ModelCheckpoint('deep_learning_models/word2vec_embedding/w2v_conv.hdf5', \n",
    "                                save_best_only=True, verbose=1)"
   ]
  },
  {
   "cell_type": "code",
   "execution_count": 192,
   "metadata": {},
   "outputs": [
    {
     "name": "stdout",
     "output_type": "stream",
     "text": [
      "_________________________________________________________________\n",
      "Layer (type)                 Output Shape              Param #   \n",
      "=================================================================\n",
      "embedding_1 (Embedding)      (None, 50, 300)           32005200  \n",
      "_________________________________________________________________\n",
      "conv1d_1 (Conv1D)            (None, 25, 16)            14416     \n",
      "_________________________________________________________________\n",
      "max_pooling1d_1 (MaxPooling1 (None, 13, 16)            0         \n",
      "_________________________________________________________________\n",
      "conv1d_2 (Conv1D)            (None, 13, 32)            544       \n",
      "_________________________________________________________________\n",
      "max_pooling1d_2 (MaxPooling1 (None, 7, 32)             0         \n",
      "_________________________________________________________________\n",
      "flatten_1 (Flatten)          (None, 224)               0         \n",
      "_________________________________________________________________\n",
      "dense_1 (Dense)              (None, 32)                7200      \n",
      "_________________________________________________________________\n",
      "dense_2 (Dense)              (None, 2)                 66        \n",
      "=================================================================\n",
      "Total params: 32,027,426\n",
      "Trainable params: 22,226\n",
      "Non-trainable params: 32,005,200\n",
      "_________________________________________________________________\n"
     ]
    }
   ],
   "source": [
    "# Define conv1d with Keras embedding\n",
    "keras.backend.clear_session()\n",
    "w2v_conv_model = Sequential()\n",
    "w2v_conv_model .add(Embedding(len(keras_tokenizer.word_index)+1, 300,\n",
    "                              input_length=max_len,\n",
    "                              weights=[embedding_matrix], \n",
    "                              trainable=False))\n",
    "w2v_conv_model.add(Conv1D(16, 3, strides=2, padding='same', activation='relu'))\n",
    "w2v_conv_model.add(MaxPooling1D(padding='same'))\n",
    "w2v_conv_model.add(Conv1D(32, 1, strides=1, padding='same', activation='relu'))\n",
    "w2v_conv_model.add(MaxPooling1D(padding='same'))\n",
    "w2v_conv_model.add(Flatten())\n",
    "w2v_conv_model.add(Dense(32, activation='tanh'))\n",
    "w2v_conv_model.add(Dense(2, activation='softmax'))\n",
    "w2v_conv_model.summary()"
   ]
  },
  {
   "cell_type": "code",
   "execution_count": 193,
   "metadata": {},
   "outputs": [
    {
     "name": "stdout",
     "output_type": "stream",
     "text": [
      "Train on 294696 samples, validate on 32745 samples\n",
      "Epoch 1/5\n",
      "294656/294696 [============================>.] - ETA: 0s - loss: 0.2593 - acc: 0.8931\n",
      "Epoch 00001: val_loss improved from inf to 0.29111, saving model to deep_learning_models/word2vec_embedding/w2v_conv.hdf5\n",
      "294696/294696 [==============================] - 14s 47us/step - loss: 0.2593 - acc: 0.8931 - val_loss: 0.2911 - val_acc: 0.8898\n",
      "Epoch 2/5\n",
      "294656/294696 [============================>.] - ETA: 0s - loss: 0.2067 - acc: 0.9173\n",
      "Epoch 00002: val_loss improved from 0.29111 to 0.19861, saving model to deep_learning_models/word2vec_embedding/w2v_conv.hdf5\n",
      "294696/294696 [==============================] - 14s 46us/step - loss: 0.2066 - acc: 0.9173 - val_loss: 0.1986 - val_acc: 0.9196\n",
      "Epoch 3/5\n",
      "294656/294696 [============================>.] - ETA: 0s - loss: 0.1927 - acc: 0.9233\n",
      "Epoch 00003: val_loss did not improve\n",
      "294696/294696 [==============================] - 13s 45us/step - loss: 0.1927 - acc: 0.9233 - val_loss: 0.2030 - val_acc: 0.9207\n",
      "Epoch 4/5\n",
      "294656/294696 [============================>.] - ETA: 0s - loss: 0.1835 - acc: 0.9270\n",
      "Epoch 00004: val_loss improved from 0.19861 to 0.19072, saving model to deep_learning_models/word2vec_embedding/w2v_conv.hdf5\n",
      "294696/294696 [==============================] - 14s 47us/step - loss: 0.1835 - acc: 0.9270 - val_loss: 0.1907 - val_acc: 0.9251\n",
      "Epoch 5/5\n",
      "294656/294696 [============================>.] - ETA: 0s - loss: 0.1769 - acc: 0.9297\n",
      "Epoch 00005: val_loss improved from 0.19072 to 0.18653, saving model to deep_learning_models/word2vec_embedding/w2v_conv.hdf5\n",
      "294696/294696 [==============================] - 14s 46us/step - loss: 0.1769 - acc: 0.9296 - val_loss: 0.1865 - val_acc: 0.9237\n"
     ]
    },
    {
     "data": {
      "text/plain": [
       "<keras.callbacks.History at 0x7fbcfea11898>"
      ]
     },
     "execution_count": 193,
     "metadata": {},
     "output_type": "execute_result"
    }
   ],
   "source": [
    "# Compile the model\n",
    "w2v_conv_model.compile(optimizer='rmsprop',\n",
    "                       loss='binary_crossentropy',\n",
    "                       metrics=['accuracy'])\n",
    "\n",
    "# Fit the model\n",
    "# w2v_conv_model.fit(x=padded_train, y=train_scores_cat, batch_size=256,\n",
    "#                    validation_data=(padded_val, val_scores_cat),\n",
    "#                    callbacks=[w2v_conv_ckpt], \n",
    "#                    epochs=5)"
   ]
  },
  {
   "cell_type": "code",
   "execution_count": 194,
   "metadata": {},
   "outputs": [],
   "source": [
    "# Load checkpoint weights\n",
    "w2v_conv_model.load_weights('deep_learning_models/word2vec_embedding/w2v_conv.hdf5')"
   ]
  },
  {
   "cell_type": "code",
   "execution_count": 195,
   "metadata": {},
   "outputs": [],
   "source": [
    "# Get prediction of conv model on test data\n",
    "val_w2v_conv_pred = w2v_conv_model.predict_classes(padded_val)"
   ]
  },
  {
   "cell_type": "markdown",
   "metadata": {},
   "source": [
    "#### RNN models"
   ]
  },
  {
   "cell_type": "markdown",
   "metadata": {},
   "source": [
    "##### LSTM"
   ]
  },
  {
   "cell_type": "code",
   "execution_count": 196,
   "metadata": {},
   "outputs": [],
   "source": [
    "# Define model checkpoint\n",
    "w2v_lstm_ckpt = ModelCheckpoint('deep_learning_models/word2vec_embedding/w2v_lstm.hdf5', \n",
    "                                save_best_only=True, verbose=1)"
   ]
  },
  {
   "cell_type": "code",
   "execution_count": 197,
   "metadata": {},
   "outputs": [
    {
     "name": "stdout",
     "output_type": "stream",
     "text": [
      "_________________________________________________________________\n",
      "Layer (type)                 Output Shape              Param #   \n",
      "=================================================================\n",
      "embedding_1 (Embedding)      (None, 50, 300)           32005200  \n",
      "_________________________________________________________________\n",
      "lstm_1 (LSTM)                (None, 64)                93440     \n",
      "_________________________________________________________________\n",
      "dense_1 (Dense)              (None, 2)                 130       \n",
      "=================================================================\n",
      "Total params: 32,098,770\n",
      "Trainable params: 93,570\n",
      "Non-trainable params: 32,005,200\n",
      "_________________________________________________________________\n"
     ]
    }
   ],
   "source": [
    "# Define LSTM network with Word2vec embedding\n",
    "keras.backend.clear_session()\n",
    "w2v_lstm_model = Sequential()\n",
    "w2v_lstm_model.add(Embedding(len(keras_tokenizer.word_index)+1, 300,\n",
    "                             input_length=max_len,\n",
    "                             weights=[embedding_matrix], \n",
    "                             trainable=False))\n",
    "w2v_lstm_model.add(LSTM(64))\n",
    "w2v_lstm_model.add(Dense(2, activation='softmax'))\n",
    "w2v_lstm_model.summary()"
   ]
  },
  {
   "cell_type": "code",
   "execution_count": 198,
   "metadata": {},
   "outputs": [
    {
     "name": "stdout",
     "output_type": "stream",
     "text": [
      "Train on 294696 samples, validate on 32745 samples\n",
      "Epoch 1/5\n",
      "294656/294696 [============================>.] - ETA: 0s - loss: 0.2775 - acc: 0.8868\n",
      "Epoch 00001: val_loss improved from inf to 0.26232, saving model to deep_learning_models/word2vec_embedding/w2v_lstm.hdf5\n",
      "294696/294696 [==============================] - 126s 428us/step - loss: 0.2775 - acc: 0.8868 - val_loss: 0.2623 - val_acc: 0.8927\n",
      "Epoch 2/5\n",
      "294656/294696 [============================>.] - ETA: 0s - loss: 0.2151 - acc: 0.9126\n",
      "Epoch 00002: val_loss improved from 0.26232 to 0.20683, saving model to deep_learning_models/word2vec_embedding/w2v_lstm.hdf5\n",
      "294696/294696 [==============================] - 126s 429us/step - loss: 0.2151 - acc: 0.9126 - val_loss: 0.2068 - val_acc: 0.9176\n",
      "Epoch 3/5\n",
      "294656/294696 [============================>.] - ETA: 0s - loss: 0.1862 - acc: 0.9248\n",
      "Epoch 00003: val_loss did not improve\n",
      "294696/294696 [==============================] - 126s 428us/step - loss: 0.1862 - acc: 0.9248 - val_loss: 0.2164 - val_acc: 0.9104\n",
      "Epoch 4/5\n",
      "294656/294696 [============================>.] - ETA: 0s - loss: 0.1716 - acc: 0.9307\n",
      "Epoch 00004: val_loss improved from 0.20683 to 0.20576, saving model to deep_learning_models/word2vec_embedding/w2v_lstm.hdf5\n",
      "294696/294696 [==============================] - 126s 428us/step - loss: 0.1716 - acc: 0.9307 - val_loss: 0.2058 - val_acc: 0.9230\n",
      "Epoch 5/5\n",
      "294656/294696 [============================>.] - ETA: 0s - loss: 0.1628 - acc: 0.9343\n",
      "Epoch 00005: val_loss improved from 0.20576 to 0.16798, saving model to deep_learning_models/word2vec_embedding/w2v_lstm.hdf5\n",
      "294696/294696 [==============================] - 127s 429us/step - loss: 0.1628 - acc: 0.9343 - val_loss: 0.1680 - val_acc: 0.9338\n"
     ]
    },
    {
     "data": {
      "text/plain": [
       "<keras.callbacks.History at 0x7fbcfe9d5c18>"
      ]
     },
     "execution_count": 198,
     "metadata": {},
     "output_type": "execute_result"
    }
   ],
   "source": [
    "# Compile the model\n",
    "w2v_lstm_model.compile(optimizer='rmsprop',\n",
    "                       loss='binary_crossentropy',\n",
    "                       metrics=['accuracy'])\n",
    "\n",
    "# Fit the model\n",
    "# w2v_lstm_model.fit(x=padded_train, y=train_scores_cat, batch_size=256,\n",
    "#                    validation_data=(padded_val, val_scores_cat),\n",
    "#                    callbacks=[w2v_lstm_ckpt], \n",
    "#                    epochs=5)"
   ]
  },
  {
   "cell_type": "code",
   "execution_count": 199,
   "metadata": {},
   "outputs": [],
   "source": [
    "# Load checkpoint weights\n",
    "w2v_lstm_model.load_weights('deep_learning_models/word2vec_embedding/w2v_lstm.hdf5')"
   ]
  },
  {
   "cell_type": "code",
   "execution_count": 200,
   "metadata": {},
   "outputs": [],
   "source": [
    "# Get prediction of lstm model on test data\n",
    "val_w2v_lstm_pred = w2v_lstm_model.predict_classes(padded_val)"
   ]
  },
  {
   "cell_type": "markdown",
   "metadata": {},
   "source": [
    "##### GRU"
   ]
  },
  {
   "cell_type": "code",
   "execution_count": 202,
   "metadata": {},
   "outputs": [],
   "source": [
    "# Define model checkpoint\n",
    "w2v_gru_ckpt = ModelCheckpoint('deep_learning_models/word2vec_embedding/w2v_gru.hdf5', \n",
    "                               save_best_only=True, verbose=1)"
   ]
  },
  {
   "cell_type": "code",
   "execution_count": 203,
   "metadata": {},
   "outputs": [
    {
     "name": "stdout",
     "output_type": "stream",
     "text": [
      "_________________________________________________________________\n",
      "Layer (type)                 Output Shape              Param #   \n",
      "=================================================================\n",
      "embedding_1 (Embedding)      (None, 50, 300)           32005200  \n",
      "_________________________________________________________________\n",
      "gru_1 (GRU)                  (None, 64)                70080     \n",
      "_________________________________________________________________\n",
      "dense_1 (Dense)              (None, 2)                 130       \n",
      "=================================================================\n",
      "Total params: 32,075,410\n",
      "Trainable params: 70,210\n",
      "Non-trainable params: 32,005,200\n",
      "_________________________________________________________________\n"
     ]
    }
   ],
   "source": [
    "# Define LSTM network with Word2vec embedding\n",
    "keras.backend.clear_session()\n",
    "w2v_gru_model = Sequential()\n",
    "w2v_gru_model.add(Embedding(len(keras_tokenizer.word_index)+1, 300,\n",
    "                            input_length=max_len,\n",
    "                            weights=[embedding_matrix], \n",
    "                            trainable=False))\n",
    "w2v_gru_model.add(GRU(64))\n",
    "w2v_gru_model.add(Dense(2, activation='softmax'))\n",
    "w2v_gru_model.summary()"
   ]
  },
  {
   "cell_type": "code",
   "execution_count": 204,
   "metadata": {},
   "outputs": [
    {
     "name": "stdout",
     "output_type": "stream",
     "text": [
      "Train on 294696 samples, validate on 32745 samples\n",
      "Epoch 1/5\n",
      "294656/294696 [============================>.] - ETA: 0s - loss: 0.2707 - acc: 0.8891\n",
      "Epoch 00001: val_loss improved from inf to 0.23659, saving model to deep_learning_models/word2vec_embedding/w2v_gru.hdf5\n",
      "294696/294696 [==============================] - 100s 339us/step - loss: 0.2707 - acc: 0.8891 - val_loss: 0.2366 - val_acc: 0.9116\n",
      "Epoch 2/5\n",
      "294656/294696 [============================>.] - ETA: 0s - loss: 0.2010 - acc: 0.9182\n",
      "Epoch 00002: val_loss improved from 0.23659 to 0.19113, saving model to deep_learning_models/word2vec_embedding/w2v_gru.hdf5\n",
      "294696/294696 [==============================] - 100s 339us/step - loss: 0.2009 - acc: 0.9182 - val_loss: 0.1911 - val_acc: 0.9235\n",
      "Epoch 3/5\n",
      "294656/294696 [============================>.] - ETA: 0s - loss: 0.1791 - acc: 0.9274\n",
      "Epoch 00003: val_loss improved from 0.19113 to 0.17483, saving model to deep_learning_models/word2vec_embedding/w2v_gru.hdf5\n",
      "294696/294696 [==============================] - 100s 339us/step - loss: 0.1791 - acc: 0.9274 - val_loss: 0.1748 - val_acc: 0.9305\n",
      "Epoch 4/5\n",
      "294656/294696 [============================>.] - ETA: 0s - loss: 0.1650 - acc: 0.9336\n",
      "Epoch 00004: val_loss improved from 0.17483 to 0.17465, saving model to deep_learning_models/word2vec_embedding/w2v_gru.hdf5\n",
      "294696/294696 [==============================] - 100s 340us/step - loss: 0.1650 - acc: 0.9336 - val_loss: 0.1747 - val_acc: 0.9274\n",
      "Epoch 5/5\n",
      "294656/294696 [============================>.] - ETA: 0s - loss: 0.1558 - acc: 0.9375\n",
      "Epoch 00005: val_loss did not improve\n",
      "294696/294696 [==============================] - 100s 338us/step - loss: 0.1558 - acc: 0.9375 - val_loss: 0.1786 - val_acc: 0.9310\n"
     ]
    },
    {
     "data": {
      "text/plain": [
       "<keras.callbacks.History at 0x7fbcfd66d438>"
      ]
     },
     "execution_count": 204,
     "metadata": {},
     "output_type": "execute_result"
    }
   ],
   "source": [
    "# Compile the model\n",
    "w2v_gru_model.compile(optimizer='rmsprop',\n",
    "                      loss='binary_crossentropy',\n",
    "                      metrics=['accuracy'])\n",
    "\n",
    "# Fit the model\n",
    "w2v_gru_model.fit(x=padded_train, y=train_scores_cat, batch_size=256,\n",
    "                  validation_data=(padded_val, val_scores_cat),\n",
    "                  callbacks=[w2v_gru_ckpt], \n",
    "                  epochs=5)"
   ]
  },
  {
   "cell_type": "code",
   "execution_count": 205,
   "metadata": {},
   "outputs": [],
   "source": [
    "# Load checkpoint weights\n",
    "w2v_gru_model.load_weights('deep_learning_models/word2vec_embedding/w2v_gru.hdf5')"
   ]
  },
  {
   "cell_type": "code",
   "execution_count": 206,
   "metadata": {},
   "outputs": [],
   "source": [
    "# Get prediction of gru model on validation data\n",
    "val_w2v_gru_pred = w2v_gru_model.predict_classes(padded_val)"
   ]
  },
  {
   "cell_type": "code",
   "execution_count": 210,
   "metadata": {},
   "outputs": [
    {
     "name": "stdout",
     "output_type": "stream",
     "text": [
      "AUC score for Bmk Log Reg is 0.8609\n",
      "AUC score for Conv1D Word2vec embedding is 0.8193\n",
      "AUC score for LSTM Word2vec embedding is 0.8566\n",
      "AUC score for GRU Word2vec Embedding is 0.8755\n"
     ]
    },
    {
     "data": {
      "image/png": "[encoded data removed]",
      "text/plain": [
       "<matplotlib.figure.Figure at 0x7fbcfcc79ac8>"
      ]
     },
     "metadata": {},
     "output_type": "display_data"
    }
   ],
   "source": [
    "# Print comparison chart\n",
    "comparison_chart = ROCChart(val_scores,\n",
    "                            [bmk_log_reg_pred, \n",
    "                             val_w2v_conv_pred, \n",
    "                             val_w2v_lstm_pred, \n",
    "                             val_w2v_gru_pred],\n",
    "                            ['Bmk Log Reg',\n",
    "                             'Conv1D Word2vec embedding',\n",
    "                             'LSTM Word2vec embedding',\n",
    "                             'GRU Word2vec Embedding'],\n",
    "                            'AUC on test set')\n",
    "comparison_chart.plot()"
   ]
  }
 ],
 "metadata": {
  "kernelspec": {
   "display_name": "Python 3",
   "language": "python",
   "name": "python3"
  },
  "language_info": {
   "codemirror_mode": {
    "name": "ipython",
    "version": 3
   },
   "file_extension": ".py",
   "mimetype": "text/x-python",
   "name": "python",
   "nbconvert_exporter": "python",
   "pygments_lexer": "ipython3",
   "version": "3.6.4"
  }
 },
 "nbformat": 4,
 "nbformat_minor": 2
}
