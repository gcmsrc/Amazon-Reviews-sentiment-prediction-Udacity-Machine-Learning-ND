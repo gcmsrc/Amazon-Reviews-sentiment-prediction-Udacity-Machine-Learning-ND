{
 "cells": [
  {
   "cell_type": "markdown",
   "metadata": {},
   "source": [
    "# Machine Learning Engineer Nanodegree - Capstone Project\n",
    "## PART 7: Model Evaluation"
   ]
  },
  {
   "cell_type": "markdown",
   "metadata": {},
   "source": [
    "**Author:** Giacomo Sarchioni"
   ]
  },
  {
   "cell_type": "code",
   "execution_count": 2,
   "metadata": {},
   "outputs": [],
   "source": [
    "# Module imports\n",
    "import pickle as pkl\n",
    "import pandas as pd\n",
    "%matplotlib inline\n",
    "import matplotlib.pyplot as plt\n",
    "import numpy as np\n",
    "from roc_chart import ROCChart\n",
    "from sklearn.feature_extraction.text import TfidfVectorizer\n",
    "from sklearn.metrics import roc_auc_score, accuracy_score, roc_curve\n",
    "from roc_chart import ROCChart\n",
    "from sklearn.externals import joblib\n",
    "import keras\n",
    "from keras.preprocessing.text import Tokenizer\n",
    "from keras.preprocessing.sequence import pad_sequences\n",
    "from keras.models import load_model\n",
    "from scipy.stats import ttest_rel\n",
    "\n",
    "random_seed = 42"
   ]
  },
  {
   "cell_type": "markdown",
   "metadata": {},
   "source": [
    "## Import data"
   ]
  },
  {
   "cell_type": "code",
   "execution_count": 3,
   "metadata": {},
   "outputs": [],
   "source": [
    "# Load reviews\n",
    "with open('reviews/sentiment_reviews/sentiment.pkl', 'rb') as f:\n",
    "    sentiment_reviews = pkl.load(f)\n",
    "    \n",
    "# Load indexes\n",
    "with open('split_indexes/indexes.pkl', 'rb') as f:\n",
    "    indexes = pkl.load(f)"
   ]
  },
  {
   "cell_type": "code",
   "execution_count": 4,
   "metadata": {},
   "outputs": [],
   "source": [
    "# Extract scores\n",
    "scores = sentiment_reviews.adj_score.values\n",
    "\n",
    "# Extract non-test and test scores\n",
    "non_test_scores = scores[indexes['non_test']]\n",
    "test_scores = scores[indexes['test']]\n",
    "\n",
    "# Extract train and validation scores\n",
    "train_scores = non_test_scores[indexes['train']]\n",
    "val_scores = non_test_scores[indexes['val']]\n",
    "\n",
    "# Transform scores into categorical\n",
    "scores_cat = keras.utils.to_categorical(scores,2)\n",
    "\n",
    "# Extract non-test and test scores\n",
    "non_test_scores_cat = scores_cat[indexes['non_test']]\n",
    "test_scores_cat = scores_cat[indexes['test']]\n",
    "\n",
    "# Extract train and validation scores\n",
    "train_scores_cat = non_test_scores_cat[indexes['train']]\n",
    "val_scores_cat = non_test_scores_cat[indexes['val']]"
   ]
  },
  {
   "cell_type": "code",
   "execution_count": 5,
   "metadata": {},
   "outputs": [],
   "source": [
    "# Extract parser_zero_reviews \n",
    "parser_zero_reviews = sentiment_reviews.loc[:,'parser_zero'].values\n",
    "\n",
    "# Extract non test parser two reviews and scores\n",
    "non_test_parser_zero_reviews = parser_zero_reviews[indexes['non_test']]\n",
    "test_parser_zero_reviews = parser_zero_reviews[indexes['test']]\n",
    "\n",
    "# Extract train and validation parser-two reviews\n",
    "train_parser_zero_reviews = non_test_parser_zero_reviews[indexes['train']]\n",
    "val_parser_zero_reviews = non_test_parser_zero_reviews[indexes['val']]"
   ]
  },
  {
   "cell_type": "code",
   "execution_count": 6,
   "metadata": {},
   "outputs": [],
   "source": [
    "# Extract parser_one_reviews \n",
    "parser_one_reviews = sentiment_reviews.loc[:,'parser_one'].values\n",
    "\n",
    "# Extract non test parser two reviews and scores\n",
    "non_test_parser_one_reviews = parser_one_reviews[indexes['non_test']]\n",
    "test_parser_one_reviews = parser_one_reviews[indexes['test']]\n",
    "\n",
    "# Extract train and validation parser-two reviews\n",
    "train_parser_one_reviews = non_test_parser_one_reviews[indexes['train']]\n",
    "val_parser_one_reviews = non_test_parser_one_reviews[indexes['val']]"
   ]
  },
  {
   "cell_type": "markdown",
   "metadata": {},
   "source": [
    "## Import log reg benchmark model"
   ]
  },
  {
   "cell_type": "code",
   "execution_count": 6,
   "metadata": {},
   "outputs": [],
   "source": [
    "# Load log reg benchmark\n",
    "bmk_log_reg = joblib.load('bmk_models/bmk_log_reg.pkl')"
   ]
  },
  {
   "cell_type": "markdown",
   "metadata": {},
   "source": [
    "## Parse data for deep learning models"
   ]
  },
  {
   "cell_type": "code",
   "execution_count": 8,
   "metadata": {},
   "outputs": [],
   "source": [
    "# Define number words in tokenizer\n",
    "n_words_tokenizer = None\n",
    "\n",
    "# Define max_len for reviews\n",
    "max_len = 50"
   ]
  },
  {
   "cell_type": "code",
   "execution_count": 9,
   "metadata": {},
   "outputs": [],
   "source": [
    "# Tokenise and pad  parser_zero reviews\n",
    "# Import tokeniser\n",
    "keras_tokenizer = Tokenizer(num_words = n_words_tokenizer)\n",
    "\n",
    "keras_tokenizer.fit_on_texts(train_parser_one_reviews)\n",
    "\n",
    "# Tokenise train, val and test parser_zero reviews\n",
    "tokenised_train = keras_tokenizer.texts_to_sequences(train_parser_one_reviews)\n",
    "tokenised_val = keras_tokenizer.texts_to_sequences(val_parser_one_reviews)\n",
    "tokenised_test = keras_tokenizer.texts_to_sequences(test_parser_one_reviews)\n",
    "\n",
    "# Transform reviews into sequences using pad_sequences\n",
    "padded_train = pad_sequences(tokenised_train, maxlen=max_len, padding='post')\n",
    "padded_val = pad_sequences(tokenised_val, maxlen=max_len, padding='post')\n",
    "padded_test = pad_sequences(tokenised_test, maxlen=max_len, padding='post')"
   ]
  },
  {
   "cell_type": "markdown",
   "metadata": {},
   "source": [
    "## Import deep learning model"
   ]
  },
  {
   "cell_type": "code",
   "execution_count": 10,
   "metadata": {},
   "outputs": [],
   "source": [
    "deep_learning_model = load_model('final_model/dl_final.hdf5')"
   ]
  },
  {
   "cell_type": "markdown",
   "metadata": {},
   "source": [
    "## Predictions"
   ]
  },
  {
   "cell_type": "markdown",
   "metadata": {},
   "source": [
    "#### Validation"
   ]
  },
  {
   "cell_type": "code",
   "execution_count": 11,
   "metadata": {},
   "outputs": [],
   "source": [
    "# Bmk prediciton on validation set\n",
    "val_bmk_pred = bmk_log_reg.predict(val_parser_one_reviews)\n",
    "\n",
    "# Deep Learning prediction on validation set\n",
    "val_dl_pred = deep_learning_model.predict_classes(padded_val)"
   ]
  },
  {
   "cell_type": "code",
   "execution_count": 12,
   "metadata": {},
   "outputs": [
    {
     "name": "stdout",
     "output_type": "stream",
     "text": [
      "AUC score for Bmk Log Reg is 0.8609\n",
      "AUC score for Refined Model is 0.8832\n"
     ]
    },
    {
     "data": {
      "image/png": "[encoded data removed]",
      "text/plain": [
       "<matplotlib.figure.Figure at 0x7fe0985615c0>"
      ]
     },
     "metadata": {},
     "output_type": "display_data"
    }
   ],
   "source": [
    "# Print comparison chart\n",
    "comparison_chart = ROCChart(val_scores,\n",
    "                            [val_bmk_pred, val_dl_pred],\n",
    "                            ['Bmk Log Reg', 'Refined Model'],\n",
    "                            'AUC on validation set')\n",
    "comparison_chart.plot()"
   ]
  },
  {
   "cell_type": "markdown",
   "metadata": {},
   "source": [
    "#### Test"
   ]
  },
  {
   "cell_type": "code",
   "execution_count": 13,
   "metadata": {},
   "outputs": [],
   "source": [
    "# Bmk prediciton on test set\n",
    "test_bmk_pred = bmk_log_reg.predict(test_parser_one_reviews)\n",
    "\n",
    "# Deep Learning prediction on test set\n",
    "test_dl_pred = deep_learning_model.predict_classes(padded_test)"
   ]
  },
  {
   "cell_type": "code",
   "execution_count": 14,
   "metadata": {},
   "outputs": [
    {
     "name": "stdout",
     "output_type": "stream",
     "text": [
      "AUC score for Bmk Log Reg is 0.8590\n",
      "AUC score for Refined Model is 0.8810\n"
     ]
    },
    {
     "data": {
      "image/png": "[encoded data removed]",
      "text/plain": [
       "<matplotlib.figure.Figure at 0x7fdf94a42940>"
      ]
     },
     "metadata": {},
     "output_type": "display_data"
    }
   ],
   "source": [
    "# Print comparison chart\n",
    "comparison_chart = ROCChart(test_scores,\n",
    "                            [test_bmk_pred, test_dl_pred],\n",
    "                            ['Bmk Log Reg', 'Refined Model'],\n",
    "                            'AUC on test set')\n",
    "comparison_chart.plot()"
   ]
  },
  {
   "cell_type": "markdown",
   "metadata": {},
   "source": [
    "## Build Deep Learning classifier"
   ]
  },
  {
   "cell_type": "code",
   "execution_count": 15,
   "metadata": {},
   "outputs": [],
   "source": [
    "# Dump keras tokeniser\n",
    "with open('final_model/dl_tokeniser.pkl', 'wb') as f:\n",
    "    pkl.dump(keras_tokenizer, f)"
   ]
  },
  {
   "cell_type": "code",
   "execution_count": 3,
   "metadata": {},
   "outputs": [],
   "source": [
    "import pickle as pkl\n",
    "from keras.models import load_model\n",
    "from keras.preprocessing.sequence import pad_sequences\n",
    "\n",
    "class DL_Classifier:\n",
    "    \n",
    "    def __init__(self, tokeniser_path, model_path, num_words=50):\n",
    "        \n",
    "        with open(tokeniser_path, 'rb') as f:\n",
    "            self.tokeniser = pkl.load(f)\n",
    "             \n",
    "        self.model = load_model(model_path)\n",
    "        self.num_words = num_words\n",
    "        \n",
    "    def predict(self, reviews, return_proba=False):\n",
    "        \n",
    "        reviews = self.tokeniser.texts_to_sequences(reviews)\n",
    "        reviews = pad_sequences(reviews, self.num_words, padding='post')\n",
    "        \n",
    "        predictions = self.model.predict(reviews)\n",
    "        \n",
    "        if return_proba:\n",
    "            return predictions\n",
    "        else:\n",
    "            return predictions.argmax(axis=1)"
   ]
  },
  {
   "cell_type": "code",
   "execution_count": 4,
   "metadata": {},
   "outputs": [],
   "source": [
    "DL_model = DL_Classifier('final_model/dl_tokeniser.pkl', 'final_model/dl_final.hdf5')"
   ]
  },
  {
   "cell_type": "code",
   "execution_count": 5,
   "metadata": {},
   "outputs": [
    {
     "name": "stdout",
     "output_type": "stream",
     "text": [
      "_________________________________________________________________\n",
      "Layer (type)                 Output Shape              Param #   \n",
      "=================================================================\n",
      "embedding_1 (Embedding)      (None, 50, 300)           32005200  \n",
      "_________________________________________________________________\n",
      "conv1d_1 (Conv1D)            (None, 50, 32)            48032     \n",
      "_________________________________________________________________\n",
      "leaky_re_lu_1 (LeakyReLU)    (None, 50, 32)            0         \n",
      "_________________________________________________________________\n",
      "average_pooling1d_1 (Average (None, 25, 32)            0         \n",
      "_________________________________________________________________\n",
      "conv1d_2 (Conv1D)            (None, 25, 64)            6208      \n",
      "_________________________________________________________________\n",
      "leaky_re_lu_2 (LeakyReLU)    (None, 25, 64)            0         \n",
      "_________________________________________________________________\n",
      "average_pooling1d_2 (Average (None, 13, 64)            0         \n",
      "_________________________________________________________________\n",
      "conv1d_3 (Conv1D)            (None, 13, 128)           16512     \n",
      "_________________________________________________________________\n",
      "leaky_re_lu_3 (LeakyReLU)    (None, 13, 128)           0         \n",
      "_________________________________________________________________\n",
      "max_pooling1d_1 (MaxPooling1 (None, 7, 128)            0         \n",
      "_________________________________________________________________\n",
      "conv1d_4 (Conv1D)            (None, 7, 256)            33024     \n",
      "_________________________________________________________________\n",
      "leaky_re_lu_4 (LeakyReLU)    (None, 7, 256)            0         \n",
      "_________________________________________________________________\n",
      "max_pooling1d_2 (MaxPooling1 (None, 4, 256)            0         \n",
      "_________________________________________________________________\n",
      "flatten_1 (Flatten)          (None, 1024)              0         \n",
      "_________________________________________________________________\n",
      "dense_1 (Dense)              (None, 1024)              1049600   \n",
      "_________________________________________________________________\n",
      "dropout_1 (Dropout)          (None, 1024)              0         \n",
      "_________________________________________________________________\n",
      "dense_2 (Dense)              (None, 128)               131200    \n",
      "_________________________________________________________________\n",
      "dropout_2 (Dropout)          (None, 128)               0         \n",
      "_________________________________________________________________\n",
      "dense_3 (Dense)              (None, 32)                4128      \n",
      "_________________________________________________________________\n",
      "dense_4 (Dense)              (None, 2)                 66        \n",
      "=================================================================\n",
      "Total params: 33,293,970\n",
      "Trainable params: 33,293,970\n",
      "Non-trainable params: 0\n",
      "_________________________________________________________________\n"
     ]
    }
   ],
   "source": [
    "DL_model.model.summary()"
   ]
  },
  {
   "cell_type": "markdown",
   "metadata": {},
   "source": [
    "## Prediction on some reviews"
   ]
  },
  {
   "cell_type": "markdown",
   "metadata": {},
   "source": [
    "#### Order of words"
   ]
  },
  {
   "cell_type": "code",
   "execution_count": 7,
   "metadata": {},
   "outputs": [],
   "source": [
    "test = [\"I bought this product and I found it not to be very good\"]"
   ]
  },
  {
   "cell_type": "code",
   "execution_count": 8,
   "metadata": {},
   "outputs": [
    {
     "data": {
      "text/plain": [
       "array([[ 0.07372849,  0.92627151]])"
      ]
     },
     "execution_count": 8,
     "metadata": {},
     "output_type": "execute_result"
    }
   ],
   "source": [
    "bmk_log_reg.predict_proba(test)"
   ]
  },
  {
   "cell_type": "code",
   "execution_count": 9,
   "metadata": {},
   "outputs": [
    {
     "data": {
      "text/plain": [
       "array([[ 0.8618325 ,  0.13816744]], dtype=float32)"
      ]
     },
     "execution_count": 9,
     "metadata": {},
     "output_type": "execute_result"
    }
   ],
   "source": [
    "DL_model.predict(test, return_proba=True)"
   ]
  },
  {
   "cell_type": "markdown",
   "metadata": {},
   "source": [
    "#### 10 Test Reviews"
   ]
  },
  {
   "cell_type": "code",
   "execution_count": 21,
   "metadata": {},
   "outputs": [],
   "source": [
    "comparison_reviews = test_parser_zero_reviews[:10]\n",
    "comparison_parser_one = test_parser_one_reviews[:10]\n",
    "comparison_bmk_pred = [int(x) for x in bmk_log_reg.predict(comparison_parser_one)]\n",
    "comparison_dl_pred = DL_model.predict(comparison_parser_one, False)"
   ]
  },
  {
   "cell_type": "code",
   "execution_count": 25,
   "metadata": {},
   "outputs": [],
   "source": [
    "results = pd.DataFrame({'text' : comparison_reviews, \n",
    "                        'bmk_pred' : comparison_bmk_pred, \n",
    "                        'dl_pred' : comparison_dl_pred, \n",
    "                        'true' : [int(x) for x in test_scores[:10]]})"
   ]
  },
  {
   "cell_type": "code",
   "execution_count": 26,
   "metadata": {},
   "outputs": [
    {
     "data": {
      "text/html": [
       "<div>\n",
       "<style scoped>\n",
       "    .dataframe tbody tr th:only-of-type {\n",
       "        vertical-align: middle;\n",
       "    }\n",
       "\n",
       "    .dataframe tbody tr th {\n",
       "        vertical-align: top;\n",
       "    }\n",
       "\n",
       "    .dataframe thead th {\n",
       "        text-align: right;\n",
       "    }\n",
       "</style>\n",
       "<table border=\"1\" class=\"dataframe\">\n",
       "  <thead>\n",
       "    <tr style=\"text-align: right;\">\n",
       "      <th></th>\n",
       "      <th>bmk_pred</th>\n",
       "      <th>dl_pred</th>\n",
       "      <th>text</th>\n",
       "      <th>true</th>\n",
       "    </tr>\n",
       "  </thead>\n",
       "  <tbody>\n",
       "    <tr>\n",
       "      <th>0</th>\n",
       "      <td>1</td>\n",
       "      <td>1</td>\n",
       "      <td>bought this 1 lb merckens coco lite coatings t...</td>\n",
       "      <td>1</td>\n",
       "    </tr>\n",
       "    <tr>\n",
       "      <th>1</th>\n",
       "      <td>0</td>\n",
       "      <td>0</td>\n",
       "      <td>i didn't like this. i couldn't finish the enti...</td>\n",
       "      <td>0</td>\n",
       "    </tr>\n",
       "    <tr>\n",
       "      <th>2</th>\n",
       "      <td>1</td>\n",
       "      <td>1</td>\n",
       "      <td>i bought a package of these in amish country a...</td>\n",
       "      <td>1</td>\n",
       "    </tr>\n",
       "    <tr>\n",
       "      <th>3</th>\n",
       "      <td>1</td>\n",
       "      <td>1</td>\n",
       "      <td>i love this coffee, but i am having trouble fi...</td>\n",
       "      <td>1</td>\n",
       "    </tr>\n",
       "    <tr>\n",
       "      <th>4</th>\n",
       "      <td>1</td>\n",
       "      <td>1</td>\n",
       "      <td>the product was shipped fast and packaged in a...</td>\n",
       "      <td>1</td>\n",
       "    </tr>\n",
       "    <tr>\n",
       "      <th>5</th>\n",
       "      <td>1</td>\n",
       "      <td>1</td>\n",
       "      <td>nothing better than these pancakes with some c...</td>\n",
       "      <td>1</td>\n",
       "    </tr>\n",
       "    <tr>\n",
       "      <th>6</th>\n",
       "      <td>1</td>\n",
       "      <td>0</td>\n",
       "      <td>i purchased these candy bars and yes they are ...</td>\n",
       "      <td>0</td>\n",
       "    </tr>\n",
       "    <tr>\n",
       "      <th>7</th>\n",
       "      <td>1</td>\n",
       "      <td>1</td>\n",
       "      <td>this is really, really great tea. it's rich an...</td>\n",
       "      <td>1</td>\n",
       "    </tr>\n",
       "    <tr>\n",
       "      <th>8</th>\n",
       "      <td>0</td>\n",
       "      <td>1</td>\n",
       "      <td>this gum's flavor is more akin to orange, or b...</td>\n",
       "      <td>1</td>\n",
       "    </tr>\n",
       "    <tr>\n",
       "      <th>9</th>\n",
       "      <td>1</td>\n",
       "      <td>1</td>\n",
       "      <td>i have been buying this product since i discov...</td>\n",
       "      <td>1</td>\n",
       "    </tr>\n",
       "  </tbody>\n",
       "</table>\n",
       "</div>"
      ],
      "text/plain": [
       "   bmk_pred  dl_pred                                               text  true\n",
       "0         1        1  bought this 1 lb merckens coco lite coatings t...     1\n",
       "1         0        0  i didn't like this. i couldn't finish the enti...     0\n",
       "2         1        1  i bought a package of these in amish country a...     1\n",
       "3         1        1  i love this coffee, but i am having trouble fi...     1\n",
       "4         1        1  the product was shipped fast and packaged in a...     1\n",
       "5         1        1  nothing better than these pancakes with some c...     1\n",
       "6         1        0  i purchased these candy bars and yes they are ...     0\n",
       "7         1        1  this is really, really great tea. it's rich an...     1\n",
       "8         0        1  this gum's flavor is more akin to orange, or b...     1\n",
       "9         1        1  i have been buying this product since i discov...     1"
      ]
     },
     "execution_count": 26,
     "metadata": {},
     "output_type": "execute_result"
    }
   ],
   "source": [
    "results"
   ]
  },
  {
   "cell_type": "markdown",
   "metadata": {},
   "source": [
    "## Statistical test"
   ]
  },
  {
   "cell_type": "code",
   "execution_count": 32,
   "metadata": {},
   "outputs": [
    {
     "name": "stdout",
     "output_type": "stream",
     "text": [
      "AUC score for both models will be calculated on 363 samples.\n"
     ]
    }
   ],
   "source": [
    "# Extract sample of 100 test reviews and calculate AUC score using the benchmark model and the deep learning model\n",
    "sample_size = 100\n",
    "n_samples = len(test_parser_one_reviews)//sample_size\n",
    "print(\"AUC score for both models will be calculated on {} samples.\".format(n_samples))"
   ]
  },
  {
   "cell_type": "code",
   "execution_count": 55,
   "metadata": {},
   "outputs": [],
   "source": [
    "bmk_auc_samples = []\n",
    "dl_auc_samples = []\n",
    "for i in range(n_samples):\n",
    "    sample_reviews = test_parser_one_reviews[i*sample_size:i*sample_size+sample_size]\n",
    "    sample_scores = test_scores[i*sample_size:i*sample_size+sample_size]\n",
    "    \n",
    "    # Prediction for benchmark model\n",
    "    bmk_pred = bmk_log_reg.predict(sample_reviews)\n",
    "    \n",
    "    # Prediction for deep learning model\n",
    "    dl_pred = DL_model.predict(sample_reviews)\n",
    "    \n",
    "    # Calculate auc score for benchmark model\n",
    "    bmk_auc = roc_auc_score(sample_scores, bmk_pred)\n",
    "    \n",
    "    # Calculate auc score for deep learning model\n",
    "    dl_auc = roc_auc_score(sample_scores, dl_pred)\n",
    "    \n",
    "    # Append auc scores\n",
    "    bmk_auc_samples.append(bmk_auc)\n",
    "    dl_auc_samples.append(dl_auc)"
   ]
  },
  {
   "cell_type": "markdown",
   "metadata": {},
   "source": [
    "#### t-test"
   ]
  },
  {
   "cell_type": "code",
   "execution_count": 58,
   "metadata": {},
   "outputs": [
    {
     "data": {
      "text/plain": [
       "Ttest_relResult(statistic=-7.008825298937462, pvalue=1.1816195225222823e-11)"
      ]
     },
     "execution_count": 58,
     "metadata": {},
     "output_type": "execute_result"
    }
   ],
   "source": [
    "ttest_rel(bmk_auc_samples, dl_auc_samples)"
   ]
  }
 ],
 "metadata": {
  "kernelspec": {
   "display_name": "Python 3",
   "language": "python",
   "name": "python3"
  },
  "language_info": {
   "codemirror_mode": {
    "name": "ipython",
    "version": 3
   },
   "file_extension": ".py",
   "mimetype": "text/x-python",
   "name": "python",
   "nbconvert_exporter": "python",
   "pygments_lexer": "ipython3",
   "version": "3.6.4"
  }
 },
 "nbformat": 4,
 "nbformat_minor": 2
}
